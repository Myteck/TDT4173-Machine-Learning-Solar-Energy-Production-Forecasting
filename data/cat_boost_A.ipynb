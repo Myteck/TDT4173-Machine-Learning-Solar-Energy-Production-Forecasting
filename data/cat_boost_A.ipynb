{
 "cells": [
  {
   "cell_type": "markdown",
   "metadata": {},
   "source": [
    "#  Cat Boost\n",
    "\n",
    "The aim of this notebook is to try out XG-boost on our optimization problem. There is also some ideas and concepts that will overlap with other machine learning models. Some novel ideas related to the preprocessing step is in this file, but SHOULD be moved to a dedicated pre-processing library to make the puipeline easier to work with.\n",
    "\n",
    "*TODO: Create a preprocessing library*"
   ]
  },
  {
   "cell_type": "markdown",
   "metadata": {},
   "source": [
    "### Import the needed libraries"
   ]
  },
  {
   "cell_type": "code",
   "execution_count": 14,
   "metadata": {},
   "outputs": [],
   "source": [
    "\n",
    "# First we will extract the data, and save it to a csv.\n",
    "\n",
    "# Machine Learning Model\n",
    "import catboost as cb\n",
    "\n",
    "# Data Processing Tools\n",
    "import numpy as np\n",
    "import pandas as pd\n",
    "import seaborn as sns\n",
    "\n",
    "# Data Display Tools\n",
    "import matplotlib.pyplot as plt\n",
    "\n",
    "# Machine Learning Tools\n",
    "from sklearn.model_selection import train_test_split\n",
    "from sklearn.metrics import mean_absolute_error\n",
    "from sklearn.metrics import r2_score\n",
    "from sklearn.inspection import permutation_importance\n",
    "from sklearn.feature_selection import SelectKBest\n",
    "from sklearn.preprocessing import MinMaxScaler\n",
    "\n",
    "from sklearn.feature_selection import f_regression\n",
    "\n",
    "import feature_generation as feat_gen\n",
    "import data_processing as dat_proc\n",
    "\n",
    "%matplotlib inline\n",
    "\n"
   ]
  },
  {
   "cell_type": "markdown",
   "metadata": {},
   "source": [
    "### Extract data"
   ]
  },
  {
   "cell_type": "code",
   "execution_count": 15,
   "metadata": {},
   "outputs": [
    {
     "name": "stdout",
     "output_type": "stream",
     "text": [
      "<class 'pandas.core.frame.DataFrame'>\n",
      "RangeIndex: 34085 entries, 0 to 34084\n",
      "Data columns (total 2 columns):\n",
      " #   Column          Non-Null Count  Dtype         \n",
      "---  ------          --------------  -----         \n",
      " 0   time            34085 non-null  datetime64[us]\n",
      " 1   pv_measurement  34085 non-null  float64       \n",
      "dtypes: datetime64[us](1), float64(1)\n",
      "memory usage: 532.7 KB\n",
      "None\n"
     ]
    }
   ],
   "source": [
    "train_a = pd.read_parquet('A/train_targets.parquet')\n",
    "X_train_estimated_a = pd.read_parquet('A/X_train_estimated.parquet')\n",
    "X_train_observed_a = pd.read_parquet('A/X_train_observed.parquet')\n",
    "X_test_estimated_a = pd.read_parquet('A/X_test_estimated.parquet')\n",
    "\n",
    "print(train_a.info())"
   ]
  },
  {
   "cell_type": "markdown",
   "metadata": {},
   "source": [
    "### Preprocessing of data\n",
    "Notice that we for now have a whole block dedicated to preprocessing, but should rather be its own module."
   ]
  },
  {
   "cell_type": "code",
   "execution_count": 16,
   "metadata": {},
   "outputs": [
    {
     "name": "stderr",
     "output_type": "stream",
     "text": [
      "c:\\Users\\isakasa\\OneDrive - NTNU\\Documents\\UNI\\TDT4173 Machine Learning\\group-project\\TDT4173-Machine-Learning-Solar-Energy-Production-Forecasting\\data\\feature_generation.py:52: FutureWarning: DataFrame.fillna with 'method' is deprecated and will raise in a future version. Use obj.ffill() or obj.bfill() instead.\n",
      "  dder_df = dder_df.fillna(method=\"backfill\", axis=None)\n",
      "c:\\Users\\isakasa\\OneDrive - NTNU\\Documents\\UNI\\TDT4173 Machine Learning\\group-project\\TDT4173-Machine-Learning-Solar-Energy-Production-Forecasting\\data\\feature_generation.py:176: FutureWarning: DataFrame.groupby with axis=1 is deprecated. Do `frame.T.groupby(...)` without axis instead.\n",
      "  grouped_df = df.groupby(df.columns, axis=1).sum()\n"
     ]
    }
   ],
   "source": [
    "X_train_estimated_a = X_train_estimated_a.drop(\"date_calc\", axis = 1)\n",
    "\n",
    "X = pd.concat([X_train_observed_a, X_train_estimated_a], axis = 0, ignore_index=True)\n",
    "\n",
    "# Removing NaN values. If there are missing values treat start and end points as beginning and end of a line.\n",
    "X = X.interpolate(method='linear')\n",
    "X = X.bfill()\n",
    "\n",
    "# Extract necesarry values for feature generation.\n",
    "timestamps = \"date_forecast\"\n",
    "measurements = list(X.columns.values)\n",
    "measurements.remove(timestamps)\n",
    "\n",
    "# Probable features that may be used\n",
    "der_df = feat_gen.difference_df(X, timestamps, measurements)\n",
    "dder_df = feat_gen.double_derivative_from_df(X, timestamps, measurements)\n",
    "int_df = feat_gen.daily_accumulated_val_df(X, timestamps, measurements)\n",
    "dint_df = feat_gen.daily_accumulated_val_squared_df(X, timestamps, measurements)\n",
    "time_df = feat_gen.time_data_from_df(X, timestamps)\n",
    "\n",
    "\n",
    "X = pd.concat([X, der_df, dder_df, int_df, dint_df, time_df], axis = \"columns\")\n",
    "\n",
    "# best_features = ['direct_rad:W', 'sun_elevation:d', 'direct_rad_1h:J', 'diffuse_rad_1h:J', 'hour']\n",
    "# X = X[best_features + [\"date_forecast\"]]\n",
    "\n",
    "X = feat_gen.merge_features(X)\n",
    "\n",
    "y = train_a.dropna()\n",
    "\n",
    "# Additional features\n",
    "der_y = feat_gen.difference_df(y, \"time\", [\"pv_measurement\"])\n",
    "der_y_shifted = feat_gen.shifted_values_24_h(der_y, \"derivative_pv_measurement_d\")\n",
    "y_shifted =  feat_gen.shifted_values_24_h(y, \"pv_measurement\")\n",
    "\n",
    "# Adding together the added features to one dataframe.\n",
    "y_BIG = pd.concat([y, der_y_shifted, y_shifted])\n",
    "\n",
    "\n",
    "# Making sure that the two dataframes match in length.\n",
    "y_BIG, X = dat_proc.data_length_matching(y_BIG, X)\n",
    "\n",
    "# Get our desired output\n",
    "y = y_BIG[\"pv_measurement\"]\n",
    "y = y.reset_index(drop = True)\n",
    "\n",
    "# Removing datetime object column.\n",
    "y_features = y_BIG.drop('pv_measurement', axis=1)\n",
    "y_features = y_features.drop('time', axis=1)\n",
    "y_features = y_features.reset_index(drop = True)\n",
    "\n",
    "# Removing datetime object column\n",
    "X = X.reset_index(drop = True)\n",
    "X = X.drop(timestamps, axis=1)\n",
    "\n",
    "# Select wether you would like time dependent features or not-\n",
    "# X = pd.concat([X, y_features], axis = \"columns\")\n",
    "\n",
    "#X = SelectKBest(f_regression, k=12).fit_transform(X, y)"
   ]
  },
  {
   "cell_type": "code",
   "execution_count": 17,
   "metadata": {},
   "outputs": [
    {
     "name": "stdout",
     "output_type": "stream",
     "text": [
      "['time' 'pv_measurement' 'derivative_pv_measurement_dn-1'\n",
      " 'derivative_pv_measurement_dn-2' 'derivative_pv_measurement_dn-3'\n",
      " 'derivative_pv_measurement_dn-4' 'derivative_pv_measurement_dn-5'\n",
      " 'derivative_pv_measurement_dn-6' 'derivative_pv_measurement_dn-7'\n",
      " 'derivative_pv_measurement_dn-8' 'derivative_pv_measurement_dn-9'\n",
      " 'derivative_pv_measurement_dn-10' 'derivative_pv_measurement_dn-11'\n",
      " 'derivative_pv_measurement_dn-12' 'derivative_pv_measurement_dn-13'\n",
      " 'derivative_pv_measurement_dn-14' 'derivative_pv_measurement_dn-15'\n",
      " 'derivative_pv_measurement_dn-16' 'derivative_pv_measurement_dn-17'\n",
      " 'derivative_pv_measurement_dn-18' 'derivative_pv_measurement_dn-19'\n",
      " 'derivative_pv_measurement_dn-20' 'derivative_pv_measurement_dn-21'\n",
      " 'derivative_pv_measurement_dn-22' 'derivative_pv_measurement_dn-23'\n",
      " 'derivative_pv_measurement_dn-24' 'pv_measurementn-1' 'pv_measurementn-2'\n",
      " 'pv_measurementn-3' 'pv_measurementn-4' 'pv_measurementn-5'\n",
      " 'pv_measurementn-6' 'pv_measurementn-7' 'pv_measurementn-8'\n",
      " 'pv_measurementn-9' 'pv_measurementn-10' 'pv_measurementn-11'\n",
      " 'pv_measurementn-12' 'pv_measurementn-13' 'pv_measurementn-14'\n",
      " 'pv_measurementn-15' 'pv_measurementn-16' 'pv_measurementn-17'\n",
      " 'pv_measurementn-18' 'pv_measurementn-19' 'pv_measurementn-20'\n",
      " 'pv_measurementn-21' 'pv_measurementn-22' 'pv_measurementn-23'\n",
      " 'pv_measurementn-24']\n"
     ]
    }
   ],
   "source": [
    "print(y_BIG.columns.values)"
   ]
  },
  {
   "cell_type": "code",
   "execution_count": 18,
   "metadata": {},
   "outputs": [
    {
     "name": "stderr",
     "output_type": "stream",
     "text": [
      "c:\\Users\\isakasa\\AppData\\Local\\anaconda3\\envs\\basic_machine_learning\\Lib\\site-packages\\sklearn\\preprocessing\\_data.py:480: RuntimeWarning: All-NaN slice encountered\n",
      "  data_min = np.nanmin(X, axis=0)\n",
      "c:\\Users\\isakasa\\AppData\\Local\\anaconda3\\envs\\basic_machine_learning\\Lib\\site-packages\\sklearn\\preprocessing\\_data.py:481: RuntimeWarning: All-NaN slice encountered\n",
      "  data_max = np.nanmax(X, axis=0)\n"
     ]
    }
   ],
   "source": [
    "# DO we get a day or the \n",
    "X_train, X_test, y_train, y_test=train_test_split(X, y, test_size=0.15, shuffle=True)\n",
    "\n",
    "scaler = MinMaxScaler()\n",
    "\n",
    "# Fit and transform the data\n",
    "X_train = scaler.fit_transform(X_train)\n",
    "X_test = scaler.transform(X_test)"
   ]
  },
  {
   "cell_type": "markdown",
   "metadata": {},
   "source": [
    "## AI Training: CatBoost\n"
   ]
  },
  {
   "cell_type": "code",
   "execution_count": 19,
   "metadata": {},
   "outputs": [],
   "source": [
    "\n",
    "train_dataset = cb.Pool(X_train, y_train) \n",
    "test_dataset = cb.Pool(X_test, y_test)\n",
    "\n",
    "model = cb.CatBoostRegressor(loss_function=\"RMSE\", logging_level='Silent')\n",
    "\n",
    "grid = {'iterations': [100, 150, 200],\n",
    "        'learning_rate': [0.03, 0.1],\n",
    "        'depth': [2, 4, 6, 8],\n",
    "        'l2_leaf_reg': [0.2, 0.5, 1, 3]}\n",
    "model.grid_search(grid, train_dataset, verbose=False)\n",
    "\n",
    "\n",
    "pred = model.predict(X_test)\n",
    "mae = (mean_absolute_error(y_test, pred))\n",
    "r2 = r2_score(y_test, pred)\n",
    "print(\"Testing performance\")\n",
    "print(\"Mean Abs: {:.2f}\".format(mae))\n",
    "print(\"R2: {:.2f}\".format(r2))\n",
    "\n"
   ]
  },
  {
   "cell_type": "code",
   "execution_count": null,
   "metadata": {},
   "outputs": [
    {
     "name": "stdout",
     "output_type": "stream",
     "text": [
      "[('56', 22.49529779092101), ('219', 5.41074703301696), ('4', 5.35249983064565), ('54', 5.003044021962593), ('68', 2.2883952396229), ('57', 2.279327535099813), ('69', 1.8915927096732155), ('148', 1.8180779044750905), ('225', 1.7725979731230235), ('18', 1.722753611002651), ('17', 1.642816509126951), ('3', 1.5818252975789346), ('55', 1.5564656236222247), ('93', 1.440931942639057), ('137', 1.2382922721030671), ('199', 1.1085205389759634), ('221', 1.062240926710366), ('2', 1.0136678898698352), ('53', 0.978784303645123), ('6', 0.955740692341777), ('0', 0.8970460513339695), ('123', 0.8937875321558595), ('145', 0.8618507786693795), ('42', 0.8469516396381095), ('1', 0.8292325715828199), ('5', 0.8192480317012588), ('224', 0.7988976436900721), ('15', 0.7493329824566365), ('194', 0.7310930858488561), ('128', 0.7179108199106435), ('146', 0.7141447615522238), ('176', 0.7107818576069679), ('67', 0.699715343165745), ('226', 0.6838435114134346), ('212', 0.6834647434088151), ('204', 0.6581018292175752), ('61', 0.638946016288905), ('211', 0.6341369370183428), ('140', 0.610250289777856), ('198', 0.6009405721292794), ('16', 0.5924200936718708), ('191', 0.5827296617803992), ('133', 0.5254683141452599), ('186', 0.5233888820425385), ('108', 0.508288948970738), ('190', 0.4948526685272185), ('193', 0.48590689095628614), ('223', 0.48542497967939724), ('222', 0.48533977509804016), ('206', 0.47219795450474006), ('66', 0.4339078274727781), ('161', 0.4290740988994471), ('197', 0.4233982707229964), ('203', 0.41063063186967175), ('207', 0.4083051840845684), ('10', 0.3924494546283415), ('208', 0.37109436204582363), ('180', 0.3631906491747397), ('115', 0.3585072262045665), ('158', 0.35216587007912176), ('47', 0.3509182580746549), ('144', 0.3286951579228547), ('125', 0.325253311429751), ('9', 0.3156817679579593), ('96', 0.297343723682315), ('157', 0.2941989064867381), ('63', 0.2928508318344963), ('45', 0.2928132579563673), ('195', 0.2899391181258377), ('131', 0.28881758734058194), ('119', 0.28392493454074347), ('163', 0.26985001648240087), ('60', 0.2690795373573254), ('109', 0.26571245604441524), ('179', 0.2616382485180749), ('178', 0.2502866676034665), ('105', 0.24437844757279553), ('35', 0.2412105142962217), ('114', 0.24076580807878425), ('156', 0.24006689788384805), ('168', 0.23763542191503123), ('11', 0.23515779003807602), ('177', 0.22388390366674213), ('217', 0.21865685697061332), ('62', 0.21136949926626422), ('166', 0.21056210480116036), ('142', 0.20738100664599304), ('162', 0.2045543585126649), ('185', 0.20373040067161555), ('143', 0.19973577228379494), ('83', 0.1962649021870791), ('31', 0.18455091663035272), ('155', 0.1832140404481517), ('205', 0.1749224032812426), ('167', 0.1726401789710549), ('94', 0.1672136972632511), ('36', 0.16405699946164778), ('169', 0.15550972653291803), ('46', 0.1529619479917349), ('98', 0.15136982792302592)]\n",
      "direct_rad\n",
      "sun_elevation\n",
      "clear_sky_rad\n",
      "diffuse_rad\n",
      "double_derivative_direct_rad\n",
      "direct_rad_1h\n",
      "double_derivative_direct_rad_1h\n",
      "effective_cloud_cover\n",
      "wind_speed_u_10m\n",
      "derivative_direct_rad_1h\n",
      "derivative_direct_rad\n",
      "clear_sky_energy_1h\n",
      "diffuse_rad_1h\n",
      "double_derivative_sun_azimuth\n",
      "double_integral_snow_water\n",
      "integral_wind_speed_v_10m\n",
      "t_1000hPa\n",
      "ceiling_height_agl\n",
      "dew_point_2m\n",
      "day_of_year\n",
      "absolute_humidity_2m\n",
      "double_integral_is_in_shadow\n",
      "double_integral_wind_speed_u_10m\n",
      "derivative_sun_azimuth\n",
      "air_density_2m\n",
      "cloud_base_agl\n",
      "wind_speed_10m\n",
      "derivative_diffuse_rad\n",
      "integral_t_1000hPa\n",
      "double_integral_pressure_50m\n",
      "double_integral_wind_speed_v_10m\n",
      "integral_is_in_shadow\n",
      "double_derivative_diffuse_rad_1h\n",
      "wind_speed_v_10m\n",
      "sfc_pressure\n",
      "msl_pressure\n",
      "double_derivative_clear_sky_energy_1h\n",
      "relative_humidity_1000hPa\n",
      "double_integral_super_cooled_liquid_water\n",
      "integral_wind_speed_u_10m\n",
      "derivative_diffuse_rad_1h\n",
      "integral_sun_azimuth\n",
      "double_integral_snow_density\n",
      "integral_snow_density\n",
      "double_integral_cloud_base_agl\n",
      "integral_snow_water\n",
      "integral_super_cooled_liquid_water\n",
      "visibility\n",
      "total_cloud_cover\n",
      "precip_type_5min\n",
      "double_derivative_diffuse_rad\n",
      "integral_cloud_base_agl\n",
      "integral_wind_speed_10m\n",
      "month\n",
      "pressure_100m\n",
      "derivative_clear_sky_energy_1h\n",
      "pressure_50m\n",
      "integral_pressure_100m\n",
      "double_integral_effective_cloud_cover\n",
      "integral_ceiling_height_agl\n",
      "derivative_visibility\n",
      "double_integral_wind_speed_10m\n",
      "double_integral_precip_5min\n",
      "derivative_ceiling_height_agl\n",
      "double_derivative_t_1000hPa\n",
      "integral_air_density_2m\n",
      "double_derivative_cloud_base_agl\n",
      "derivative_t_1000hPa\n",
      "integral_total_cloud_cover\n",
      "double_integral_relative_humidity_1000hPa\n",
      "double_integral_fresh_snow_24h\n",
      "integral_dew_point_2m\n",
      "double_derivative_ceiling_height_agl\n",
      "double_integral_dew_or_rime\n",
      "integral_precip_type_5min\n",
      "integral_precip_5min\n",
      "double_integral_ceiling_height_agl\n",
      "derivative_relative_humidity_1000hPa\n",
      "double_integral_direct_rad_1h\n",
      "integral_absolute_humidity_2m\n",
      "integral_effective_cloud_cover\n",
      "derivative_clear_sky_rad\n",
      "integral_msl_pressure\n",
      "snow_water\n",
      "double_derivative_clear_sky_rad\n",
      "integral_direct_rad\n",
      "double_integral_total_cloud_cover\n",
      "integral_dew_or_rime\n",
      "integral_sfc_pressure\n",
      "double_integral_visibility\n",
      "double_derivative_pressure_50m\n",
      "derivative_pressure_100m\n",
      "hour\n",
      "precip_5min\n",
      "integral_direct_rad_1h\n",
      "double_derivative_sun_elevation\n",
      "derivative_sfc_pressure\n",
      "integral_elevation\n",
      "derivative_total_cloud_cover\n",
      "double_derivative_visibility\n",
      "['direct_rad', 'sun_elevation', 'clear_sky_rad', 'diffuse_rad', 'double_derivative_direct_rad', 'direct_rad_1h', 'double_derivative_direct_rad_1h', 'effective_cloud_cover', 'wind_speed_u_10m', 'derivative_direct_rad_1h', 'derivative_direct_rad', 'clear_sky_energy_1h', 'diffuse_rad_1h', 'double_derivative_sun_azimuth', 'double_integral_snow_water', 'integral_wind_speed_v_10m', 't_1000hPa', 'ceiling_height_agl', 'dew_point_2m', 'day_of_year', 'absolute_humidity_2m', 'double_integral_is_in_shadow', 'double_integral_wind_speed_u_10m', 'derivative_sun_azimuth', 'air_density_2m', 'cloud_base_agl', 'wind_speed_10m', 'derivative_diffuse_rad', 'integral_t_1000hPa', 'double_integral_pressure_50m', 'double_integral_wind_speed_v_10m', 'integral_is_in_shadow', 'double_derivative_diffuse_rad_1h', 'wind_speed_v_10m', 'sfc_pressure', 'msl_pressure', 'double_derivative_clear_sky_energy_1h', 'relative_humidity_1000hPa', 'double_integral_super_cooled_liquid_water', 'integral_wind_speed_u_10m', 'derivative_diffuse_rad_1h', 'integral_sun_azimuth', 'double_integral_snow_density', 'integral_snow_density', 'double_integral_cloud_base_agl', 'integral_snow_water', 'integral_super_cooled_liquid_water', 'visibility', 'total_cloud_cover', 'precip_type_5min', 'double_derivative_diffuse_rad', 'integral_cloud_base_agl', 'integral_wind_speed_10m', 'month', 'pressure_100m', 'derivative_clear_sky_energy_1h', 'pressure_50m', 'integral_pressure_100m', 'double_integral_effective_cloud_cover', 'integral_ceiling_height_agl', 'derivative_visibility', 'double_integral_wind_speed_10m', 'double_integral_precip_5min', 'derivative_ceiling_height_agl', 'double_derivative_t_1000hPa', 'integral_air_density_2m', 'double_derivative_cloud_base_agl', 'derivative_t_1000hPa', 'integral_total_cloud_cover', 'double_integral_relative_humidity_1000hPa', 'double_integral_fresh_snow_24h', 'integral_dew_point_2m', 'double_derivative_ceiling_height_agl', 'double_integral_dew_or_rime', 'integral_precip_type_5min', 'integral_precip_5min', 'double_integral_ceiling_height_agl', 'derivative_relative_humidity_1000hPa', 'double_integral_direct_rad_1h', 'integral_absolute_humidity_2m', 'integral_effective_cloud_cover', 'derivative_clear_sky_rad', 'integral_msl_pressure', 'snow_water', 'double_derivative_clear_sky_rad', 'integral_direct_rad', 'double_integral_total_cloud_cover', 'integral_dew_or_rime', 'integral_sfc_pressure', 'double_integral_visibility', 'double_derivative_pressure_50m', 'derivative_pressure_100m', 'hour', 'precip_5min', 'integral_direct_rad_1h', 'double_derivative_sun_elevation', 'derivative_sfc_pressure', 'integral_elevation', 'derivative_total_cloud_cover', 'double_derivative_visibility']\n"
     ]
    }
   ],
   "source": [
    "N = 100\n",
    "\n",
    "feature_importance = model.get_feature_importance()\n",
    "\n",
    "# Pair feature names with their importance scores\n",
    "feature_importance_dict = dict(zip(model.feature_names_, feature_importance))\n",
    "\n",
    "# Sort features by importance\n",
    "sorted_feature_importance = sorted(feature_importance_dict.items(), key=lambda x: x[1], reverse=True)\n",
    "\n",
    "# Print or use the top features\n",
    "top_features = sorted_feature_importance[:N]  # Replace N with the number of top features you want\n",
    "print(top_features)\n",
    "labels = list(X.columns.values)\n",
    "\n",
    "best_features = []\n",
    "for feat in top_features:\n",
    "    print(labels[int(feat[0])])\n",
    "    best_features.append(labels[int(feat[0])])\n",
    "print(best_features)"
   ]
  },
  {
   "cell_type": "code",
   "execution_count": null,
   "metadata": {},
   "outputs": [
    {
     "name": "stderr",
     "output_type": "stream",
     "text": [
      "c:\\Users\\isakasa\\OneDrive - NTNU\\Documents\\UNI\\TDT4173 Machine Learning\\group-project\\TDT4173-Machine-Learning-Solar-Energy-Production-Forecasting\\data\\feature_generation.py:52: FutureWarning: DataFrame.fillna with 'method' is deprecated and will raise in a future version. Use obj.ffill() or obj.bfill() instead.\n",
      "  dder_df = dder_df.fillna(method=\"backfill\", axis=None)\n",
      "c:\\Users\\isakasa\\OneDrive - NTNU\\Documents\\UNI\\TDT4173 Machine Learning\\group-project\\TDT4173-Machine-Learning-Solar-Energy-Production-Forecasting\\data\\feature_generation.py:176: FutureWarning: DataFrame.groupby with axis=1 is deprecated. Do `frame.T.groupby(...)` without axis instead.\n",
      "  grouped_df = df.groupby(df.columns, axis=1).sum()\n"
     ]
    }
   ],
   "source": [
    "# Predict\n",
    "\n",
    "X_valid = X_test_estimated_a\n",
    "# Removing NaN values. If there are missing values treat start and end points as beginning and end of a line.\n",
    "X_valid = X_valid.interpolate(method='linear')\n",
    "X_valid = X_valid.bfill()\n",
    "\n",
    "# Extract necesarry values for feature generation.\n",
    "timestamps = \"date_forecast\"\n",
    "measurements = list(X_valid.columns.values)\n",
    "measurements.remove(\"date_forecast\")\n",
    "measurements.remove(\"date_calc\")\n",
    "\n",
    "\n",
    "# Probable features that may be used\n",
    "der_df = feat_gen.difference_df(X_valid, timestamps, measurements)\n",
    "dder_df = feat_gen.double_derivative_from_df(X_valid, timestamps, measurements)\n",
    "int_df = feat_gen.daily_accumulated_val_df(X_valid, timestamps, measurements)\n",
    "dint_df = feat_gen.daily_accumulated_val_squared_df(X_valid, timestamps, measurements)\n",
    "time_df = feat_gen.time_data_from_df(X_valid, timestamps)\n",
    "\n",
    "X_valid = pd.concat([X_valid, der_df, dder_df, int_df, dint_df, time_df], axis = \"columns\")\n",
    "\n",
    "# best_features = ['direct_rad:W', 'sun_elevation:d', 'direct_rad_1h:J', 'diffuse_rad_1h:J', 'hour']\n",
    "# X_valid = X_valid[best_features]\n",
    "X_valid = X_valid.drop(\"date_forecast\", axis = 1)\n",
    "X_valid = X_valid.drop(\"date_calc\", axis = 1)\n",
    "\n",
    "feat_gen.merge_features(X_valid)\n",
    "\n",
    "\n",
    "pred = model.predict(X_valid)\n",
    "pred_df = pd.DataFrame(pred)\n",
    "pred_df.to_csv('A_Pred.csv')"
   ]
  },
  {
   "cell_type": "markdown",
   "metadata": {},
   "source": [
    "### Plotting\n",
    "Adding a set of plotts to see how well the machine-learning model performs graphically.\n",
    "\n",
    "TODO: We should probably plot the data-values that perform the worst."
   ]
  },
  {
   "cell_type": "code",
   "execution_count": null,
   "metadata": {},
   "outputs": [
    {
     "data": {
      "image/png": "[encoded data removed]",
      "text/plain": [
       "<Figure size 640x480 with 1 Axes>"
      ]
     },
     "metadata": {},
     "output_type": "display_data"
    }
   ],
   "source": [
    "# Create a set of predictors :/\n",
    "# Predict when 0\n",
    "# Predict when larger than 0\n",
    "# Predict when max value occurs\n",
    "# PRedict when \n",
    " \n",
    "x_ax = range(len(pred))\n",
    "\n",
    "plt.plot(x_ax, pred[:], lw=0.8, color=\"red\", label=\"predicted\")\n",
    "\n",
    "plt.legend()\n",
    "plt.show()\n"
   ]
  },
  {
   "cell_type": "markdown",
   "metadata": {},
   "source": []
  }
 ],
 "metadata": {
  "kernelspec": {
   "display_name": "basic_machine_learning",
   "language": "python",
   "name": "python3"
  },
  "language_info": {
   "codemirror_mode": {
    "name": "ipython",
    "version": 3
   },
   "file_extension": ".py",
   "mimetype": "text/x-python",
   "name": "python",
   "nbconvert_exporter": "python",
   "pygments_lexer": "ipython3",
   "version": "3.11.4"
  },
  "orig_nbformat": 4
 },
 "nbformat": 4,
 "nbformat_minor": 2
}
