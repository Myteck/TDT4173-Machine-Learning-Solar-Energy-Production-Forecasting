{
 "cells": [
  {
   "cell_type": "markdown",
   "metadata": {},
   "source": [
    "#  Cat Boost\n",
    "\n",
    "The aim of this notebook is to try out XG-boost on our optimization problem. There is also some ideas and concepts that will overlap with other machine learning models. Some novel ideas related to the preprocessing step is in this file, but SHOULD be moved to a dedicated pre-processing library to make the puipeline easier to work with.\n",
    "\n",
    "*TODO: Create a preprocessing library*"
   ]
  },
  {
   "cell_type": "markdown",
   "metadata": {},
   "source": [
    "### Import the needed libraries"
   ]
  },
  {
   "cell_type": "code",
   "execution_count": 10,
   "metadata": {},
   "outputs": [],
   "source": [
    "\n",
    "# First we will extract the data, and save it to a csv.\n",
    "\n",
    "# Machine Learning Model\n",
    "import catboost as cb\n",
    "\n",
    "# Data Processing Tools\n",
    "import numpy as np\n",
    "import pandas as pd\n",
    "import seaborn as sns\n",
    "\n",
    "# Data Display Tools\n",
    "import matplotlib.pyplot as plt\n",
    "\n",
    "# Machine Learning Tools\n",
    "from sklearn.model_selection import train_test_split\n",
    "from sklearn.metrics import mean_absolute_error\n",
    "from sklearn.metrics import r2_score\n",
    "from sklearn.inspection import permutation_importance\n",
    "from sklearn.feature_selection import SelectKBest\n",
    "from sklearn.preprocessing import MinMaxScaler\n",
    "\n",
    "from sklearn.feature_selection import f_regression\n",
    "\n",
    "import feature_generation as feat_gen\n",
    "import data_processing as dat_proc\n",
    "\n",
    "%matplotlib inline\n",
    "\n"
   ]
  },
  {
   "cell_type": "markdown",
   "metadata": {},
   "source": [
    "### Extract data"
   ]
  },
  {
   "cell_type": "code",
   "execution_count": 11,
   "metadata": {},
   "outputs": [
    {
     "name": "stdout",
     "output_type": "stream",
     "text": [
      "<class 'pandas.core.frame.DataFrame'>\n",
      "RangeIndex: 34085 entries, 0 to 34084\n",
      "Data columns (total 2 columns):\n",
      " #   Column          Non-Null Count  Dtype         \n",
      "---  ------          --------------  -----         \n",
      " 0   time            34085 non-null  datetime64[us]\n",
      " 1   pv_measurement  34085 non-null  float64       \n",
      "dtypes: datetime64[us](1), float64(1)\n",
      "memory usage: 532.7 KB\n",
      "None\n"
     ]
    }
   ],
   "source": [
    "train_a = pd.read_parquet('A/train_targets.parquet')\n",
    "X_train_estimated_a = pd.read_parquet('A/X_train_estimated.parquet')\n",
    "X_train_observed_a = pd.read_parquet('A/X_train_observed.parquet')\n",
    "X_test_estimated_a = pd.read_parquet('A/X_test_estimated.parquet')\n",
    "\n",
    "print(train_a.info())"
   ]
  },
  {
   "cell_type": "markdown",
   "metadata": {},
   "source": [
    "### Preprocessing of data\n",
    "Notice that we for now have a whole block dedicated to preprocessing, but should rather be its own module."
   ]
  },
  {
   "cell_type": "code",
   "execution_count": 12,
   "metadata": {},
   "outputs": [
    {
     "name": "stderr",
     "output_type": "stream",
     "text": [
      "c:\\Users\\isakasa\\OneDrive - NTNU\\Documents\\UNI\\TDT4173 Machine Learning\\group-project\\TDT4173-Machine-Learning-Solar-Energy-Production-Forecasting\\data\\feature_generation.py:52: FutureWarning: DataFrame.fillna with 'method' is deprecated and will raise in a future version. Use obj.ffill() or obj.bfill() instead.\n",
      "  dder_df = dder_df.fillna(method=\"backfill\", axis=None)\n"
     ]
    }
   ],
   "source": [
    "X_train_estimated_a = X_train_estimated_a.drop(\"date_calc\", axis = 1)\n",
    "\n",
    "X = pd.concat([X_train_observed_a, X_train_estimated_a], axis = 0, ignore_index=True)\n",
    "\n",
    "# Removing NaN values. If there are missing values treat start and end points as beginning and end of a line.\n",
    "X = X.interpolate(method='linear')\n",
    "X = X.bfill()\n",
    "\n",
    "# Extract necesarry values for feature generation.\n",
    "timestamps = \"date_forecast\"\n",
    "measurements = list(X.columns.values)\n",
    "measurements.remove(timestamps)\n",
    "\n",
    "# Probable features that may be used\n",
    "der_df = feat_gen.difference_df(X, timestamps, measurements)\n",
    "dder_df = feat_gen.double_derivative_from_df(X, timestamps, measurements)\n",
    "int_df = feat_gen.daily_accumulated_val_df(X, timestamps, measurements)\n",
    "dint_df = feat_gen.daily_accumulated_val_squared_df(X, timestamps, measurements)\n",
    "time_df = feat_gen.time_data_from_df(X, timestamps)\n",
    "\n",
    "\n",
    "X = pd.concat([X, der_df, dder_df, int_df, dint_df, time_df], axis = \"columns\")\n",
    "\n",
    "best_features = ['direct_rad:W', 'sun_elevation:d', 'direct_rad_1h:J', 'diffuse_rad_1h:J']\n",
    "X = X[best_features + [\"date_forecast\"]]\n",
    "\n",
    "y = train_a.dropna()\n",
    "\n",
    "# Additional features\n",
    "der_y = feat_gen.difference_df(y, \"time\", [\"pv_measurement\"])\n",
    "der_y_shifted = feat_gen.shifted_values_24_h(der_y, \"derivative_pv_measurement\")\n",
    "y_shifted =  feat_gen.shifted_values_24_h(y, \"pv_measurement\")\n",
    "\n",
    "# Adding together the added features to one dataframe.\n",
    "y_BIG = pd.concat([y, der_y_shifted, y_shifted])\n",
    "\n",
    "\n",
    "# Making sure that the two dataframes match in length.\n",
    "y_BIG, X = dat_proc.data_length_matching(y_BIG, X)\n",
    "\n",
    "# Get our desired output\n",
    "y = y_BIG[\"pv_measurement\"]\n",
    "y = y.reset_index(drop = True)\n",
    "\n",
    "# Removing datetime object column.\n",
    "y_features = y_BIG.drop('pv_measurement', axis=1)\n",
    "y_features = y_features.drop('time', axis=1)\n",
    "y_features = y_features.reset_index(drop = True)\n",
    "\n",
    "# Removing datetime object column\n",
    "X = X.reset_index(drop = True)\n",
    "X = X.drop(timestamps, axis=1)\n",
    "\n",
    "# Select wether you would like time dependent features or not-\n",
    "#X = pd.concat([X, y_features], axis = \"columns\")\n",
    "\n",
    "#X = SelectKBest(f_regression, k=12).fit_transform(X, y)"
   ]
  },
  {
   "cell_type": "code",
   "execution_count": 13,
   "metadata": {},
   "outputs": [
    {
     "name": "stdout",
     "output_type": "stream",
     "text": [
      "['time' 'pv_measurement' 'derivative_pv_measurementn-1'\n",
      " 'derivative_pv_measurementn-2' 'derivative_pv_measurementn-3'\n",
      " 'derivative_pv_measurementn-4' 'derivative_pv_measurementn-5'\n",
      " 'derivative_pv_measurementn-6' 'derivative_pv_measurementn-7'\n",
      " 'derivative_pv_measurementn-8' 'derivative_pv_measurementn-9'\n",
      " 'derivative_pv_measurementn-10' 'derivative_pv_measurementn-11'\n",
      " 'derivative_pv_measurementn-12' 'derivative_pv_measurementn-13'\n",
      " 'derivative_pv_measurementn-14' 'derivative_pv_measurementn-15'\n",
      " 'derivative_pv_measurementn-16' 'derivative_pv_measurementn-17'\n",
      " 'derivative_pv_measurementn-18' 'derivative_pv_measurementn-19'\n",
      " 'derivative_pv_measurementn-20' 'derivative_pv_measurementn-21'\n",
      " 'derivative_pv_measurementn-22' 'derivative_pv_measurementn-23'\n",
      " 'derivative_pv_measurementn-24' 'pv_measurementn-1' 'pv_measurementn-2'\n",
      " 'pv_measurementn-3' 'pv_measurementn-4' 'pv_measurementn-5'\n",
      " 'pv_measurementn-6' 'pv_measurementn-7' 'pv_measurementn-8'\n",
      " 'pv_measurementn-9' 'pv_measurementn-10' 'pv_measurementn-11'\n",
      " 'pv_measurementn-12' 'pv_measurementn-13' 'pv_measurementn-14'\n",
      " 'pv_measurementn-15' 'pv_measurementn-16' 'pv_measurementn-17'\n",
      " 'pv_measurementn-18' 'pv_measurementn-19' 'pv_measurementn-20'\n",
      " 'pv_measurementn-21' 'pv_measurementn-22' 'pv_measurementn-23'\n",
      " 'pv_measurementn-24']\n"
     ]
    }
   ],
   "source": [
    "print(y_BIG.columns.values)"
   ]
  },
  {
   "cell_type": "code",
   "execution_count": 14,
   "metadata": {},
   "outputs": [],
   "source": [
    "# DO we get a day or the \n",
    "X_train, X_test, y_train, y_test=train_test_split(X, y, test_size=0.15, shuffle=True)\n",
    "\n",
    "scaler = MinMaxScaler()\n",
    "\n",
    "# Fit and transform the data\n",
    "X_train = scaler.fit_transform(X_train)\n",
    "X_test = scaler.transform(X_test)"
   ]
  },
  {
   "cell_type": "markdown",
   "metadata": {},
   "source": [
    "## AI Training: CatBoost\n"
   ]
  },
  {
   "cell_type": "code",
   "execution_count": 15,
   "metadata": {},
   "outputs": [
    {
     "name": "stdout",
     "output_type": "stream",
     "text": [
      "Testing performance\n",
      "Mean Abs: 227.36\n",
      "R2: 0.82\n"
     ]
    }
   ],
   "source": [
    "\n",
    "train_dataset = cb.Pool(X_train, y_train) \n",
    "test_dataset = cb.Pool(X_test, y_test)\n",
    "\n",
    "model = cb.CatBoostRegressor(loss_function=\"RMSE\", logging_level='Silent')\n",
    "\n",
    "grid = {'iterations': [100, 150, 200],\n",
    "        'learning_rate': [0.03, 0.1],\n",
    "        'depth': [2, 4, 6, 8],\n",
    "        'l2_leaf_reg': [0.2, 0.5, 1, 3]}\n",
    "model.grid_search(grid, train_dataset, verbose=False)\n",
    "\n",
    "\n",
    "pred = model.predict(X_test)\n",
    "mae = (mean_absolute_error(y_test, pred))\n",
    "r2 = r2_score(y_test, pred)\n",
    "print(\"Testing performance\")\n",
    "print(\"Mean Abs: {:.2f}\".format(mae))\n",
    "print(\"R2: {:.2f}\".format(r2))\n",
    "\n"
   ]
  },
  {
   "cell_type": "code",
   "execution_count": 16,
   "metadata": {},
   "outputs": [
    {
     "name": "stdout",
     "output_type": "stream",
     "text": [
      "[('0', 47.81271396175972), ('1', 22.671519095334048), ('2', 16.274486104252418), ('3', 13.241280838653811)]\n",
      "direct_rad:W\n",
      "sun_elevation:d\n",
      "direct_rad_1h:J\n",
      "diffuse_rad_1h:J\n",
      "['direct_rad:W', 'sun_elevation:d', 'direct_rad_1h:J', 'diffuse_rad_1h:J']\n"
     ]
    }
   ],
   "source": [
    "N = 100\n",
    "\n",
    "feature_importance = model.get_feature_importance()\n",
    "\n",
    "# Pair feature names with their importance scores\n",
    "feature_importance_dict = dict(zip(model.feature_names_, feature_importance))\n",
    "\n",
    "# Sort features by importance\n",
    "sorted_feature_importance = sorted(feature_importance_dict.items(), key=lambda x: x[1], reverse=True)\n",
    "\n",
    "# Print or use the top features\n",
    "top_features = sorted_feature_importance[:N]  # Replace N with the number of top features you want\n",
    "print(top_features)\n",
    "labels = list(X.columns.values)\n",
    "\n",
    "best_features = []\n",
    "for feat in top_features:\n",
    "    print(labels[int(feat[0])])\n",
    "    best_features.append(labels[int(feat[0])])\n",
    "print(best_features)"
   ]
  },
  {
   "cell_type": "code",
   "execution_count": 18,
   "metadata": {},
   "outputs": [
    {
     "name": "stderr",
     "output_type": "stream",
     "text": [
      "c:\\Users\\isakasa\\OneDrive - NTNU\\Documents\\UNI\\TDT4173 Machine Learning\\group-project\\TDT4173-Machine-Learning-Solar-Energy-Production-Forecasting\\data\\feature_generation.py:52: FutureWarning: DataFrame.fillna with 'method' is deprecated and will raise in a future version. Use obj.ffill() or obj.bfill() instead.\n",
      "  dder_df = dder_df.fillna(method=\"backfill\", axis=None)\n"
     ]
    },
    {
     "ename": "CatBoostError",
     "evalue": "Bad value for num_feature[non_default_doc_idx=0,feature_idx=4]=\"2023-05-01T00:00:00.000000\": Cannot convert obj 2023-05-01T00:00:00.000000 to float",
     "output_type": "error",
     "traceback": [
      "\u001b[1;31m---------------------------------------------------------------------------\u001b[0m",
      "\u001b[1;31mTypeError\u001b[0m                                 Traceback (most recent call last)",
      "File \u001b[1;32m_catboost.pyx:1144\u001b[0m, in \u001b[0;36m_catboost._FloatOrNan\u001b[1;34m()\u001b[0m\n",
      "\u001b[1;31mTypeError\u001b[0m: float() argument must be a string or a real number, not 'datetime.datetime'",
      "\nDuring handling of the above exception, another exception occurred:\n",
      "\u001b[1;31mTypeError\u001b[0m                                 Traceback (most recent call last)",
      "File \u001b[1;32m_catboost.pyx:2309\u001b[0m, in \u001b[0;36m_catboost.get_float_feature\u001b[1;34m()\u001b[0m\n",
      "File \u001b[1;32m_catboost.pyx:1146\u001b[0m, in \u001b[0;36m_catboost._FloatOrNan\u001b[1;34m()\u001b[0m\n",
      "\u001b[1;31mTypeError\u001b[0m: Cannot convert obj 2023-05-01T00:00:00.000000 to float",
      "\nDuring handling of the above exception, another exception occurred:\n",
      "\u001b[1;31mCatBoostError\u001b[0m                             Traceback (most recent call last)",
      "\u001b[1;32mc:\\Users\\isakasa\\OneDrive - NTNU\\Documents\\UNI\\TDT4173 Machine Learning\\group-project\\TDT4173-Machine-Learning-Solar-Energy-Production-Forecasting\\data\\cat_boost_A.ipynb Cell 13\u001b[0m line \u001b[0;36m2\n\u001b[0;32m     <a href='vscode-notebook-cell:/c%3A/Users/isakasa/OneDrive%20-%20NTNU/Documents/UNI/TDT4173%20Machine%20Learning/group-project/TDT4173-Machine-Learning-Solar-Energy-Production-Forecasting/data/cat_boost_A.ipynb#X23sZmlsZQ%3D%3D?line=23'>24</a>\u001b[0m best_features \u001b[39m=\u001b[39m [\u001b[39m'\u001b[39m\u001b[39mdirect_rad:W\u001b[39m\u001b[39m'\u001b[39m, \u001b[39m'\u001b[39m\u001b[39msun_elevation:d\u001b[39m\u001b[39m'\u001b[39m, \u001b[39m'\u001b[39m\u001b[39mdirect_rad_1h:J\u001b[39m\u001b[39m'\u001b[39m, \u001b[39m'\u001b[39m\u001b[39mdiffuse_rad_1h:J\u001b[39m\u001b[39m'\u001b[39m]\n\u001b[0;32m     <a href='vscode-notebook-cell:/c%3A/Users/isakasa/OneDrive%20-%20NTNU/Documents/UNI/TDT4173%20Machine%20Learning/group-project/TDT4173-Machine-Learning-Solar-Energy-Production-Forecasting/data/cat_boost_A.ipynb#X23sZmlsZQ%3D%3D?line=24'>25</a>\u001b[0m X_valid \u001b[39m=\u001b[39m X_valid[best_features \u001b[39m+\u001b[39m [\u001b[39m\"\u001b[39m\u001b[39mdate_forecast\u001b[39m\u001b[39m\"\u001b[39m]]\n\u001b[1;32m---> <a href='vscode-notebook-cell:/c%3A/Users/isakasa/OneDrive%20-%20NTNU/Documents/UNI/TDT4173%20Machine%20Learning/group-project/TDT4173-Machine-Learning-Solar-Energy-Production-Forecasting/data/cat_boost_A.ipynb#X23sZmlsZQ%3D%3D?line=27'>28</a>\u001b[0m pred \u001b[39m=\u001b[39m model\u001b[39m.\u001b[39;49mpredict(X_valid)\n\u001b[0;32m     <a href='vscode-notebook-cell:/c%3A/Users/isakasa/OneDrive%20-%20NTNU/Documents/UNI/TDT4173%20Machine%20Learning/group-project/TDT4173-Machine-Learning-Solar-Energy-Production-Forecasting/data/cat_boost_A.ipynb#X23sZmlsZQ%3D%3D?line=28'>29</a>\u001b[0m pred_df \u001b[39m=\u001b[39m pd\u001b[39m.\u001b[39mDataFrame(pred)\n\u001b[0;32m     <a href='vscode-notebook-cell:/c%3A/Users/isakasa/OneDrive%20-%20NTNU/Documents/UNI/TDT4173%20Machine%20Learning/group-project/TDT4173-Machine-Learning-Solar-Energy-Production-Forecasting/data/cat_boost_A.ipynb#X23sZmlsZQ%3D%3D?line=29'>30</a>\u001b[0m pred_df\u001b[39m.\u001b[39mto_csv(\u001b[39m'\u001b[39m\u001b[39mA_Pred.csv\u001b[39m\u001b[39m'\u001b[39m)\n",
      "File \u001b[1;32mc:\\Users\\isakasa\\AppData\\Local\\anaconda3\\envs\\basic_machine_learning\\Lib\\site-packages\\catboost\\core.py:5748\u001b[0m, in \u001b[0;36mCatBoostRegressor.predict\u001b[1;34m(self, data, prediction_type, ntree_start, ntree_end, thread_count, verbose, task_type)\u001b[0m\n\u001b[0;32m   5746\u001b[0m \u001b[39mif\u001b[39;00m prediction_type \u001b[39mis\u001b[39;00m \u001b[39mNone\u001b[39;00m:\n\u001b[0;32m   5747\u001b[0m     prediction_type \u001b[39m=\u001b[39m \u001b[39mself\u001b[39m\u001b[39m.\u001b[39m_get_default_prediction_type()\n\u001b[1;32m-> 5748\u001b[0m \u001b[39mreturn\u001b[39;00m \u001b[39mself\u001b[39;49m\u001b[39m.\u001b[39;49m_predict(data, prediction_type, ntree_start, ntree_end, thread_count, verbose, \u001b[39m'\u001b[39;49m\u001b[39mpredict\u001b[39;49m\u001b[39m'\u001b[39;49m, task_type)\n",
      "File \u001b[1;32mc:\\Users\\isakasa\\AppData\\Local\\anaconda3\\envs\\basic_machine_learning\\Lib\\site-packages\\catboost\\core.py:2505\u001b[0m, in \u001b[0;36mCatBoost._predict\u001b[1;34m(self, data, prediction_type, ntree_start, ntree_end, thread_count, verbose, parent_method_name, task_type)\u001b[0m\n\u001b[0;32m   2503\u001b[0m \u001b[39mif\u001b[39;00m verbose \u001b[39mis\u001b[39;00m \u001b[39mNone\u001b[39;00m:\n\u001b[0;32m   2504\u001b[0m     verbose \u001b[39m=\u001b[39m \u001b[39mFalse\u001b[39;00m\n\u001b[1;32m-> 2505\u001b[0m data, data_is_single_object \u001b[39m=\u001b[39m \u001b[39mself\u001b[39;49m\u001b[39m.\u001b[39;49m_process_predict_input_data(data, parent_method_name, thread_count)\n\u001b[0;32m   2506\u001b[0m \u001b[39mself\u001b[39m\u001b[39m.\u001b[39m_validate_prediction_type(prediction_type)\n\u001b[0;32m   2508\u001b[0m predictions \u001b[39m=\u001b[39m \u001b[39mself\u001b[39m\u001b[39m.\u001b[39m_base_predict(data, prediction_type, ntree_start, ntree_end, thread_count, verbose, task_type)\n",
      "File \u001b[1;32mc:\\Users\\isakasa\\AppData\\Local\\anaconda3\\envs\\basic_machine_learning\\Lib\\site-packages\\catboost\\core.py:2485\u001b[0m, in \u001b[0;36mCatBoost._process_predict_input_data\u001b[1;34m(self, data, parent_method_name, thread_count, label)\u001b[0m\n\u001b[0;32m   2483\u001b[0m is_single_object \u001b[39m=\u001b[39m _is_data_single_object(data)\n\u001b[0;32m   2484\u001b[0m \u001b[39mif\u001b[39;00m \u001b[39mnot\u001b[39;00m \u001b[39misinstance\u001b[39m(data, Pool):\n\u001b[1;32m-> 2485\u001b[0m     data \u001b[39m=\u001b[39m Pool(\n\u001b[0;32m   2486\u001b[0m         data\u001b[39m=\u001b[39;49m[data] \u001b[39mif\u001b[39;49;00m is_single_object \u001b[39melse\u001b[39;49;00m data,\n\u001b[0;32m   2487\u001b[0m         label\u001b[39m=\u001b[39;49mlabel,\n\u001b[0;32m   2488\u001b[0m         cat_features\u001b[39m=\u001b[39;49m\u001b[39mself\u001b[39;49m\u001b[39m.\u001b[39;49m_get_cat_feature_indices() \u001b[39mif\u001b[39;49;00m \u001b[39mnot\u001b[39;49;00m \u001b[39misinstance\u001b[39;49m(data, FeaturesData) \u001b[39melse\u001b[39;49;00m \u001b[39mNone\u001b[39;49;00m,\n\u001b[0;32m   2489\u001b[0m         text_features\u001b[39m=\u001b[39;49m\u001b[39mself\u001b[39;49m\u001b[39m.\u001b[39;49m_get_text_feature_indices() \u001b[39mif\u001b[39;49;00m \u001b[39mnot\u001b[39;49;00m \u001b[39misinstance\u001b[39;49m(data, FeaturesData) \u001b[39melse\u001b[39;49;00m \u001b[39mNone\u001b[39;49;00m,\n\u001b[0;32m   2490\u001b[0m         embedding_features\u001b[39m=\u001b[39;49m\u001b[39mself\u001b[39;49m\u001b[39m.\u001b[39;49m_get_embedding_feature_indices() \u001b[39mif\u001b[39;49;00m \u001b[39mnot\u001b[39;49;00m \u001b[39misinstance\u001b[39;49m(data, FeaturesData) \u001b[39melse\u001b[39;49;00m \u001b[39mNone\u001b[39;49;00m,\n\u001b[0;32m   2491\u001b[0m         thread_count\u001b[39m=\u001b[39;49mthread_count\n\u001b[0;32m   2492\u001b[0m     )\n\u001b[0;32m   2493\u001b[0m \u001b[39mreturn\u001b[39;00m data, is_single_object\n",
      "File \u001b[1;32mc:\\Users\\isakasa\\AppData\\Local\\anaconda3\\envs\\basic_machine_learning\\Lib\\site-packages\\catboost\\core.py:793\u001b[0m, in \u001b[0;36mPool.__init__\u001b[1;34m(self, data, label, cat_features, text_features, embedding_features, embedding_features_data, column_description, pairs, delimiter, has_header, ignore_csv_quoting, weight, group_id, group_weight, subgroup_id, pairs_weight, baseline, timestamp, feature_names, feature_tags, thread_count, log_cout, log_cerr)\u001b[0m\n\u001b[0;32m    787\u001b[0m         \u001b[39mif\u001b[39;00m \u001b[39misinstance\u001b[39m(feature_names, PATH_TYPES):\n\u001b[0;32m    788\u001b[0m             \u001b[39mraise\u001b[39;00m CatBoostError(\n\u001b[0;32m    789\u001b[0m                 \u001b[39m\"\u001b[39m\u001b[39mfeature_names must be None or have non-string type when the pool is created from \u001b[39m\u001b[39m\"\u001b[39m\n\u001b[0;32m    790\u001b[0m                 \u001b[39m\"\u001b[39m\u001b[39mpython objects.\u001b[39m\u001b[39m\"\u001b[39m\n\u001b[0;32m    791\u001b[0m             )\n\u001b[1;32m--> 793\u001b[0m         \u001b[39mself\u001b[39;49m\u001b[39m.\u001b[39;49m_init(data, label, cat_features, text_features, embedding_features, embedding_features_data, pairs, weight,\n\u001b[0;32m    794\u001b[0m                    group_id, group_weight, subgroup_id, pairs_weight, baseline, timestamp, feature_names, feature_tags, thread_count)\n\u001b[0;32m    795\u001b[0m \u001b[39msuper\u001b[39m(Pool, \u001b[39mself\u001b[39m)\u001b[39m.\u001b[39m\u001b[39m__init__\u001b[39m()\n",
      "File \u001b[1;32mc:\\Users\\isakasa\\AppData\\Local\\anaconda3\\envs\\basic_machine_learning\\Lib\\site-packages\\catboost\\core.py:1425\u001b[0m, in \u001b[0;36mPool._init\u001b[1;34m(self, data, label, cat_features, text_features, embedding_features, embedding_features_data, pairs, weight, group_id, group_weight, subgroup_id, pairs_weight, baseline, timestamp, feature_names, feature_tags, thread_count)\u001b[0m\n\u001b[0;32m   1423\u001b[0m \u001b[39mif\u001b[39;00m feature_tags \u001b[39mis\u001b[39;00m \u001b[39mnot\u001b[39;00m \u001b[39mNone\u001b[39;00m:\n\u001b[0;32m   1424\u001b[0m     feature_tags \u001b[39m=\u001b[39m \u001b[39mself\u001b[39m\u001b[39m.\u001b[39m_check_transform_tags(feature_tags, feature_names)\n\u001b[1;32m-> 1425\u001b[0m \u001b[39mself\u001b[39;49m\u001b[39m.\u001b[39;49m_init_pool(data, label, cat_features, text_features, embedding_features, embedding_features_data, pairs, weight,\n\u001b[0;32m   1426\u001b[0m                 group_id, group_weight, subgroup_id, pairs_weight, baseline, timestamp, feature_names, feature_tags, thread_count)\n",
      "File \u001b[1;32m_catboost.pyx:3976\u001b[0m, in \u001b[0;36m_catboost._PoolBase._init_pool\u001b[1;34m()\u001b[0m\n",
      "File \u001b[1;32m_catboost.pyx:4026\u001b[0m, in \u001b[0;36m_catboost._PoolBase._init_pool\u001b[1;34m()\u001b[0m\n",
      "File \u001b[1;32m_catboost.pyx:3842\u001b[0m, in \u001b[0;36m_catboost._PoolBase._init_features_order_layout_pool\u001b[1;34m()\u001b[0m\n",
      "File \u001b[1;32m_catboost.pyx:2808\u001b[0m, in \u001b[0;36m_catboost._set_features_order_data_pd_data_frame\u001b[1;34m()\u001b[0m\n",
      "File \u001b[1;32m_catboost.pyx:2350\u001b[0m, in \u001b[0;36m_catboost.create_num_factor_data\u001b[1;34m()\u001b[0m\n",
      "File \u001b[1;32m_catboost.pyx:2311\u001b[0m, in \u001b[0;36m_catboost.get_float_feature\u001b[1;34m()\u001b[0m\n",
      "\u001b[1;31mCatBoostError\u001b[0m: Bad value for num_feature[non_default_doc_idx=0,feature_idx=4]=\"2023-05-01T00:00:00.000000\": Cannot convert obj 2023-05-01T00:00:00.000000 to float"
     ]
    }
   ],
   "source": [
    "# Predict\n",
    "\n",
    "X_valid = X_test_estimated_a\n",
    "# Removing NaN values. If there are missing values treat start and end points as beginning and end of a line.\n",
    "X_valid = X_valid.interpolate(method='linear')\n",
    "X_valid = X_valid.bfill()\n",
    "\n",
    "# Extract necesarry values for feature generation.\n",
    "timestamps = \"date_forecast\"\n",
    "measurements = list(X_valid.columns.values)\n",
    "measurements.remove(\"date_forecast\")\n",
    "measurements.remove(\"date_calc\")\n",
    "\n",
    "\n",
    "# Probable features that may be used\n",
    "der_df = feat_gen.difference_df(X_valid, timestamps, measurements)\n",
    "dder_df = feat_gen.double_derivative_from_df(X_valid, timestamps, measurements)\n",
    "int_df = feat_gen.daily_accumulated_val_df(X_valid, timestamps, measurements)\n",
    "dint_df = feat_gen.daily_accumulated_val_squared_df(X_valid, timestamps, measurements)\n",
    "time_df = feat_gen.time_data_from_df(X_valid, timestamps)\n",
    "\n",
    "X_valid = pd.concat([X_valid, der_df, dder_df, int_df, dint_df, time_df], axis = \"columns\")\n",
    "\n",
    "best_features = ['direct_rad:W', 'sun_elevation:d', 'direct_rad_1h:J', 'diffuse_rad_1h:J']\n",
    "X_valid = X_valid[best_features]\n",
    "\n",
    "\n",
    "pred = model.predict(X_valid)\n",
    "pred_df = pd.DataFrame(pred)\n",
    "pred_df.to_csv('A_Pred.csv')"
   ]
  },
  {
   "cell_type": "markdown",
   "metadata": {},
   "source": [
    "### Plotting\n",
    "Adding a set of plotts to see how well the machine-learning model performs graphically.\n",
    "\n",
    "TODO: We should probably plot the data-values that perform the worst."
   ]
  },
  {
   "cell_type": "code",
   "execution_count": null,
   "metadata": {},
   "outputs": [
    {
     "data": {
      "image/png": "[encoded data removed]",
      "text/plain": [
       "<Figure size 640x480 with 1 Axes>"
      ]
     },
     "metadata": {},
     "output_type": "display_data"
    }
   ],
   "source": [
    "# Create a set of predictors :/\n",
    "# Predict when 0\n",
    "# Predict when larger than 0\n",
    "# Predict when max value occurs\n",
    "# PRedict when \n",
    " \n",
    "x_ax = range(len(pred))\n",
    "\n",
    "plt.plot(x_ax, pred[:], lw=0.8, color=\"red\", label=\"predicted\")\n",
    "\n",
    "plt.legend()\n",
    "plt.show()\n"
   ]
  },
  {
   "cell_type": "markdown",
   "metadata": {},
   "source": []
  }
 ],
 "metadata": {
  "kernelspec": {
   "display_name": "basic_machine_learning",
   "language": "python",
   "name": "python3"
  },
  "language_info": {
   "codemirror_mode": {
    "name": "ipython",
    "version": 3
   },
   "file_extension": ".py",
   "mimetype": "text/x-python",
   "name": "python",
   "nbconvert_exporter": "python",
   "pygments_lexer": "ipython3",
   "version": "3.11.4"
  },
  "orig_nbformat": 4
 },
 "nbformat": 4,
 "nbformat_minor": 2
}
