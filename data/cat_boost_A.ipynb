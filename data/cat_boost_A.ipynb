{
 "cells": [
  {
   "cell_type": "markdown",
   "metadata": {},
   "source": [
    "#  Cat Boost\n",
    "\n",
    "The aim of this notebook is to try out XG-boost on our optimization problem. There is also some ideas and concepts that will overlap with other machine learning models. Some novel ideas related to the preprocessing step is in this file, but SHOULD be moved to a dedicated pre-processing library to make the puipeline easier to work with.\n",
    "\n",
    "*TODO: Create a preprocessing library*"
   ]
  },
  {
   "cell_type": "markdown",
   "metadata": {},
   "source": [
    "### Import the needed libraries"
   ]
  },
  {
   "cell_type": "code",
   "execution_count": 21,
   "metadata": {},
   "outputs": [],
   "source": [
    "\n",
    "# First we will extract the data, and save it to a csv.\n",
    "\n",
    "# Machine Learning Model\n",
    "import catboost as cb\n",
    "\n",
    "# Data Processing Tools\n",
    "import numpy as np\n",
    "import pandas as pd\n",
    "import seaborn as sns\n",
    "\n",
    "# Data Display Tools\n",
    "import matplotlib.pyplot as plt\n",
    "\n",
    "# Machine Learning Tools\n",
    "from sklearn.model_selection import train_test_split\n",
    "from sklearn.metrics import mean_absolute_error\n",
    "from sklearn.metrics import r2_score\n",
    "from sklearn.inspection import permutation_importance\n",
    "from sklearn.feature_selection import SelectKBest\n",
    "from sklearn.preprocessing import MinMaxScaler\n",
    "\n",
    "from sklearn.feature_selection import f_regression\n",
    "\n",
    "import feature_generation as feat_gen\n",
    "import data_processing as dat_proc\n",
    "import data_pipeline as da_pip \n",
    "\n",
    "%matplotlib inline\n",
    "\n"
   ]
  },
  {
   "cell_type": "markdown",
   "metadata": {},
   "source": [
    "### Extract data"
   ]
  },
  {
   "cell_type": "code",
   "execution_count": 22,
   "metadata": {},
   "outputs": [
    {
     "name": "stdout",
     "output_type": "stream",
     "text": [
      "<class 'pandas.core.frame.DataFrame'>\n",
      "RangeIndex: 2880 entries, 0 to 2879\n",
      "Data columns (total 47 columns):\n",
      " #   Column                          Non-Null Count  Dtype         \n",
      "---  ------                          --------------  -----         \n",
      " 0   date_calc                       2880 non-null   datetime64[us]\n",
      " 1   date_forecast                   2880 non-null   datetime64[us]\n",
      " 2   absolute_humidity_2m:gm3        2880 non-null   float32       \n",
      " 3   air_density_2m:kgm3             2880 non-null   float32       \n",
      " 4   ceiling_height_agl:m            2087 non-null   float32       \n",
      " 5   clear_sky_energy_1h:J           2880 non-null   float32       \n",
      " 6   clear_sky_rad:W                 2880 non-null   float32       \n",
      " 7   cloud_base_agl:m                2582 non-null   float32       \n",
      " 8   dew_or_rime:idx                 2880 non-null   float32       \n",
      " 9   dew_point_2m:K                  2880 non-null   float32       \n",
      " 10  diffuse_rad:W                   2880 non-null   float32       \n",
      " 11  diffuse_rad_1h:J                2880 non-null   float32       \n",
      " 12  direct_rad:W                    2880 non-null   float32       \n",
      " 13  direct_rad_1h:J                 2880 non-null   float32       \n",
      " 14  effective_cloud_cover:p         2880 non-null   float32       \n",
      " 15  elevation:m                     2880 non-null   float32       \n",
      " 16  fresh_snow_12h:cm               2880 non-null   float32       \n",
      " 17  fresh_snow_1h:cm                2880 non-null   float32       \n",
      " 18  fresh_snow_24h:cm               2880 non-null   float32       \n",
      " 19  fresh_snow_3h:cm                2880 non-null   float32       \n",
      " 20  fresh_snow_6h:cm                2880 non-null   float32       \n",
      " 21  is_day:idx                      2880 non-null   float32       \n",
      " 22  is_in_shadow:idx                2880 non-null   float32       \n",
      " 23  msl_pressure:hPa                2880 non-null   float32       \n",
      " 24  precip_5min:mm                  2880 non-null   float32       \n",
      " 25  precip_type_5min:idx            2880 non-null   float32       \n",
      " 26  pressure_100m:hPa               2880 non-null   float32       \n",
      " 27  pressure_50m:hPa                2880 non-null   float32       \n",
      " 28  prob_rime:p                     2880 non-null   float32       \n",
      " 29  rain_water:kgm2                 2880 non-null   float32       \n",
      " 30  relative_humidity_1000hPa:p     2880 non-null   float32       \n",
      " 31  sfc_pressure:hPa                2880 non-null   float32       \n",
      " 32  snow_density:kgm3               0 non-null      float32       \n",
      " 33  snow_depth:cm                   2880 non-null   float32       \n",
      " 34  snow_drift:idx                  2880 non-null   float32       \n",
      " 35  snow_melt_10min:mm              2880 non-null   float32       \n",
      " 36  snow_water:kgm2                 2880 non-null   float32       \n",
      " 37  sun_azimuth:d                   2880 non-null   float32       \n",
      " 38  sun_elevation:d                 2880 non-null   float32       \n",
      " 39  super_cooled_liquid_water:kgm2  2880 non-null   float32       \n",
      " 40  t_1000hPa:K                     2880 non-null   float32       \n",
      " 41  total_cloud_cover:p             2880 non-null   float32       \n",
      " 42  visibility:m                    2880 non-null   float32       \n",
      " 43  wind_speed_10m:ms               2880 non-null   float32       \n",
      " 44  wind_speed_u_10m:ms             2880 non-null   float32       \n",
      " 45  wind_speed_v_10m:ms             2880 non-null   float32       \n",
      " 46  wind_speed_w_1000hPa:ms         2880 non-null   float32       \n",
      "dtypes: datetime64[us](2), float32(45)\n",
      "memory usage: 551.4 KB\n",
      "None\n",
      "0      2023-05-01 00:00:00\n",
      "1      2023-05-01 00:15:00\n",
      "2      2023-05-01 00:30:00\n",
      "3      2023-05-01 00:45:00\n",
      "4      2023-05-01 01:00:00\n",
      "               ...        \n",
      "2875   2023-07-03 22:45:00\n",
      "2876   2023-07-03 23:00:00\n",
      "2877   2023-07-03 23:15:00\n",
      "2878   2023-07-03 23:30:00\n",
      "2879   2023-07-03 23:45:00\n",
      "Name: date_forecast, Length: 2880, dtype: datetime64[us]\n"
     ]
    }
   ],
   "source": [
    "train_a = pd.read_parquet('A/train_targets.parquet')\n",
    "X_train_estimated_a = pd.read_parquet('A/X_train_estimated.parquet')\n",
    "X_train_observed_a = pd.read_parquet('A/X_train_observed.parquet')\n",
    "X_test_estimated_a = pd.read_parquet('A/X_test_estimated.parquet')\n",
    "\n",
    "\n",
    "print(X_test_estimated_a.info())\n",
    "print(X_test_estimated_a[\"date_forecast\"])"
   ]
  },
  {
   "cell_type": "markdown",
   "metadata": {},
   "source": [
    "### Preprocessing of data\n",
    "Notice that we for now have a whole block dedicated to preprocessing, but should rather be its own module."
   ]
  },
  {
   "cell_type": "code",
   "execution_count": 23,
   "metadata": {},
   "outputs": [
    {
     "ename": "TypeError",
     "evalue": "train_data_processing() missing 1 required positional argument: 'filter'",
     "output_type": "error",
     "traceback": [
      "\u001b[1;31m---------------------------------------------------------------------------\u001b[0m",
      "\u001b[1;31mTypeError\u001b[0m                                 Traceback (most recent call last)",
      "\u001b[1;32mc:\\Users\\amand\\OneDrive - NTNU\\Documents\\NTNU_studier\\11.semester(YOLO)\\TDT4173-Machine-Learning-Solar-Energy-Production-Forecasting\\data\\cat_boost_A.ipynb Cell 7\u001b[0m line \u001b[0;36m6\n\u001b[0;32m      <a href='vscode-notebook-cell:/c%3A/Users/amand/OneDrive%20-%20NTNU/Documents/NTNU_studier/11.semester%28YOLO%29/TDT4173-Machine-Learning-Solar-Energy-Production-Forecasting/data/cat_boost_A.ipynb#Y123sZmlsZQ%3D%3D?line=2'>3</a>\u001b[0m X \u001b[39m=\u001b[39m pd\u001b[39m.\u001b[39mconcat([X_train_observed_a, X_train_estimated_a], axis \u001b[39m=\u001b[39m \u001b[39m0\u001b[39m, ignore_index\u001b[39m=\u001b[39m\u001b[39mTrue\u001b[39;00m)\n\u001b[0;32m      <a href='vscode-notebook-cell:/c%3A/Users/amand/OneDrive%20-%20NTNU/Documents/NTNU_studier/11.semester%28YOLO%29/TDT4173-Machine-Learning-Solar-Energy-Production-Forecasting/data/cat_boost_A.ipynb#Y123sZmlsZQ%3D%3D?line=3'>4</a>\u001b[0m y \u001b[39m=\u001b[39m train_a\u001b[39m.\u001b[39mdropna()\n\u001b[1;32m----> <a href='vscode-notebook-cell:/c%3A/Users/amand/OneDrive%20-%20NTNU/Documents/NTNU_studier/11.semester%28YOLO%29/TDT4173-Machine-Learning-Solar-Energy-Production-Forecasting/data/cat_boost_A.ipynb#Y123sZmlsZQ%3D%3D?line=5'>6</a>\u001b[0m X, y \u001b[39m=\u001b[39m da_pip\u001b[39m.\u001b[39;49mtrain_data_processing(X, y,)\n",
      "\u001b[1;31mTypeError\u001b[0m: train_data_processing() missing 1 required positional argument: 'filter'"
     ]
    }
   ],
   "source": [
    "X_train_estimated_a = X_train_estimated_a.drop(\"date_calc\", axis = 1)\n",
    "\n",
    "X = pd.concat([X_train_observed_a, X_train_estimated_a], axis = 0, ignore_index=True)\n",
    "y = train_a.dropna()\n",
    "\n",
    "X, y = da_pip.train_data_processing(X, y)"
   ]
  },
  {
   "cell_type": "code",
   "execution_count": null,
   "metadata": {},
   "outputs": [
    {
     "name": "stdout",
     "output_type": "stream",
     "text": [
      "['time' 'pv_measurement' 'derivative_pv_measurement_dn-1'\n",
      " 'derivative_pv_measurement_dn-2' 'derivative_pv_measurement_dn-3'\n",
      " 'derivative_pv_measurement_dn-4' 'derivative_pv_measurement_dn-5'\n",
      " 'derivative_pv_measurement_dn-6' 'derivative_pv_measurement_dn-7'\n",
      " 'derivative_pv_measurement_dn-8' 'derivative_pv_measurement_dn-9'\n",
      " 'derivative_pv_measurement_dn-10' 'derivative_pv_measurement_dn-11'\n",
      " 'derivative_pv_measurement_dn-12' 'derivative_pv_measurement_dn-13'\n",
      " 'derivative_pv_measurement_dn-14' 'derivative_pv_measurement_dn-15'\n",
      " 'derivative_pv_measurement_dn-16' 'derivative_pv_measurement_dn-17'\n",
      " 'derivative_pv_measurement_dn-18' 'derivative_pv_measurement_dn-19'\n",
      " 'derivative_pv_measurement_dn-20' 'derivative_pv_measurement_dn-21'\n",
      " 'derivative_pv_measurement_dn-22' 'derivative_pv_measurement_dn-23'\n",
      " 'derivative_pv_measurement_dn-24' 'pv_measurementn-1' 'pv_measurementn-2'\n",
      " 'pv_measurementn-3' 'pv_measurementn-4' 'pv_measurementn-5'\n",
      " 'pv_measurementn-6' 'pv_measurementn-7' 'pv_measurementn-8'\n",
      " 'pv_measurementn-9' 'pv_measurementn-10' 'pv_measurementn-11'\n",
      " 'pv_measurementn-12' 'pv_measurementn-13' 'pv_measurementn-14'\n",
      " 'pv_measurementn-15' 'pv_measurementn-16' 'pv_measurementn-17'\n",
      " 'pv_measurementn-18' 'pv_measurementn-19' 'pv_measurementn-20'\n",
      " 'pv_measurementn-21' 'pv_measurementn-22' 'pv_measurementn-23'\n",
      " 'pv_measurementn-24']\n"
     ]
    }
   ],
   "source": [
    "print(y_BIG.columns.values)"
   ]
  },
  {
   "cell_type": "code",
   "execution_count": null,
   "metadata": {},
   "outputs": [],
   "source": [
    "# DO we get a day or the \n",
    "X_train, X_test, y_train, y_test=train_test_split(X, y, test_size=0.15, shuffle=True)\n",
    "\n",
    "scaler = MinMaxScaler()\n",
    "\n",
    "# Fit and transform the data\n",
    "X_train = scaler.fit_transform(X_train)\n",
    "X_test = scaler.transform(X_test)"
   ]
  },
  {
   "cell_type": "markdown",
   "metadata": {},
   "source": [
    "## AI Training: CatBoost\n"
   ]
  },
  {
   "cell_type": "code",
   "execution_count": null,
   "metadata": {},
   "outputs": [
    {
     "name": "stdout",
     "output_type": "stream",
     "text": [
      "Testing performance\n",
      "Mean Abs: 186.63\n",
      "R2: 0.84\n"
     ]
    }
   ],
   "source": [
    "\n",
    "train_dataset = cb.Pool(X_train, y_train) \n",
    "test_dataset = cb.Pool(X_test, y_test)\n",
    "\n",
    "model = cb.CatBoostRegressor(loss_function=\"MAE\", logging_level='Silent')\n",
    "\n",
    "grid = {'iterations': [100, 150, 200],\n",
    "        'learning_rate': [0.03, 0.1],\n",
    "        'depth': [2, 4, 6, 8],\n",
    "        'l2_leaf_reg': [0.2, 0.5, 1, 3]}\n",
    "model.grid_search(grid, train_dataset, verbose=False)\n",
    "\n",
    "\n",
    "pred = model.predict(X_test)\n",
    "mae = (mean_absolute_error(y_test, pred))\n",
    "r2 = r2_score(y_test, pred)\n",
    "print(\"Testing performance\")\n",
    "print(\"Mean Abs: {:.2f}\".format(mae))\n",
    "print(\"R2: {:.2f}\".format(r2))\n",
    "\n"
   ]
  },
  {
   "cell_type": "code",
   "execution_count": null,
   "metadata": {},
   "outputs": [
    {
     "name": "stdout",
     "output_type": "stream",
     "text": [
      "[('11', 10.281927284505668), ('10', 9.690844680010436), ('8', 8.66006822904937), ('4', 8.598374541286667), ('36', 7.374419337411386), ('3', 6.864584535617139), ('12', 5.229497929042877), ('39', 5.19111486126127), ('181', 3.352850198839933), ('184', 2.8528645690079615), ('147', 2.4905243782602686), ('136', 1.6071404158751499), ('34', 1.4193695722008668), ('28', 1.2548370286587676), ('214', 1.221368979109333), ('215', 1.1217217618810187), ('192', 1.0753565715476592), ('80', 1.0199720684476357), ('81', 0.9769158703903212), ('56', 0.8935268154245125), ('42', 0.8684770953931565), ('125', 0.704018639782284), ('223', 0.637783119921762), ('49', 0.6101591746201932), ('55', 0.6062580978925186), ('156', 0.6001465711468276), ('217', 0.5589757588061847), ('100', 0.5291783178528668), ('209', 0.5279358618530903), ('204', 0.4865449479021949), ('221', 0.479820525698467), ('101', 0.41274649289821924), ('148', 0.39981887872233834), ('0', 0.3591057156489127), ('225', 0.3332132200434693), ('171', 0.3181337544823308), ('128', 0.30950385175169076), ('187', 0.2983301188039424), ('57', 0.2886889710956226), ('145', 0.2689666621380344), ('2', 0.2607256936247085), ('38', 0.2597919345060487), ('92', 0.24771487257635627), ('146', 0.23964064045705796), ('196', 0.23664238091848783), ('201', 0.2167352343036138), ('40', 0.21349516650668443), ('23', 0.21015477907502733), ('155', 0.20596113866225974), ('7', 0.20423198108951113), ('1', 0.20408133128881878), ('9', 0.19666792959994409), ('48', 0.19519786593228422), ('178', 0.19500321227922843), ('154', 0.19311930346727368), ('135', 0.18632039919739224), ('137', 0.18605314735264614), ('170', 0.18420517054684926), ('219', 0.173507289114639), ('126', 0.16678367525979673), ('208', 0.16194566569314983), ('143', 0.15899264945979152), ('41', 0.15223783598714527), ('220', 0.14306560899539983), ('200', 0.14040129264800844), ('140', 0.1378892148780866), ('24', 0.13734871797829684), ('43', 0.133934515631845), ('139', 0.13020972757259328), ('94', 0.127114569113709), ('85', 0.11839064218010714), ('226', 0.11301282467981129), ('54', 0.11256425911101), ('25', 0.10911705000029323), ('22', 0.10739315438316302), ('46', 0.10671115613958608), ('157', 0.10410943341177904), ('153', 0.10260309689980208), ('227', 0.10057611885025239), ('5', 0.09982158750515058), ('21', 0.09545702101136615), ('186', 0.09074101471976805), ('185', 0.08668043458911548), ('99', 0.08233955481934936), ('172', 0.07982075228249969), ('191', 0.07869675440787885), ('159', 0.07804719180826039), ('165', 0.07298259960758291), ('130', 0.07053814831032706), ('102', 0.06688739593980021), ('53', 0.06561173423010766), ('175', 0.06526407199331895), ('29', 0.061525568602684266), ('197', 0.06053169642603089), ('194', 0.060179283443922), ('162', 0.05842355809476115), ('177', 0.05505858667577843), ('202', 0.052621904846033976), ('169', 0.05233387213893732), ('112', 0.05145470178723913)]\n",
      "direct_rad_1h:J\n",
      "direct_rad:W\n",
      "diffuse_rad:W\n",
      "clear_sky_rad:W\n",
      "sun_elevation:d\n",
      "clear_sky_energy_1h:J\n",
      "effective_cloud_cover:p\n",
      "total_cloud_cover:p\n",
      "double_integral_air_density_2m:kgm3_dintegral\n",
      "double_integral_clear_sky_rad:W_dintegral\n",
      "integral_effective_cloud_cover:p_integral\n",
      "integral_air_density_2m:kgm3_integral\n",
      "snow_water:kgm2\n",
      "relative_humidity_1000hPa:p\n",
      "double_integral_snow_water:kgm2_dintegral\n",
      "double_integral_sun_azimuth:d_dintegral\n",
      "double_integral_effective_cloud_cover:p_dintegral\n",
      "derivative_sun_azimuth:d_d\n",
      "derivative_sun_elevation:d_d\n",
      "derivative_direct_rad_1h:J_d\n",
      "wind_speed_u_10m:ms\n",
      "double_derivative_sun_azimuth:d_dd\n",
      "double_integral_wind_speed_v_10m:ms_dintegral\n",
      "derivative_clear_sky_rad:W_d\n",
      "derivative_direct_rad:W_d\n",
      "integral_msl_pressure:hPa_integral\n",
      "double_integral_super_cooled_liquid_water:kgm2_dintegral\n",
      "double_derivative_direct_rad:W_dd\n",
      "double_integral_sfc_pressure:hPa_dintegral\n",
      "double_integral_pressure_100m:hPa_dintegral\n",
      "double_integral_wind_speed_10m:ms_dintegral\n",
      "double_derivative_direct_rad_1h:J_dd\n",
      "integral_elevation:m_integral\n",
      "absolute_humidity_2m:gm3\n",
      "day_of_year:day\n",
      "integral_sun_elevation:d_integral\n",
      "double_derivative_t_1000hPa:K_dd\n",
      "double_integral_dew_point_2m:K_dintegral\n",
      "derivative_effective_cloud_cover:p_d\n",
      "integral_direct_rad:W_integral\n",
      "ceiling_height_agl:m\n",
      "t_1000hPa:K\n",
      "double_derivative_ceiling_height_agl:m_dd\n",
      "integral_direct_rad_1h:J_integral\n",
      "double_integral_fresh_snow_24h:cm_dintegral\n",
      "double_integral_msl_pressure:hPa_dintegral\n",
      "visibility:m\n",
      "precip_type_5min:idx\n",
      "integral_is_in_shadow:idx_integral\n",
      "dew_point_2m:K\n",
      "air_density_2m:kgm3\n",
      "diffuse_rad_1h:J\n",
      "derivative_clear_sky_energy_1h:J_d\n",
      "integral_wind_speed_v_10m:ms_integral\n",
      "integral_is_day:idx_integral\n",
      "integral_absolute_humidity_2m:gm3_integral\n",
      "integral_ceiling_height_agl:m_integral\n",
      "integral_sun_azimuth:d_integral\n",
      "double_integral_total_cloud_cover:p_dintegral\n",
      "double_derivative_sun_elevation:d_dd\n",
      "double_integral_relative_humidity_1000hPa:p_dintegral\n",
      "integral_diffuse_rad:W_integral\n",
      "wind_speed_10m:ms\n",
      "double_integral_visibility:m_dintegral\n",
      "double_integral_is_in_shadow:idx_dintegral\n",
      "integral_cloud_base_agl:m_integral\n",
      "pressure_100m:hPa\n",
      "wind_speed_v_10m:ms\n",
      "integral_clear_sky_rad:W_integral\n",
      "double_derivative_clear_sky_rad:W_dd\n",
      "derivative_visibility:m_d\n",
      "month:month\n",
      "derivative_diffuse_rad_1h:J_d\n",
      "pressure_50m:hPa\n",
      "precip_5min:mm\n",
      "derivative_air_density_2m:kgm3_d\n",
      "integral_precip_5min:mm_integral\n",
      "integral_fresh_snow_6h:cm_integral\n",
      "hour:hour\n",
      "cloud_base_agl:m\n",
      "msl_pressure:hPa\n",
      "double_integral_dew_or_rime:idx_dintegral\n",
      "double_integral_cloud_base_agl:m_dintegral\n",
      "double_derivative_diffuse_rad_1h:J_dd\n",
      "integral_super_cooled_liquid_water:kgm2_integral\n",
      "double_integral_direct_rad_1h:J_dintegral\n",
      "integral_pressure_100m:hPa_integral\n",
      "integral_snow_density:kgm3_integral\n",
      "double_derivative_visibility:m_dd\n",
      "double_derivative_effective_cloud_cover:p_dd\n",
      "derivative_diffuse_rad:W_d\n",
      "integral_visibility:m_integral\n",
      "sfc_pressure:hPa\n",
      "double_integral_fresh_snow_3h:cm_dintegral\n",
      "double_integral_fresh_snow_12h:cm_dintegral\n",
      "integral_rain_water:kgm2_integral\n",
      "integral_wind_speed_u_10m:ms_integral\n",
      "double_integral_precip_5min:mm_dintegral\n",
      "integral_snow_water:kgm2_integral\n",
      "double_derivative_precip_5min:mm_dd\n",
      "['direct_rad_1h:J', 'direct_rad:W', 'diffuse_rad:W', 'clear_sky_rad:W', 'sun_elevation:d', 'clear_sky_energy_1h:J', 'effective_cloud_cover:p', 'total_cloud_cover:p', 'double_integral_air_density_2m:kgm3_dintegral', 'double_integral_clear_sky_rad:W_dintegral', 'integral_effective_cloud_cover:p_integral', 'integral_air_density_2m:kgm3_integral', 'snow_water:kgm2', 'relative_humidity_1000hPa:p', 'double_integral_snow_water:kgm2_dintegral', 'double_integral_sun_azimuth:d_dintegral', 'double_integral_effective_cloud_cover:p_dintegral', 'derivative_sun_azimuth:d_d', 'derivative_sun_elevation:d_d', 'derivative_direct_rad_1h:J_d', 'wind_speed_u_10m:ms', 'double_derivative_sun_azimuth:d_dd', 'double_integral_wind_speed_v_10m:ms_dintegral', 'derivative_clear_sky_rad:W_d', 'derivative_direct_rad:W_d', 'integral_msl_pressure:hPa_integral', 'double_integral_super_cooled_liquid_water:kgm2_dintegral', 'double_derivative_direct_rad:W_dd', 'double_integral_sfc_pressure:hPa_dintegral', 'double_integral_pressure_100m:hPa_dintegral', 'double_integral_wind_speed_10m:ms_dintegral', 'double_derivative_direct_rad_1h:J_dd', 'integral_elevation:m_integral', 'absolute_humidity_2m:gm3', 'day_of_year:day', 'integral_sun_elevation:d_integral', 'double_derivative_t_1000hPa:K_dd', 'double_integral_dew_point_2m:K_dintegral', 'derivative_effective_cloud_cover:p_d', 'integral_direct_rad:W_integral', 'ceiling_height_agl:m', 't_1000hPa:K', 'double_derivative_ceiling_height_agl:m_dd', 'integral_direct_rad_1h:J_integral', 'double_integral_fresh_snow_24h:cm_dintegral', 'double_integral_msl_pressure:hPa_dintegral', 'visibility:m', 'precip_type_5min:idx', 'integral_is_in_shadow:idx_integral', 'dew_point_2m:K', 'air_density_2m:kgm3', 'diffuse_rad_1h:J', 'derivative_clear_sky_energy_1h:J_d', 'integral_wind_speed_v_10m:ms_integral', 'integral_is_day:idx_integral', 'integral_absolute_humidity_2m:gm3_integral', 'integral_ceiling_height_agl:m_integral', 'integral_sun_azimuth:d_integral', 'double_integral_total_cloud_cover:p_dintegral', 'double_derivative_sun_elevation:d_dd', 'double_integral_relative_humidity_1000hPa:p_dintegral', 'integral_diffuse_rad:W_integral', 'wind_speed_10m:ms', 'double_integral_visibility:m_dintegral', 'double_integral_is_in_shadow:idx_dintegral', 'integral_cloud_base_agl:m_integral', 'pressure_100m:hPa', 'wind_speed_v_10m:ms', 'integral_clear_sky_rad:W_integral', 'double_derivative_clear_sky_rad:W_dd', 'derivative_visibility:m_d', 'month:month', 'derivative_diffuse_rad_1h:J_d', 'pressure_50m:hPa', 'precip_5min:mm', 'derivative_air_density_2m:kgm3_d', 'integral_precip_5min:mm_integral', 'integral_fresh_snow_6h:cm_integral', 'hour:hour', 'cloud_base_agl:m', 'msl_pressure:hPa', 'double_integral_dew_or_rime:idx_dintegral', 'double_integral_cloud_base_agl:m_dintegral', 'double_derivative_diffuse_rad_1h:J_dd', 'integral_super_cooled_liquid_water:kgm2_integral', 'double_integral_direct_rad_1h:J_dintegral', 'integral_pressure_100m:hPa_integral', 'integral_snow_density:kgm3_integral', 'double_derivative_visibility:m_dd', 'double_derivative_effective_cloud_cover:p_dd', 'derivative_diffuse_rad:W_d', 'integral_visibility:m_integral', 'sfc_pressure:hPa', 'double_integral_fresh_snow_3h:cm_dintegral', 'double_integral_fresh_snow_12h:cm_dintegral', 'integral_rain_water:kgm2_integral', 'integral_wind_speed_u_10m:ms_integral', 'double_integral_precip_5min:mm_dintegral', 'integral_snow_water:kgm2_integral', 'double_derivative_precip_5min:mm_dd']\n"
     ]
    }
   ],
   "source": [
    "N = 100\n",
    "\n",
    "feature_importance = model.get_feature_importance()\n",
    "\n",
    "# Pair feature names with their importance scores\n",
    "feature_importance_dict = dict(zip(model.feature_names_, feature_importance))\n",
    "\n",
    "# Sort features by importance\n",
    "sorted_feature_importance = sorted(feature_importance_dict.items(), key=lambda x: x[1], reverse=True)\n",
    "\n",
    "# Print or use the top features\n",
    "top_features = sorted_feature_importance[:N]  # Replace N with the number of top features you want\n",
    "print(top_features)\n",
    "labels = list(X.columns.values)\n",
    "\n",
    "best_features = []\n",
    "for feat in top_features:\n",
    "    print(labels[int(feat[0])])\n",
    "    best_features.append(labels[int(feat[0])])\n",
    "print(best_features)"
   ]
  },
  {
   "cell_type": "code",
   "execution_count": null,
   "metadata": {},
   "outputs": [
    {
     "name": "stderr",
     "output_type": "stream",
     "text": [
      "c:\\Users\\isakasa\\OneDrive - NTNU\\Documents\\UNI\\TDT4173 Machine Learning\\group-project\\TDT4173-Machine-Learning-Solar-Energy-Production-Forecasting\\data\\feature_generation.py:52: FutureWarning: DataFrame.fillna with 'method' is deprecated and will raise in a future version. Use obj.ffill() or obj.bfill() instead.\n",
      "  dder_df = dder_df.fillna(method=\"backfill\", axis=None)\n",
      "c:\\Users\\isakasa\\OneDrive - NTNU\\Documents\\UNI\\TDT4173 Machine Learning\\group-project\\TDT4173-Machine-Learning-Solar-Energy-Production-Forecasting\\data\\feature_generation.py:176: FutureWarning: DataFrame.groupby with axis=1 is deprecated. Do `frame.T.groupby(...)` without axis instead.\n",
      "  grouped_df = df.groupby(df.columns, axis=1).sum()\n"
     ]
    }
   ],
   "source": [
    "# Predict\n",
    "\n",
    "X_valid = X_test_estimated_a\n",
    "# Removing NaN values. If there are missing values treat start and end points as beginning and end of a line.\n",
    "X_valid = X_valid.interpolate(method='linear')\n",
    "X_valid = X_valid.bfill()\n",
    "\n",
    "# Extract necesarry values for feature generation.\n",
    "timestamps = \"date_forecast\"\n",
    "measurements = list(X_valid.columns.values)\n",
    "measurements.remove(\"date_forecast\")\n",
    "measurements.remove(\"date_calc\")\n",
    "\n",
    "\n",
    "# Probable features that may be used\n",
    "der_df = feat_gen.difference_df(X_valid, timestamps, measurements)\n",
    "dder_df = feat_gen.double_derivative_from_df(X_valid, timestamps, measurements)\n",
    "int_df = feat_gen.daily_accumulated_val_df(X_valid, timestamps, measurements)\n",
    "dint_df = feat_gen.daily_accumulated_val_squared_df(X_valid, timestamps, measurements)\n",
    "time_df = feat_gen.time_data_from_df(X_valid, timestamps)\n",
    "\n",
    "X_valid = pd.concat([X_valid, der_df, dder_df, int_df, dint_df, time_df], axis = \"columns\")\n",
    "\n",
    "# best_features = ['direct_rad:W', 'sun_elevation:d', 'direct_rad_1h:J', 'diffuse_rad_1h:J', 'hour:hour']\n",
    "# X_valid = X_valid[best_features]\n",
    "\n",
    "X_valid = X_valid.drop(\"date_forecast\", axis = 1)\n",
    "X_valid = X_valid.drop(\"date_calc\", axis = 1)\n",
    "\n",
    "feat_gen.merge_features(X_valid)\n",
    "\n",
    "\n",
    "pred = model.predict(X_valid)\n",
    "pred_df = pd.DataFrame(pred)\n",
    "pred_df.to_csv('A_Pred.csv')"
   ]
  },
  {
   "cell_type": "markdown",
   "metadata": {},
   "source": [
    "### Plotting\n",
    "Adding a set of plotts to see how well the machine-learning model performs graphically.\n",
    "\n",
    "TODO: We should probably plot the data-values that perform the worst."
   ]
  },
  {
   "cell_type": "code",
   "execution_count": null,
   "metadata": {},
   "outputs": [
    {
     "data": {
      "image/png": "[encoded data removed]",
      "text/plain": [
       "<Figure size 640x480 with 1 Axes>"
      ]
     },
     "metadata": {},
     "output_type": "display_data"
    }
   ],
   "source": [
    "# Create a set of predictors :/\n",
    "# Predict when 0\n",
    "# Predict when larger than 0\n",
    "# Predict when max value occurs\n",
    "# PRedict when \n",
    " \n",
    "x_ax = range(len(pred))\n",
    "\n",
    "plt.plot(x_ax, pred[:], lw=0.8, color=\"red\", label=\"predicted\")\n",
    "\n",
    "plt.legend()\n",
    "plt.show()\n"
   ]
  },
  {
   "cell_type": "markdown",
   "metadata": {},
   "source": []
  }
 ],
 "metadata": {
  "kernelspec": {
   "display_name": "basic_machine_learning",
   "language": "python",
   "name": "python3"
  },
  "language_info": {
   "codemirror_mode": {
    "name": "ipython",
    "version": 3
   },
   "file_extension": ".py",
   "mimetype": "text/x-python",
   "name": "python",
   "nbconvert_exporter": "python",
   "pygments_lexer": "ipython3",
   "version": "3.11.4"
  },
  "orig_nbformat": 4
 },
 "nbformat": 4,
 "nbformat_minor": 2
}
