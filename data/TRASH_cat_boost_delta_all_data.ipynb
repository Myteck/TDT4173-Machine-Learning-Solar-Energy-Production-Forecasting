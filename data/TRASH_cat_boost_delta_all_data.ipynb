{
 "cells": [
  {
   "cell_type": "markdown",
   "metadata": {},
   "source": [
    "#  Cat Boost\n",
    "\n",
    "The aim of this notebook is to try out XG-boost on our optimization problem. There is also some ideas and concepts that will overlap with other machine learning models. Some novel ideas related to the preprocessing step is in this file, but SHOULD be moved to a dedicated pre-processing library to make the puipeline easier to work with.\n",
    "\n",
    "*TODO: Create a preprocessing library*"
   ]
  },
  {
   "cell_type": "markdown",
   "metadata": {},
   "source": [
    "### Import the needed libraries"
   ]
  },
  {
   "cell_type": "code",
   "execution_count": 329,
   "metadata": {},
   "outputs": [],
   "source": [
    "# First we will extract the data, and save it to a csv.\n",
    "# Machine Learning Model\n",
    "import catboost as cb\n",
    "\n",
    "# Data Processing Tools\n",
    "import numpy as np\n",
    "import pandas as pd\n",
    "import seaborn as sns\n",
    "\n",
    "# Data Display Tools\n",
    "import matplotlib.pyplot as plt\n",
    "\n",
    "# Machine Learning Tools\n",
    "from sklearn.model_selection import train_test_split\n",
    "from sklearn.metrics import mean_absolute_error\n",
    "from sklearn.metrics import r2_score\n",
    "from sklearn.inspection import permutation_importance\n",
    "from sklearn.feature_selection import SelectKBest\n",
    "from sklearn.preprocessing import MinMaxScaler\n",
    "\n",
    "from sklearn.feature_selection import f_regression\n",
    "\n",
    "import feature_generation as feat_gen\n",
    "import data_processing as dat_proc\n",
    "\n",
    "%matplotlib inline\n",
    "\n"
   ]
  },
  {
   "cell_type": "markdown",
   "metadata": {},
   "source": [
    "### Extract data"
   ]
  },
  {
   "cell_type": "code",
   "execution_count": 330,
   "metadata": {},
   "outputs": [],
   "source": [
    "# train_a = pd.read_parquet('A/train_targets.parquet')\n",
    "# X_train_estimated_a = pd.read_parquet('A/X_train_estimated.parquet')\n",
    "# X_train_observed_a = pd.read_parquet('A/X_train_observed.parquet')\n",
    "# X_test_estimated_a = pd.read_parquet('A/X_test_estimated.parquet')\n",
    "\n",
    "# print(train_a.info())"
   ]
  },
  {
   "cell_type": "markdown",
   "metadata": {},
   "source": [
    "### Example for adding all the data -- Am"
   ]
  },
  {
   "cell_type": "code",
   "execution_count": 331,
   "metadata": {},
   "outputs": [
    {
     "name": "stdout",
     "output_type": "stream",
     "text": [
      "Number of NaN in pv_measurement:  0\n",
      "Number of NaN in pv_measurement:  0\n",
      "Number of NaN in pv_measurement:  0\n",
      "0\n",
      "0\n"
     ]
    }
   ],
   "source": [
    "def add_clean_all(train: pd.DataFrame, observe: pd.DataFrame):\n",
    "    con = pd.concat([train, observe], axis = 1) # Concatenate train and observe  #### ignore_index=True ??\n",
    "    con_sort = con.sort_values(by = \"time\") # Sort by time\n",
    "    # Interpolate missing values. limit_direction = \"both\"  make sure we get the first value\n",
    "    # It will interpolate values both forward and backward from the missing data points to fill gaps in the data.\n",
    "    con_pol = con_sort.interpolate(method = \"linear\", limit_direction = \"both\") \n",
    "    # con_dup = con_pol.drop_duplicates(subset = \"time\", keep = \"first\") # Remove duplicates from the time column\n",
    "    con_nan = con_pol[~pd.isna(con_pol[\"pv_measurement\"])]; # Remove rows with NaN in pv_measurement. ; is used to remove the print\n",
    "    print(\"Number of NaN in pv_measurement: \", con_nan[\"pv_measurement\"].isna().sum())\n",
    "    con_clean = con_nan.reset_index(drop = True) # Reset index\n",
    "\n",
    "    # print(\"Number of NaN in pv_measurement: \", con_clean[\"pv_measurement\"].isna().sum())\n",
    "    # print(con_clean.date_forecast)\n",
    "\n",
    "    X = con_clean.drop(columns = [\"time\", \"pv_measurement\"], axis = 1) # drop_time  # \"date_forecast\", # date_calc if estimate is her\n",
    "    y = con_clean[[\"time\", \"pv_measurement\"]].copy()\n",
    "    return X, y\n",
    "\n",
    "# Read Data\n",
    "train_a = pd.read_parquet('A/train_targets.parquet')\n",
    "train_b = pd.read_parquet('B/train_targets.parquet')\n",
    "train_c = pd.read_parquet('C/train_targets.parquet')\n",
    "\n",
    "X_train_observed_a = pd.read_parquet('A/X_train_observed.parquet')\n",
    "X_train_observed_b = pd.read_parquet('B/X_train_observed.parquet')\n",
    "X_train_observed_c = pd.read_parquet('C/X_train_observed.parquet')\n",
    "\n",
    "# Merge data\n",
    "X_all_a, y_all_a = add_clean_all(train_a, X_train_observed_a)\n",
    "X_all_b, y_all_b = add_clean_all(train_b, X_train_observed_b)\n",
    "X_all_c, y_all_c = add_clean_all(train_c, X_train_observed_c)\n",
    "\n",
    "X_all = pd.concat([X_all_a,X_all_b,X_all_c], axis = 0)\n",
    "y_all = pd.concat([y_all_a,y_all_b,y_all_c], axis = 0)\n",
    "\n",
    "print(X_all.isna().sum().sum())\n",
    "print(y_all.isna().sum().sum())\n"
   ]
  },
  {
   "cell_type": "markdown",
   "metadata": {},
   "source": [
    "### Preprocessing of data\n",
    "Notice that we for now have a whole block dedicated to preprocessing, but should rather be its own module."
   ]
  },
  {
   "cell_type": "code",
   "execution_count": 332,
   "metadata": {},
   "outputs": [],
   "source": [
    "# Extract necesarry values for feature generation.\n",
    "timestamps = \"date_forecast\"\n",
    "measurements = list(X_all.columns.values)\n",
    "measurements.remove(timestamps)\n",
    "\n",
    "# Probable features that may be used\n",
    "der_df = feat_gen.difference_df(X_all, timestamps, measurements)\n",
    "int_df = feat_gen.daily_accumulated_val_df(X_all, timestamps, measurements)\n",
    "dint_df = feat_gen.daily_accumulated_val_squared_df(X_all, timestamps, measurements)\n",
    "time_df = feat_gen.time_data_from_df(X_all, timestamps)\n",
    "# Removed duble derivited -- due to a lot of NaN values"
   ]
  },
  {
   "cell_type": "code",
   "execution_count": 333,
   "metadata": {},
   "outputs": [],
   "source": [
    "# # print(X_all.date_forecast)\n",
    "# print(der_df.isna().sum().sum())\n",
    "\n",
    "# print(int_df.isna().sum().sum())\n",
    "# print(dint_df.isna().sum().sum())\n",
    "# print(time_df.isna().sum().sum())\n",
    "\n",
    "# print(len(der_df))\n",
    "\n",
    "# print(len(int_df))\n",
    "# print(len(dint_df))\n",
    "# print(len(time_df))"
   ]
  },
  {
   "cell_type": "code",
   "execution_count": 334,
   "metadata": {},
   "outputs": [],
   "source": [
    "# Reset index of the DataFrames before concatenating\n",
    "X_all = X_all.reset_index(drop=True) # Do all ready\n",
    "der_df = der_df.reset_index(drop=True)\n",
    "int_df = int_df.reset_index(drop=True)\n",
    "dint_df = dint_df.reset_index(drop=True)\n",
    "time_df = time_df.reset_index(drop=True)"
   ]
  },
  {
   "cell_type": "code",
   "execution_count": 335,
   "metadata": {},
   "outputs": [],
   "source": [
    "# Concatenate the DataFrames\n",
    "X = pd.concat([X_all, der_df, int_df, dint_df, time_df], axis=\"columns\")\n",
    "X = X.reset_index(drop=True)\n",
    "# print(X.columns.values)\n",
    "\n",
    "X = feat_gen.merge_features(X)  ###### Confused about this one. Removed date_forecast"
   ]
  },
  {
   "cell_type": "code",
   "execution_count": 336,
   "metadata": {},
   "outputs": [],
   "source": [
    "# Additional features\n",
    "der_y = feat_gen.difference_df(y_all, \"time\", [\"pv_measurement\"])\n",
    "der_y_shifted = feat_gen.shifted_values_24_h(der_y, \"derivative_pv_measurement_d\") # derivative_pv_measurement_d column in der_y\n",
    "y_shifted =  feat_gen.shifted_values_24_h(y_all, \"pv_measurement\")"
   ]
  },
  {
   "cell_type": "code",
   "execution_count": 338,
   "metadata": {},
   "outputs": [],
   "source": [
    "X['date_forecast'] = X_all['date_forecast'] ## Add date forcasting for data lenght matching\n",
    "# print(X.date_forecast)\n",
    "\n",
    "# Adding together the added features to one dataframe.\n",
    "y_BIG = pd.concat([y_all, der_y, der_y_shifted, y_shifted])\n",
    "# print(y_all.columns.values)\n",
    "# print(y_BIG.columns.values)\n",
    "# print(X_all.columns.values)\n",
    "# print(len(X), len(y_BIG))\n",
    "# print(X.columns.values)\n",
    "\n",
    "# Making sure that the two dataframes match in length.\n",
    "y_BIG, X = dat_proc.data_length_matching(y_BIG, X)\n",
    "# Get our desired output\n",
    "y = y_BIG[\"pv_measurement\"]  # Why not pv_measurement?\n",
    "y = y.reset_index(drop = True)\n",
    "\n",
    "# Removing datetime object column\n",
    "y_features = y_BIG.drop(['pv_measurement', 'derivative_pv_measurement_d', 'time'], axis=1)\n",
    "# y_features = y_features.drop('derivative_pv_measurement_d', axis=1)\n",
    "# y_features = y_features.drop('time', axis=1)\n",
    "y_features = y_features.reset_index(drop = True)"
   ]
  },
  {
   "cell_type": "code",
   "execution_count": 339,
   "metadata": {},
   "outputs": [],
   "source": [
    "\n",
    "# Removing datetime object column\n",
    "X = X.reset_index(drop = True)\n",
    "X = X.drop([timestamps], axis=1)\n",
    "\n",
    "X = pd.concat([X, y_features], axis = \"columns\")\n",
    "# X = pd.concat([X, y_BIG], axis = \"columns\")"
   ]
  },
  {
   "cell_type": "code",
   "execution_count": 344,
   "metadata": {},
   "outputs": [
    {
     "name": "stdout",
     "output_type": "stream",
     "text": [
      "Columns with all NaN values: Index(['derivative_pv_measurement_dn-1', 'derivative_pv_measurement_dn-2',\n",
      "       'derivative_pv_measurement_dn-3', 'derivative_pv_measurement_dn-4',\n",
      "       'derivative_pv_measurement_dn-5', 'derivative_pv_measurement_dn-6',\n",
      "       'derivative_pv_measurement_dn-7', 'derivative_pv_measurement_dn-8',\n",
      "       'derivative_pv_measurement_dn-9', 'derivative_pv_measurement_dn-10',\n",
      "       'derivative_pv_measurement_dn-11', 'derivative_pv_measurement_dn-12',\n",
      "       'derivative_pv_measurement_dn-13', 'derivative_pv_measurement_dn-14',\n",
      "       'derivative_pv_measurement_dn-15', 'derivative_pv_measurement_dn-16',\n",
      "       'derivative_pv_measurement_dn-17', 'derivative_pv_measurement_dn-18',\n",
      "       'derivative_pv_measurement_dn-19', 'derivative_pv_measurement_dn-20',\n",
      "       'derivative_pv_measurement_dn-21', 'derivative_pv_measurement_dn-22',\n",
      "       'derivative_pv_measurement_dn-23', 'derivative_pv_measurement_dn-24',\n",
      "       'pv_measurementn-1', 'pv_measurementn-2', 'pv_measurementn-3',\n",
      "       'pv_measurementn-4', 'pv_measurementn-5', 'pv_measurementn-6',\n",
      "       'pv_measurementn-7', 'pv_measurementn-8', 'pv_measurementn-9',\n",
      "       'pv_measurementn-10', 'pv_measurementn-11', 'pv_measurementn-12',\n",
      "       'pv_measurementn-13', 'pv_measurementn-14', 'pv_measurementn-15',\n",
      "       'pv_measurementn-16', 'pv_measurementn-17', 'pv_measurementn-18',\n",
      "       'pv_measurementn-19', 'pv_measurementn-20', 'pv_measurementn-21',\n",
      "       'pv_measurementn-22', 'pv_measurementn-23', 'pv_measurementn-24'],\n",
      "      dtype='object')\n"
     ]
    }
   ],
   "source": [
    "all_nan_columns = X.columns[X.isna().all()]                     ###### NÅ værende problem \n",
    "print(\"Columns with all NaN values:\", all_nan_columns)\n",
    "X = X.drop(columns=all_nan_columns)"
   ]
  },
  {
   "cell_type": "code",
   "execution_count": 345,
   "metadata": {},
   "outputs": [],
   "source": [
    "# DO we get a day or the \n",
    "X_train, X_test, y_train, y_test=train_test_split(X, y, test_size=0.15, shuffle=False)\n",
    "\n",
    "scaler = MinMaxScaler()\n",
    "\n",
    "# Fit and transform the data\n",
    "X_train = scaler.fit_transform(X_train)\n",
    "X_test = scaler.transform(X_test)"
   ]
  },
  {
   "cell_type": "markdown",
   "metadata": {},
   "source": [
    "## AI Training: CatBoost\n"
   ]
  },
  {
   "cell_type": "code",
   "execution_count": 346,
   "metadata": {},
   "outputs": [
    {
     "name": "stdout",
     "output_type": "stream",
     "text": [
      "Testing performance\n",
      "Mean Abs: 408.80\n",
      "R2: -0.03\n"
     ]
    }
   ],
   "source": [
    "\n",
    "train_dataset = cb.Pool(X_train, y_train) \n",
    "test_dataset = cb.Pool(X_test, y_test)\n",
    "\n",
    "model = cb.CatBoostRegressor(loss_function=\"RMSE\", logging_level='Silent')\n",
    "\n",
    "grid = {'iterations': [100, 150, 200],\n",
    "        'learning_rate': [0.03, 0.1],\n",
    "        'depth': [2, 4, 6, 8],\n",
    "        'l2_leaf_reg': [0.2, 0.5, 1, 3]}\n",
    "model.grid_search(grid, train_dataset, verbose=False)\n",
    "\n",
    "\n",
    "pred = model.predict(X_test)\n",
    "mae = (mean_absolute_error(y_test, pred))\n",
    "r2 = r2_score(y_test, pred)\n",
    "print(\"Testing performance\")\n",
    "print(\"Mean Abs: {:.2f}\".format(mae))\n",
    "print(\"R2: {:.2f}\".format(r2))\n",
    "\n"
   ]
  },
  {
   "cell_type": "code",
   "execution_count": 347,
   "metadata": {},
   "outputs": [
    {
     "name": "stdout",
     "output_type": "stream",
     "text": [
      "[('2', 4.258832001720242), ('6', 4.181003497110059), ('117', 2.923313842018176), ('159', 2.479888062012731), ('5', 2.327948895573301), ('53', 2.291912878020815), ('180', 1.9716302186503225), ('147', 1.839388136442273), ('101', 1.7253755439631802), ('167', 1.7017367531768521), ('181', 1.6673027917332366), ('163', 1.5880285314823235), ('176', 1.5549054368000872), ('63', 1.5251407817165372), ('78', 1.5139158280839289), ('0', 1.476874389119885), ('162', 1.4728894410626054), ('94', 1.3271096809575103), ('178', 1.2946677176566173), ('104', 1.2938385696334567), ('116', 1.262905324169079), ('172', 1.1660513620917052), ('179', 1.149726160697393), ('12', 1.094232160172319), ('47', 1.0801716009858469), ('121', 1.0756120273731062), ('131', 1.0479571314917662), ('113', 1.0340498928171888), ('1', 1.0107942263600755), ('166', 1.0002823012256734), ('42', 0.9513930802775581), ('35', 0.9488141104187272), ('92', 0.9329953430392183), ('148', 0.9315389449363954), ('103', 0.9241516728614432), ('100', 0.8963981620939284), ('19', 0.8497171905094749), ('95', 0.8440514452993872), ('151', 0.8008635633028183), ('8', 0.7939859019782735), ('122', 0.7832883466073036), ('43', 0.7751806198356666), ('11', 0.7400748300224952), ('138', 0.7306636557737208), ('115', 0.7177184635811534), ('61', 0.7132461417721745), ('145', 0.7071773185446687), ('33', 0.6960460890941832), ('158', 0.6739343597283196), ('99', 0.6669106777521898), ('89', 0.6547412837315536), ('133', 0.6499845354445852), ('62', 0.6392245943176884), ('80', 0.6000681791845763), ('98', 0.5977845285069074), ('14', 0.5976145622300633), ('28', 0.5906394886371923), ('153', 0.5816519775309983), ('137', 0.5718607286402733), ('9', 0.5616061926291042), ('7', 0.5556814161429627), ('16', 0.5289214325488026), ('45', 0.525034696720755), ('169', 0.5112281318641496), ('85', 0.5075315012942933), ('66', 0.5014249027311437), ('107', 0.5008062464565837), ('67', 0.49578092802224283), ('130', 0.4777622242060969), ('150', 0.47760364836529184), ('70', 0.4649321230133695), ('54', 0.4644990346454087), ('60', 0.45471820239836064), ('177', 0.4333344683250438), ('139', 0.4303644814903459), ('57', 0.42259352783630655), ('144', 0.4184619455897397), ('71', 0.4049904124860769), ('68', 0.4027173694509994), ('46', 0.3945270542556295), ('58', 0.39089448346187505), ('173', 0.3842897543108261), ('79', 0.37354948725662324), ('17', 0.3694758873682152), ('111', 0.3644476591840456), ('149', 0.3612664819129946), ('135', 0.360012311160705), ('31', 0.349604224936089), ('18', 0.34885935487250774), ('91', 0.34536794353107214), ('154', 0.34506589659353226), ('120', 0.34046316031645424), ('124', 0.33785304121586685), ('114', 0.3336921250819118), ('36', 0.3239625314282128), ('119', 0.32310415679154614), ('123', 0.3167326244151242), ('97', 0.31349471427604875), ('142', 0.3112102214368821), ('132', 0.30972666986232744)]\n",
      "ceiling_height_agl\n",
      "day_of_year\n",
      "integral_dew_or_rime\n",
      "msl_pressure\n",
      "cloud_base_agl\n",
      "dew_point_2m\n",
      "wind_speed_u_10m\n",
      "integral_sun_elevation\n",
      "double_integral_wind_speed_v_10m\n",
      "sfc_pressure\n",
      "wind_speed_v_10m\n",
      "pressure_50m\n",
      "t_1000hPa\n",
      "double_integral_cloud_base_agl\n",
      "double_integral_is_in_shadow\n",
      "absolute_humidity_2m\n",
      "pressure_100m\n",
      "double_integral_sun_elevation\n",
      "visibility\n",
      "elevation\n",
      "integral_cloud_base_agl\n",
      "snow_water\n",
      "wind_speed_10m\n",
      "derivative_cloud_base_agl\n",
      "derivative_visibility\n",
      "integral_direct_rad\n",
      "integral_is_in_shadow\n",
      "integral_ceiling_height_agl\n",
      "air_density_2m\n",
      "relative_humidity_1000hPa\n",
      "derivative_sun_azimuth\n",
      "derivative_relative_humidity_1000hPa\n",
      "double_integral_snow_water\n",
      "integral_super_cooled_liquid_water\n",
      "effective_cloud_cover\n",
      "double_integral_wind_speed_u_10m\n",
      "derivative_effective_cloud_cover\n",
      "double_integral_super_cooled_liquid_water\n",
      "integral_visibility\n",
      "derivative_air_density_2m\n",
      "integral_direct_rad_1h\n",
      "derivative_sun_elevation\n",
      "derivative_clear_sky_rad\n",
      "integral_rain_water\n",
      "integral_clear_sky_rad\n",
      "double_integral_clear_sky_energy_1h\n",
      "integral_snow_water\n",
      "derivative_prob_rime\n",
      "month\n",
      "double_integral_wind_speed_10m\n",
      "double_integral_snow_depth\n",
      "integral_precip_5min\n",
      "double_integral_clear_sky_rad\n",
      "double_integral_precip_5min\n",
      "double_integral_visibility\n",
      "derivative_dew_point_2m\n",
      "derivative_msl_pressure\n",
      "integral_wind_speed_u_10m\n",
      "integral_prob_rime\n",
      "derivative_ceiling_height_agl\n",
      "derivative_absolute_humidity_2m\n",
      "derivative_diffuse_rad_1h\n",
      "derivative_t_1000hPa\n",
      "snow_depth\n",
      "double_integral_rain_water\n",
      "double_integral_diffuse_rad\n",
      "fresh_snow_24h\n",
      "double_integral_diffuse_rad_1h\n",
      "integral_is_day\n",
      "integral_total_cloud_cover\n",
      "double_integral_effective_cloud_cover\n",
      "diffuse_rad\n",
      "double_integral_ceiling_height_agl\n",
      "total_cloud_cover\n",
      "integral_relative_humidity_1000hPa\n",
      "direct_rad_1h\n",
      "integral_snow_melt_10min\n",
      "double_integral_elevation\n",
      "double_integral_direct_rad\n",
      "derivative_total_cloud_cover\n",
      "double_integral_absolute_humidity_2m\n",
      "sun_azimuth\n",
      "double_integral_msl_pressure\n",
      "derivative_direct_rad\n",
      "integral_absolute_humidity_2m\n",
      "integral_t_1000hPa\n",
      "integral_pressure_100m\n",
      "derivative_pressure_100m\n",
      "derivative_direct_rad_1h\n",
      "double_integral_snow_melt_10min\n",
      "integral_wind_speed_v_10m\n",
      "integral_diffuse_rad_1h\n",
      "integral_elevation\n",
      "integral_clear_sky_energy_1h\n",
      "derivative_sfc_pressure\n",
      "integral_diffuse_rad\n",
      "integral_effective_cloud_cover\n",
      "double_integral_total_cloud_cover\n",
      "integral_snow_depth\n",
      "integral_msl_pressure\n"
     ]
    }
   ],
   "source": [
    "N = 100\n",
    "\n",
    "feature_importance = model.get_feature_importance()\n",
    "\n",
    "# Pair feature names with their importance scores\n",
    "feature_importance_dict = dict(zip(model.feature_names_, feature_importance))\n",
    "\n",
    "# Sort features by importance\n",
    "sorted_feature_importance = sorted(feature_importance_dict.items(), key=lambda x: x[1], reverse=True)\n",
    "\n",
    "# Print or use the top features\n",
    "top_features = sorted_feature_importance[:N]  # Replace N with the number of top features you want\n",
    "print(top_features)\n",
    "labels = list(X.columns.values)\n",
    "\n",
    "for feat in top_features:\n",
    "    print(labels[int(feat[0])])\n"
   ]
  },
  {
   "cell_type": "markdown",
   "metadata": {},
   "source": [
    "### Plotting\n",
    "Adding a set of plotts to see how well the machine-learning model performs graphically.\n",
    "\n",
    "TODO: We should probably plot the data-values that perform the worst."
   ]
  },
  {
   "cell_type": "code",
   "execution_count": 348,
   "metadata": {},
   "outputs": [
    {
     "data": {
      "image/png": "[encoded data removed]",
      "text/plain": [
       "<Figure size 640x480 with 1 Axes>"
      ]
     },
     "metadata": {},
     "output_type": "display_data"
    }
   ],
   "source": [
    "\n",
    "\n",
    "x_ax = range(48)\n",
    "plt.scatter(x_ax, y_test[0:48], s=5, color=\"blue\", label=\"original\")\n",
    "plt.plot(x_ax, pred[0:48], lw=0.8, color=\"red\", label=\"predicted\")\n",
    "\n",
    "plt.legend()\n",
    "plt.show()\n"
   ]
  },
  {
   "cell_type": "markdown",
   "metadata": {},
   "source": []
  }
 ],
 "metadata": {
  "kernelspec": {
   "display_name": "basic_machine_learning",
   "language": "python",
   "name": "python3"
  },
  "language_info": {
   "codemirror_mode": {
    "name": "ipython",
    "version": 3
   },
   "file_extension": ".py",
   "mimetype": "text/x-python",
   "name": "python",
   "nbconvert_exporter": "python",
   "pygments_lexer": "ipython3",
   "version": "3.11.5"
  },
  "orig_nbformat": 4
 },
 "nbformat": 4,
 "nbformat_minor": 2
}
