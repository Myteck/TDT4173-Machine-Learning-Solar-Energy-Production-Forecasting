{
 "cells": [
  {
   "cell_type": "markdown",
   "metadata": {},
   "source": [
    "#  Cat Boost\n",
    "\n",
    "The aim of this notebook is to try out XG-boost on our optimization problem. There is also some ideas and concepts that will overlap with other machine learning models. Some novel ideas related to the preprocessing step is in this file, but SHOULD be moved to a dedicated pre-processing library to make the puipeline easier to work with.\n",
    "\n",
    "*TODO: Create a preprocessing library*"
   ]
  },
  {
   "cell_type": "markdown",
   "metadata": {},
   "source": [
    "### Import the needed libraries"
   ]
  },
  {
   "cell_type": "code",
   "execution_count": 33,
   "metadata": {},
   "outputs": [],
   "source": [
    "# First we will extract the data, and save it to a csv.\n",
    "\n",
    "# Machine Learning Model\n",
    "import catboost as cb\n",
    "\n",
    "# Data Processing Tools\n",
    "import numpy as np\n",
    "import pandas as pd\n",
    "import seaborn as sns\n",
    "\n",
    "# Data Display Tools\n",
    "import matplotlib.pyplot as plt\n",
    "\n",
    "# Machine Learning Tools\n",
    "from sklearn.model_selection import train_test_split\n",
    "from sklearn.metrics import mean_absolute_error\n",
    "from sklearn.metrics import r2_score\n",
    "from sklearn.inspection import permutation_importance\n",
    "from sklearn.feature_selection import SelectKBest\n",
    "from sklearn.preprocessing import MinMaxScaler\n",
    "\n",
    "%matplotlib inline\n",
    "\n"
   ]
  },
  {
   "cell_type": "markdown",
   "metadata": {},
   "source": [
    "### Extract data"
   ]
  },
  {
   "cell_type": "code",
   "execution_count": 34,
   "metadata": {},
   "outputs": [
    {
     "name": "stdout",
     "output_type": "stream",
     "text": [
      "<class 'pandas.core.frame.DataFrame'>\n",
      "RangeIndex: 17576 entries, 0 to 17575\n",
      "Data columns (total 47 columns):\n",
      " #   Column                          Non-Null Count  Dtype         \n",
      "---  ------                          --------------  -----         \n",
      " 0   date_calc                       17576 non-null  datetime64[us]\n",
      " 1   date_forecast                   17576 non-null  datetime64[us]\n",
      " 2   absolute_humidity_2m:gm3        17576 non-null  float32       \n",
      " 3   air_density_2m:kgm3             17576 non-null  float32       \n",
      " 4   ceiling_height_agl:m            13657 non-null  float32       \n",
      " 5   clear_sky_energy_1h:J           17576 non-null  float32       \n",
      " 6   clear_sky_rad:W                 17576 non-null  float32       \n",
      " 7   cloud_base_agl:m                15482 non-null  float32       \n",
      " 8   dew_or_rime:idx                 17576 non-null  float32       \n",
      " 9   dew_point_2m:K                  17576 non-null  float32       \n",
      " 10  diffuse_rad:W                   17576 non-null  float32       \n",
      " 11  diffuse_rad_1h:J                17576 non-null  float32       \n",
      " 12  direct_rad:W                    17576 non-null  float32       \n",
      " 13  direct_rad_1h:J                 17576 non-null  float32       \n",
      " 14  effective_cloud_cover:p         17576 non-null  float32       \n",
      " 15  elevation:m                     17576 non-null  float32       \n",
      " 16  fresh_snow_12h:cm               17576 non-null  float32       \n",
      " 17  fresh_snow_1h:cm                17576 non-null  float32       \n",
      " 18  fresh_snow_24h:cm               17576 non-null  float32       \n",
      " 19  fresh_snow_3h:cm                17576 non-null  float32       \n",
      " 20  fresh_snow_6h:cm                17576 non-null  float32       \n",
      " 21  is_day:idx                      17576 non-null  float32       \n",
      " 22  is_in_shadow:idx                17576 non-null  float32       \n",
      " 23  msl_pressure:hPa                17576 non-null  float32       \n",
      " 24  precip_5min:mm                  17576 non-null  float32       \n",
      " 25  precip_type_5min:idx            17576 non-null  float32       \n",
      " 26  pressure_100m:hPa               17576 non-null  float32       \n",
      " 27  pressure_50m:hPa                17576 non-null  float32       \n",
      " 28  prob_rime:p                     17576 non-null  float32       \n",
      " 29  rain_water:kgm2                 17576 non-null  float32       \n",
      " 30  relative_humidity_1000hPa:p     17576 non-null  float32       \n",
      " 31  sfc_pressure:hPa                17576 non-null  float32       \n",
      " 32  snow_density:kgm3               1807 non-null   float32       \n",
      " 33  snow_depth:cm                   17576 non-null  float32       \n",
      " 34  snow_drift:idx                  17576 non-null  float32       \n",
      " 35  snow_melt_10min:mm              17576 non-null  float32       \n",
      " 36  snow_water:kgm2                 17576 non-null  float32       \n",
      " 37  sun_azimuth:d                   17576 non-null  float32       \n",
      " 38  sun_elevation:d                 17576 non-null  float32       \n",
      " 39  super_cooled_liquid_water:kgm2  17576 non-null  float32       \n",
      " 40  t_1000hPa:K                     17576 non-null  float32       \n",
      " 41  total_cloud_cover:p             17576 non-null  float32       \n",
      " 42  visibility:m                    17576 non-null  float32       \n",
      " 43  wind_speed_10m:ms               17576 non-null  float32       \n",
      " 44  wind_speed_u_10m:ms             17576 non-null  float32       \n",
      " 45  wind_speed_v_10m:ms             17576 non-null  float32       \n",
      " 46  wind_speed_w_1000hPa:ms         17576 non-null  float32       \n",
      "dtypes: datetime64[us](2), float32(45)\n",
      "memory usage: 3.3 MB\n",
      "None\n"
     ]
    }
   ],
   "source": [
    "train_a = pd.read_parquet('A/train_targets.parquet')\n",
    "X_train_estimated_a = pd.read_parquet('A/X_train_estimated.parquet')\n",
    "X_train_observed_a = pd.read_parquet('A/X_train_observed.parquet')\n",
    "X_test_estimated_a = pd.read_parquet('A/X_test_estimated.parquet')\n",
    "\n",
    "print(X_train_estimated_a.info())"
   ]
  },
  {
   "cell_type": "markdown",
   "metadata": {},
   "source": [
    "### Preprocessing of data\n",
    "Notice that we for now have a whole block dedicated to preprocessing, but should rather be its own module.\n",
    "\n",
    "TODO: Only train on the daytime data.\n",
    "\n",
    "TODO: Add a sun asimuth is good enough."
   ]
  },
  {
   "cell_type": "code",
   "execution_count": 35,
   "metadata": {},
   "outputs": [],
   "source": [
    "def data_length_matching(train: pd.DataFrame, obs: pd.DataFrame)-> tuple[pd.DataFrame, pd.DataFrame]:\n",
    "    \"\"\"\n",
    "    This function is intended to ensure that both the training data and\n",
    "    the observed data are sorted, and contain the same number of entries. \n",
    "    \"\"\"\n",
    "\n",
    "    # Cut the data frames so that their date match.\n",
    "    obs_feature_test = obs[obs['date_forecast'].isin(train['time'])].sort_values(by=['date_forecast'])  # sortert etter datao\n",
    "    # If only one of them has the date ensure that the other also has the same sorting.\n",
    "    train_feature_test = train[train['time'].isin(obs['date_forecast'])].sort_values(by=['time'])       # sortert etter datao\n",
    "\n",
    "    return train_feature_test, obs_feature_test\n",
    "\n",
    "X_total = pd.concat([X_train_observed_a, X_train_estimated_a], axis = 0, ignore_index=True)\n",
    "train_a = train_a.dropna()\n",
    "y, X = data_length_matching(train_a, X_total)\n",
    "\n",
    "y = y.reset_index(drop = True)\n",
    "X = X.reset_index(drop = True)\n",
    "\n"
   ]
  },
  {
   "cell_type": "code",
   "execution_count": 36,
   "metadata": {},
   "outputs": [
    {
     "name": "stderr",
     "output_type": "stream",
     "text": [
      "C:\\Users\\isakasa\\AppData\\Local\\Temp\\ipykernel_15212\\1114314456.py:8: FutureWarning: DataFrame.fillna with 'method' is deprecated and will raise in a future version. Use obj.ffill() or obj.bfill() instead.\n",
      "  X = X.fillna(method=\"backfill\", axis=None)\n"
     ]
    }
   ],
   "source": [
    "\n",
    "\n",
    "X['day_of_year'] = X['date_forecast'].dt.dayofyear\n",
    "X['month'] = X['date_forecast'].dt.month\n",
    "X['hour'] = X['date_forecast'].dt.hour\n",
    "\n",
    "X = X.drop('date_forecast', axis=1)\n",
    "X = X.drop('date_calc', axis=1)\n",
    "X = X.interpolate(method='linear')\n",
    "X = X.fillna(method=\"backfill\", axis=None)\n",
    "y = y.drop('time', axis=1)\n",
    "\n",
    "\n",
    "# DO we get a day or the \n",
    "\n",
    "X_train, X_test, y_train, y_test=train_test_split(X, y, test_size=0.15, shuffle=False)\n",
    "\n",
    "scaler = MinMaxScaler()\n",
    "\n",
    "# Fit and transform the data\n",
    "X_train = scaler.fit_transform(X_train)\n",
    "X_test = scaler.transform(X_test)"
   ]
  },
  {
   "cell_type": "markdown",
   "metadata": {},
   "source": [
    "## AI Training: CatBoost\n"
   ]
  },
  {
   "cell_type": "code",
   "execution_count": 44,
   "metadata": {},
   "outputs": [
    {
     "name": "stdout",
     "output_type": "stream",
     "text": [
      "Testing performance\n",
      "Mean Abs: 136.75\n",
      "R2: 0.86\n"
     ]
    }
   ],
   "source": [
    "\n",
    "train_dataset = cb.Pool(X_train, y_train) \n",
    "test_dataset = cb.Pool(X_test, y_test)\n",
    "\n",
    "model = cb.CatBoostRegressor(loss_function=\"RMSE\", logging_level='Silent')\n",
    "\n",
    "grid = {'iterations': [100, 150, 200],\n",
    "        'learning_rate': [0.03, 0.1],\n",
    "        'depth': [2, 4, 6, 8],\n",
    "        'l2_leaf_reg': [0.2, 0.5, 1, 3]}\n",
    "model.grid_search(grid, train_dataset, verbose=False)\n",
    "\n",
    "\n",
    "pred = model.predict(X_test)\n",
    "mae = (mean_absolute_error(y_test, pred))\n",
    "r2 = r2_score(y_test, pred)\n",
    "print(\"Testing performance\")\n",
    "print(\"Mean Abs: {:.2f}\".format(mae))\n",
    "print(\"R2: {:.2f}\".format(r2))\n",
    "\n"
   ]
  },
  {
   "cell_type": "markdown",
   "metadata": {},
   "source": [
    "### Plotting\n",
    "Adding a set of plotts to see how well the machine-learning model performs graphically.\n",
    "\n",
    "TODO: We should probably plot the data-values that perform the worst."
   ]
  },
  {
   "cell_type": "code",
   "execution_count": 47,
   "metadata": {},
   "outputs": [
    {
     "data": {
      "image/png": "[encoded data removed]",
      "text/plain": [
       "<Figure size 640x480 with 1 Axes>"
      ]
     },
     "metadata": {},
     "output_type": "display_data"
    }
   ],
   "source": [
    "\n",
    "\n",
    "x_ax = range(24)\n",
    "plt.scatter(x_ax, y_test[0:48], s=5, color=\"blue\", label=\"original\")\n",
    "plt.plot(x_ax, pred[0:48], lw=0.8, color=\"red\", label=\"predicted\")\n",
    "\n",
    "plt.legend()\n",
    "plt.show()\n"
   ]
  },
  {
   "cell_type": "markdown",
   "metadata": {},
   "source": []
  }
 ],
 "metadata": {
  "kernelspec": {
   "display_name": "basic_machine_learning",
   "language": "python",
   "name": "python3"
  },
  "language_info": {
   "codemirror_mode": {
    "name": "ipython",
    "version": 3
   },
   "file_extension": ".py",
   "mimetype": "text/x-python",
   "name": "python",
   "nbconvert_exporter": "python",
   "pygments_lexer": "ipython3",
   "version": "3.11.4"
  },
  "orig_nbformat": 4
 },
 "nbformat": 4,
 "nbformat_minor": 2
}
