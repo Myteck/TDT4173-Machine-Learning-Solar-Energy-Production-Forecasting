{
 "cells": [
  {
   "cell_type": "markdown",
   "metadata": {},
   "source": [
    "#  Cat Boost\n",
    "\n",
    "The aim of this notebook is to try out XG-boost on our optimization problem. There is also some ideas and concepts that will overlap with other machine learning models. Some novel ideas related to the preprocessing step is in this file, but SHOULD be moved to a dedicated pre-processing library to make the puipeline easier to work with.\n",
    "\n",
    "*TODO: Create a preprocessing library*"
   ]
  },
  {
   "cell_type": "markdown",
   "metadata": {},
   "source": [
    "### Import the needed libraries"
   ]
  },
  {
   "cell_type": "code",
   "execution_count": 19,
   "metadata": {},
   "outputs": [],
   "source": [
    "\n",
    "# First we will extract the data, and save it to a csv.\n",
    "\n",
    "# Machine Learning Model\n",
    "import catboost as cb\n",
    "\n",
    "# Data Processing Tools\n",
    "import numpy as np\n",
    "import pandas as pd\n",
    "import seaborn as sns\n",
    "\n",
    "# Data Display Tools\n",
    "import matplotlib.pyplot as plt\n",
    "\n",
    "# Machine Learning Tools\n",
    "from sklearn.model_selection import train_test_split\n",
    "from sklearn.metrics import mean_absolute_error\n",
    "from sklearn.metrics import r2_score\n",
    "from sklearn.inspection import permutation_importance\n",
    "from sklearn.feature_selection import SelectKBest\n",
    "from sklearn.preprocessing import MinMaxScaler\n",
    "\n",
    "from sklearn.feature_selection import f_regression\n",
    "\n",
    "import feature_generation as feat_gen\n",
    "import data_processing as dat_proc\n",
    "\n",
    "%matplotlib inline\n",
    "\n"
   ]
  },
  {
   "cell_type": "markdown",
   "metadata": {},
   "source": [
    "### Extract data"
   ]
  },
  {
   "cell_type": "code",
   "execution_count": 20,
   "metadata": {},
   "outputs": [
    {
     "name": "stdout",
     "output_type": "stream",
     "text": [
      "<class 'pandas.core.frame.DataFrame'>\n",
      "RangeIndex: 34085 entries, 0 to 34084\n",
      "Data columns (total 2 columns):\n",
      " #   Column          Non-Null Count  Dtype         \n",
      "---  ------          --------------  -----         \n",
      " 0   time            34085 non-null  datetime64[us]\n",
      " 1   pv_measurement  34085 non-null  float64       \n",
      "dtypes: datetime64[us](1), float64(1)\n",
      "memory usage: 532.7 KB\n",
      "None\n"
     ]
    }
   ],
   "source": [
    "train_a = pd.read_parquet('A/train_targets.parquet')\n",
    "X_train_estimated_a = pd.read_parquet('A/X_train_estimated.parquet')\n",
    "X_train_observed_a = pd.read_parquet('A/X_train_observed.parquet')\n",
    "X_test_estimated_a = pd.read_parquet('A/X_test_estimated.parquet')\n",
    "\n",
    "print(train_a.info())"
   ]
  },
  {
   "cell_type": "markdown",
   "metadata": {},
   "source": [
    "### Preprocessing of data\n",
    "Notice that we for now have a whole block dedicated to preprocessing, but should rather be its own module."
   ]
  },
  {
   "cell_type": "code",
   "execution_count": 21,
   "metadata": {},
   "outputs": [
    {
     "ename": "TypeError",
     "evalue": "concat() takes 1 positional argument but 2 were given",
     "output_type": "error",
     "traceback": [
      "\u001b[1;31m---------------------------------------------------------------------------\u001b[0m",
      "\u001b[1;31mTypeError\u001b[0m                                 Traceback (most recent call last)",
      "\u001b[1;32mc:\\Users\\isakasa\\OneDrive - NTNU\\Documents\\UNI\\TDT4173 Machine Learning\\group-project\\TDT4173-Machine-Learning-Solar-Energy-Production-Forecasting\\data\\cat_boost.ipynb Cell 7\u001b[0m line \u001b[0;36m4\n\u001b[0;32m     <a href='vscode-notebook-cell:/c%3A/Users/isakasa/OneDrive%20-%20NTNU/Documents/UNI/TDT4173%20Machine%20Learning/group-project/TDT4173-Machine-Learning-Solar-Energy-Production-Forecasting/data/cat_boost.ipynb#W6sZmlsZQ%3D%3D?line=37'>38</a>\u001b[0m X \u001b[39m=\u001b[39m X\u001b[39m.\u001b[39mreset_index(drop \u001b[39m=\u001b[39m \u001b[39mTrue\u001b[39;00m)\n\u001b[0;32m     <a href='vscode-notebook-cell:/c%3A/Users/isakasa/OneDrive%20-%20NTNU/Documents/UNI/TDT4173%20Machine%20Learning/group-project/TDT4173-Machine-Learning-Solar-Energy-Production-Forecasting/data/cat_boost.ipynb#W6sZmlsZQ%3D%3D?line=38'>39</a>\u001b[0m X \u001b[39m=\u001b[39m X\u001b[39m.\u001b[39mdrop(timestamps, axis\u001b[39m=\u001b[39m\u001b[39m1\u001b[39m)\n\u001b[1;32m---> <a href='vscode-notebook-cell:/c%3A/Users/isakasa/OneDrive%20-%20NTNU/Documents/UNI/TDT4173%20Machine%20Learning/group-project/TDT4173-Machine-Learning-Solar-Energy-Production-Forecasting/data/cat_boost.ipynb#W6sZmlsZQ%3D%3D?line=40'>41</a>\u001b[0m X \u001b[39m=\u001b[39m pd\u001b[39m.\u001b[39;49mconcat(X, y_features)\n\u001b[0;32m     <a href='vscode-notebook-cell:/c%3A/Users/isakasa/OneDrive%20-%20NTNU/Documents/UNI/TDT4173%20Machine%20Learning/group-project/TDT4173-Machine-Learning-Solar-Energy-Production-Forecasting/data/cat_boost.ipynb#W6sZmlsZQ%3D%3D?line=42'>43</a>\u001b[0m \u001b[39m#X = SelectKBest(f_regression, k=12).fit_transform(X, y)\u001b[39;00m\n",
      "\u001b[1;31mTypeError\u001b[0m: concat() takes 1 positional argument but 2 were given"
     ]
    }
   ],
   "source": [
    "X_train_estimated_a = X_train_estimated_a.drop(\"date_calc\", axis = 1)\n",
    "\n",
    "X = pd.concat([X_train_observed_a, X_train_estimated_a], axis = 0, ignore_index=True)\n",
    "\n",
    "X = X.interpolate(method='linear')\n",
    "X = X.bfill()\n",
    "\n",
    "timestamps = \"date_forecast\"\n",
    "measurements = list(X.columns.values)\n",
    "measurements.remove(timestamps)\n",
    "\n",
    "# Probable features that may be used\n",
    "der_df = feat_gen.derivative_from_df(X, timestamps, measurements)\n",
    "dder_df = feat_gen.derivative_from_df(X, timestamps, measurements)\n",
    "int_df = feat_gen.integral_from_df(X, timestamps, measurements)\n",
    "dint_df = feat_gen.double_integral_from_df(X, timestamps, measurements)\n",
    "time_df = feat_gen.time_data_from_df(X, timestamps)\n",
    "\n",
    "X = pd.concat([X, der_df, dder_df, int_df, dint_df, time_df], axis = \"columns\")\n",
    "\n",
    "y = train_a.dropna()\n",
    "\n",
    "# Additional features\n",
    "der_y = feat_gen.derivative_from_df(y, \"time\", [\"pv_measurement\"])\n",
    "der_y_shifted = feat_gen.shifted_values_24_h(der_y, \"derivative_pv_measurement\")\n",
    "y_shifted =  feat_gen.shifted_values_24_h(y, \"pv_measurement\")\n",
    "\n",
    "y_BIG = pd.concat([y, der_y_shifted, y_shifted])\n",
    "\n",
    "y_BIG, X = dat_proc.data_length_matching(y, X)\n",
    "\n",
    "y = y_BIG[\"pv_measurement\"]\n",
    "y = y.reset_index(drop = True)\n",
    "\n",
    "y_features = y_BIG.drop('time', axis=1)\n",
    "y_features = y_features.reset_index(drop = True)\n",
    "\n",
    "X = X.reset_index(drop = True)\n",
    "X = X.drop(timestamps, axis=1)\n",
    "\n",
    "X = pd.concat([X, y_features], axis = \"columns\")\n",
    "\n",
    "#X = SelectKBest(f_regression, k=12).fit_transform(X, y)"
   ]
  },
  {
   "cell_type": "code",
   "execution_count": null,
   "metadata": {},
   "outputs": [],
   "source": [
    "# DO we get a day or the \n",
    "X_train, X_test, y_train, y_test=train_test_split(X, y, test_size=0.15, shuffle=False)\n",
    "\n",
    "scaler = MinMaxScaler()\n",
    "\n",
    "# Fit and transform the data\n",
    "X_train = scaler.fit_transform(X_train)\n",
    "X_test = scaler.transform(X_test)"
   ]
  },
  {
   "cell_type": "markdown",
   "metadata": {},
   "source": [
    "## AI Training: CatBoost\n"
   ]
  },
  {
   "cell_type": "code",
   "execution_count": null,
   "metadata": {},
   "outputs": [
    {
     "name": "stdout",
     "output_type": "stream",
     "text": [
      "Testing performance\n",
      "Mean Abs: 138.46\n",
      "R2: 0.86\n"
     ]
    }
   ],
   "source": [
    "\n",
    "train_dataset = cb.Pool(X_train, y_train) \n",
    "test_dataset = cb.Pool(X_test, y_test)\n",
    "\n",
    "model = cb.CatBoostRegressor(loss_function=\"RMSE\", logging_level='Silent')\n",
    "\n",
    "grid = {'iterations': [100, 150, 200],\n",
    "        'learning_rate': [0.03, 0.1],\n",
    "        'depth': [2, 4, 6, 8],\n",
    "        'l2_leaf_reg': [0.2, 0.5, 1, 3]}\n",
    "model.grid_search(grid, train_dataset, verbose=False)\n",
    "\n",
    "\n",
    "pred = model.predict(X_test)\n",
    "mae = (mean_absolute_error(y_test, pred))\n",
    "r2 = r2_score(y_test, pred)\n",
    "print(\"Testing performance\")\n",
    "print(\"Mean Abs: {:.2f}\".format(mae))\n",
    "print(\"R2: {:.2f}\".format(r2))\n",
    "\n"
   ]
  },
  {
   "cell_type": "markdown",
   "metadata": {},
   "source": [
    "### Plotting\n",
    "Adding a set of plotts to see how well the machine-learning model performs graphically.\n",
    "\n",
    "TODO: We should probably plot the data-values that perform the worst."
   ]
  },
  {
   "cell_type": "code",
   "execution_count": null,
   "metadata": {},
   "outputs": [
    {
     "data": {
      "image/png": "[encoded data removed]",
      "text/plain": [
       "<Figure size 640x480 with 1 Axes>"
      ]
     },
     "metadata": {},
     "output_type": "display_data"
    }
   ],
   "source": [
    "\n",
    "\n",
    "x_ax = range(48)\n",
    "plt.scatter(x_ax, y_test[0:48], s=5, color=\"blue\", label=\"original\")\n",
    "plt.plot(x_ax, pred[0:48], lw=0.8, color=\"red\", label=\"predicted\")\n",
    "\n",
    "plt.legend()\n",
    "plt.show()\n"
   ]
  },
  {
   "cell_type": "markdown",
   "metadata": {},
   "source": []
  }
 ],
 "metadata": {
  "kernelspec": {
   "display_name": "basic_machine_learning",
   "language": "python",
   "name": "python3"
  },
  "language_info": {
   "codemirror_mode": {
    "name": "ipython",
    "version": 3
   },
   "file_extension": ".py",
   "mimetype": "text/x-python",
   "name": "python",
   "nbconvert_exporter": "python",
   "pygments_lexer": "ipython3",
   "version": "3.11.4"
  },
  "orig_nbformat": 4
 },
 "nbformat": 4,
 "nbformat_minor": 2
}
