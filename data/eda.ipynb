{
 "cells": [
  {
   "cell_type": "markdown",
   "metadata": {},
   "source": [
    "# Exploratory Data Analysis\n",
    "\n",
    "This document is dedicated for the exploratory part of the project. We are looking for features that might correlate with the data. So that the machine learning algorithm may learn from the most important data."
   ]
  },
  {
   "cell_type": "code",
   "execution_count": 1,
   "metadata": {},
   "outputs": [],
   "source": [
    "import os\n",
    "import pandas as pd\n",
    "import numpy as np\n",
    "import matplotlib.pylab as plt\n",
    "%matplotlib inline\n",
    "\n",
    "pd.set_option('display.max_rows', 200)\n",
    "pd.set_option('display.max_columns', 200)"
   ]
  },
  {
   "cell_type": "markdown",
   "metadata": {},
   "source": [
    "![Data Categorization](./pictures/data_categorization.png)\n",
    "The picture above illustrates how the data is cattegorized."
   ]
  },
  {
   "cell_type": "code",
   "execution_count": 4,
   "metadata": {},
   "outputs": [
    {
     "name": "stdout",
     "output_type": "stream",
     "text": [
      "['time' 'pv_measurement']\n",
      "['date_calc' 'date_forecast' 'absolute_humidity_2m:gm3'\n",
      " 'air_density_2m:kgm3' 'ceiling_height_agl:m' 'clear_sky_energy_1h:J'\n",
      " 'clear_sky_rad:W' 'cloud_base_agl:m' 'dew_or_rime:idx' 'dew_point_2m:K'\n",
      " 'diffuse_rad:W' 'diffuse_rad_1h:J' 'direct_rad:W' 'direct_rad_1h:J'\n",
      " 'effective_cloud_cover:p' 'elevation:m' 'fresh_snow_12h:cm'\n",
      " 'fresh_snow_1h:cm' 'fresh_snow_24h:cm' 'fresh_snow_3h:cm'\n",
      " 'fresh_snow_6h:cm' 'is_day:idx' 'is_in_shadow:idx' 'msl_pressure:hPa'\n",
      " 'precip_5min:mm' 'precip_type_5min:idx' 'pressure_100m:hPa'\n",
      " 'pressure_50m:hPa' 'prob_rime:p' 'rain_water:kgm2'\n",
      " 'relative_humidity_1000hPa:p' 'sfc_pressure:hPa' 'snow_density:kgm3'\n",
      " 'snow_depth:cm' 'snow_drift:idx' 'snow_melt_10min:mm' 'snow_water:kgm2'\n",
      " 'sun_azimuth:d' 'sun_elevation:d' 'super_cooled_liquid_water:kgm2'\n",
      " 't_1000hPa:K' 'total_cloud_cover:p' 'visibility:m' 'wind_speed_10m:ms'\n",
      " 'wind_speed_u_10m:ms' 'wind_speed_v_10m:ms' 'wind_speed_w_1000hPa:ms']\n",
      "['date_forecast' 'absolute_humidity_2m:gm3' 'air_density_2m:kgm3'\n",
      " 'ceiling_height_agl:m' 'clear_sky_energy_1h:J' 'clear_sky_rad:W'\n",
      " 'cloud_base_agl:m' 'dew_or_rime:idx' 'dew_point_2m:K' 'diffuse_rad:W'\n",
      " 'diffuse_rad_1h:J' 'direct_rad:W' 'direct_rad_1h:J'\n",
      " 'effective_cloud_cover:p' 'elevation:m' 'fresh_snow_12h:cm'\n",
      " 'fresh_snow_1h:cm' 'fresh_snow_24h:cm' 'fresh_snow_3h:cm'\n",
      " 'fresh_snow_6h:cm' 'is_day:idx' 'is_in_shadow:idx' 'msl_pressure:hPa'\n",
      " 'precip_5min:mm' 'precip_type_5min:idx' 'pressure_100m:hPa'\n",
      " 'pressure_50m:hPa' 'prob_rime:p' 'rain_water:kgm2'\n",
      " 'relative_humidity_1000hPa:p' 'sfc_pressure:hPa' 'snow_density:kgm3'\n",
      " 'snow_depth:cm' 'snow_drift:idx' 'snow_melt_10min:mm' 'snow_water:kgm2'\n",
      " 'sun_azimuth:d' 'sun_elevation:d' 'super_cooled_liquid_water:kgm2'\n",
      " 't_1000hPa:K' 'total_cloud_cover:p' 'visibility:m' 'wind_speed_10m:ms'\n",
      " 'wind_speed_u_10m:ms' 'wind_speed_v_10m:ms' 'wind_speed_w_1000hPa:ms']\n",
      "['date_calc' 'date_forecast' 'absolute_humidity_2m:gm3'\n",
      " 'air_density_2m:kgm3' 'ceiling_height_agl:m' 'clear_sky_energy_1h:J'\n",
      " 'clear_sky_rad:W' 'cloud_base_agl:m' 'dew_or_rime:idx' 'dew_point_2m:K'\n",
      " 'diffuse_rad:W' 'diffuse_rad_1h:J' 'direct_rad:W' 'direct_rad_1h:J'\n",
      " 'effective_cloud_cover:p' 'elevation:m' 'fresh_snow_12h:cm'\n",
      " 'fresh_snow_1h:cm' 'fresh_snow_24h:cm' 'fresh_snow_3h:cm'\n",
      " 'fresh_snow_6h:cm' 'is_day:idx' 'is_in_shadow:idx' 'msl_pressure:hPa'\n",
      " 'precip_5min:mm' 'precip_type_5min:idx' 'pressure_100m:hPa'\n",
      " 'pressure_50m:hPa' 'prob_rime:p' 'rain_water:kgm2'\n",
      " 'relative_humidity_1000hPa:p' 'sfc_pressure:hPa' 'snow_density:kgm3'\n",
      " 'snow_depth:cm' 'snow_drift:idx' 'snow_melt_10min:mm' 'snow_water:kgm2'\n",
      " 'sun_azimuth:d' 'sun_elevation:d' 'super_cooled_liquid_water:kgm2'\n",
      " 't_1000hPa:K' 'total_cloud_cover:p' 'visibility:m' 'wind_speed_10m:ms'\n",
      " 'wind_speed_u_10m:ms' 'wind_speed_v_10m:ms' 'wind_speed_w_1000hPa:ms']\n"
     ]
    }
   ],
   "source": [
    "train_a = pd.read_parquet('A/train_targets.parquet')\n",
    "print(\"\\n These are the column categories of TRAIN_A: \", train_a.columns.values)\n",
    "\n",
    "X_train_estimated_a = pd.read_parquet('A/X_train_estimated.parquet')\n",
    "print(\"\\n These are the column categories of TRAIN_A: \", X_train_estimated_a.columns.values)\n",
    "\n",
    "X_train_observed_a = pd.read_parquet('A/X_train_observed.parquet')\n",
    "print(\"\\n These are the column categories of TRAIN_A: \", X_train_observed_a.columns.values)\n",
    "\n",
    "X_test_estimated_a = pd.read_parquet('A/X_test_estimated.parquet')\n",
    "print(\"\\n These are the column categories of TRAIN_A: \", X_test_estimated_a.columns.values)"
   ]
  },
  {
   "cell_type": "markdown",
   "metadata": {},
   "source": [
    "![Data Categorization](./pictures/model_testing_procedure.png)\n",
    "The picture above describes the procedure that will be used to test the model."
   ]
  },
  {
   "cell_type": "code",
   "execution_count": null,
   "metadata": {},
   "outputs": [],
   "source": []
  }
 ],
 "metadata": {
  "kernelspec": {
   "display_name": "basic_machine_learning",
   "language": "python",
   "name": "python3"
  },
  "language_info": {
   "codemirror_mode": {
    "name": "ipython",
    "version": 3
   },
   "file_extension": ".py",
   "mimetype": "text/x-python",
   "name": "python",
   "nbconvert_exporter": "python",
   "pygments_lexer": "ipython3",
   "version": "3.10.12"
  },
  "orig_nbformat": 4
 },
 "nbformat": 4,
 "nbformat_minor": 2
}
