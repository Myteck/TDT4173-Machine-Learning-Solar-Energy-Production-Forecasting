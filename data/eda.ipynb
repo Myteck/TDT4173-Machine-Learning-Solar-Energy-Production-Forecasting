{
 "cells": [
  {
   "cell_type": "markdown",
   "metadata": {},
   "source": [
    "# Exploratory Data Analysis\n",
    "\n",
    "This document is dedicated for the exploratory part of the project. We are looking for features that might correlate with the data. So that the machine learning algorithm may learn from the most important data."
   ]
  },
  {
   "cell_type": "code",
   "execution_count": 1,
   "metadata": {},
   "outputs": [],
   "source": [
    "import os\n",
    "import pandas as pd\n",
    "import numpy as np\n",
    "import matplotlib.pylab as plt\n",
    "%matplotlib inline\n",
    "\n",
    "pd.set_option('display.max_rows', 200)\n",
    "pd.set_option('display.max_columns', 200)"
   ]
  },
  {
   "cell_type": "markdown",
   "metadata": {},
   "source": [
    "![Data Categorization](./pictures/data_categorization.png)\n",
    "\n",
    "\n",
    "The picture above illustrates how the data is categorized."
   ]
  },
  {
   "cell_type": "code",
   "execution_count": 17,
   "metadata": {},
   "outputs": [
    {
     "name": "stdout",
     "output_type": "stream",
     "text": [
      "\n",
      " These are the column categories of TRAIN_A:  ['time' 'pv_measurement']\n",
      "\n",
      " These are the column categories of X_TRAIN_ESTIMATED_A:  ['date_calc' 'date_forecast' 'absolute_humidity_2m:gm3'\n",
      " 'air_density_2m:kgm3' 'ceiling_height_agl:m' 'clear_sky_energy_1h:J'\n",
      " 'clear_sky_rad:W']\n",
      "The total length is:  47\n",
      "\n",
      " These are the column categories of X_TRAIN_OBSERVED_A:  ['date_forecast' 'absolute_humidity_2m:gm3' 'air_density_2m:kgm3'\n",
      " 'ceiling_height_agl:m' 'clear_sky_energy_1h:J' 'clear_sky_rad:W'\n",
      " 'cloud_base_agl:m']\n",
      "The total length is:  46\n",
      "\n",
      " These are the column categories of X_TEST_ESTIMATED_A:  ['date_calc' 'date_forecast' 'absolute_humidity_2m:gm3'\n",
      " 'air_density_2m:kgm3' 'ceiling_height_agl:m' 'clear_sky_energy_1h:J'\n",
      " 'clear_sky_rad:W']\n",
      "The total length is:  47\n",
      "\n",
      " The differences between X_TRAIN_OBSERVED_A and X_TRAIN_ESTIMATED_A: []\n",
      "\n",
      " The differences between X_TRAIN_OBSERVED_A and X_TEST_ESTIMATED_A: ['date_calc']\n",
      "\n",
      " The differences between X_TEST_ESTIMATED_A and X_TRAIN_ESTIMATED_A: []\n"
     ]
    }
   ],
   "source": [
    "train_a = pd.read_parquet('A/train_targets.parquet')\n",
    "print(\"\\n These are the column categories of TRAIN_A: \", train_a.columns.values)\n",
    "\n",
    "X_train_estimated_a = pd.read_parquet('A/X_train_estimated.parquet')\n",
    "print(\"\\n These are the column categories of X_TRAIN_ESTIMATED_A: \", X_train_estimated_a.columns.values[0:7])\n",
    "print(\"The total length is: \", len(X_train_estimated_a.columns.values))\n",
    "\n",
    "X_train_observed_a = pd.read_parquet('A/X_train_observed.parquet')\n",
    "print(\"\\n These are the column categories of X_TRAIN_OBSERVED_A: \", X_train_observed_a.columns.values[0:7])\n",
    "print(\"The total length is: \", len(X_train_observed_a.columns.values))\n",
    "\n",
    "X_test_estimated_a = pd.read_parquet('A/X_test_estimated.parquet')\n",
    "print(\"\\n These are the column categories of X_TEST_ESTIMATED_A: \", X_test_estimated_a.columns.values[0:7])\n",
    "print(\"The total length is: \", len(X_test_estimated_a.columns.values))\n",
    "\n",
    "\n",
    "\n",
    "\n",
    "\"\"\"\n",
    "Looking for differences between the categories of each set.\n",
    "\"\"\"\n",
    "\n",
    "dif = list(set(X_train_observed_a.columns.values) - set(X_train_estimated_a.columns.values))\n",
    "print(\"\\n The differences between X_TRAIN_OBSERVED_A and X_TRAIN_ESTIMATED_A:\", dif)\n",
    "\n",
    "dif = list(set(X_test_estimated_a.columns.values) - set(X_train_observed_a.columns.values))\n",
    "print(\"\\n The differences between X_TRAIN_OBSERVED_A and X_TEST_ESTIMATED_A:\", dif)\n",
    "\n",
    "dif = list(set(X_train_estimated_a.columns.values) - set(X_test_estimated_a.columns.values))\n",
    "print(\"\\n The differences between X_TEST_ESTIMATED_A and X_TRAIN_ESTIMATED_A:\", dif)\n",
    "\n"
   ]
  },
  {
   "cell_type": "markdown",
   "metadata": {},
   "source": [
    "## Discovery\n",
    "There is a difference between the trained data, and this is mainly that \"X_trained_observed\" has one less category than the 2 other X-values. Why this is remains however unclear."
   ]
  },
  {
   "cell_type": "markdown",
   "metadata": {},
   "source": [
    "![Data Categorization](./pictures/model_testing_procedure.png)\n",
    "The picture above describes the procedure that will be used to test the model."
   ]
  },
  {
   "cell_type": "code",
   "execution_count": null,
   "metadata": {},
   "outputs": [],
   "source": []
  }
 ],
 "metadata": {
  "kernelspec": {
   "display_name": "basic_machine_learning",
   "language": "python",
   "name": "python3"
  },
  "language_info": {
   "codemirror_mode": {
    "name": "ipython",
    "version": 3
   },
   "file_extension": ".py",
   "mimetype": "text/x-python",
   "name": "python",
   "nbconvert_exporter": "python",
   "pygments_lexer": "ipython3",
   "version": "3.11.4"
  },
  "orig_nbformat": 4
 },
 "nbformat": 4,
 "nbformat_minor": 2
}
