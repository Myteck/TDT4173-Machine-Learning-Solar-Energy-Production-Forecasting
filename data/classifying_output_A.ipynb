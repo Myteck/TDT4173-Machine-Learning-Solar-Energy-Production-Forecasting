{
 "cells": [
  {
   "cell_type": "code",
   "execution_count": null,
   "metadata": {},
   "outputs": [],
   "source": []
  },
  {
   "cell_type": "markdown",
   "metadata": {},
   "source": [
    "# Checking whether an output is either 0 or 1."
   ]
  },
  {
   "cell_type": "code",
   "execution_count": 1,
   "metadata": {},
   "outputs": [],
   "source": [
    "from sklearn.model_selection import train_test_split, GridSearchCV\n",
    "from sklearn.tree import DecisionTreeClassifier\n",
    "from sklearn.metrics import accuracy_score\n",
    "\n",
    "# Data Processing Tools\n",
    "import numpy as np\n",
    "import pandas as pd\n",
    "\n",
    "# Data Display Tools\n",
    "import matplotlib.pyplot as plt\n",
    "\n",
    "import feature_generation as feat_gen\n",
    "import data_processing as dat_proc\n"
   ]
  },
  {
   "cell_type": "code",
   "execution_count": 2,
   "metadata": {},
   "outputs": [
    {
     "name": "stdout",
     "output_type": "stream",
     "text": [
      "<class 'pandas.core.frame.DataFrame'>\n",
      "RangeIndex: 2880 entries, 0 to 2879\n",
      "Data columns (total 47 columns):\n",
      " #   Column                          Non-Null Count  Dtype         \n",
      "---  ------                          --------------  -----         \n",
      " 0   date_calc                       2880 non-null   datetime64[us]\n",
      " 1   date_forecast                   2880 non-null   datetime64[us]\n",
      " 2   absolute_humidity_2m:gm3        2880 non-null   float32       \n",
      " 3   air_density_2m:kgm3             2880 non-null   float32       \n",
      " 4   ceiling_height_agl:m            2125 non-null   float32       \n",
      " 5   clear_sky_energy_1h:J           2880 non-null   float32       \n",
      " 6   clear_sky_rad:W                 2880 non-null   float32       \n",
      " 7   cloud_base_agl:m                2603 non-null   float32       \n",
      " 8   dew_or_rime:idx                 2880 non-null   float32       \n",
      " 9   dew_point_2m:K                  2880 non-null   float32       \n",
      " 10  diffuse_rad:W                   2880 non-null   float32       \n",
      " 11  diffuse_rad_1h:J                2880 non-null   float32       \n",
      " 12  direct_rad:W                    2880 non-null   float32       \n",
      " 13  direct_rad_1h:J                 2880 non-null   float32       \n",
      " 14  effective_cloud_cover:p         2880 non-null   float32       \n",
      " 15  elevation:m                     2880 non-null   float32       \n",
      " 16  fresh_snow_12h:cm               2880 non-null   float32       \n",
      " 17  fresh_snow_1h:cm                2880 non-null   float32       \n",
      " 18  fresh_snow_24h:cm               2880 non-null   float32       \n",
      " 19  fresh_snow_3h:cm                2880 non-null   float32       \n",
      " 20  fresh_snow_6h:cm                2880 non-null   float32       \n",
      " 21  is_day:idx                      2880 non-null   float32       \n",
      " 22  is_in_shadow:idx                2880 non-null   float32       \n",
      " 23  msl_pressure:hPa                2880 non-null   float32       \n",
      " 24  precip_5min:mm                  2880 non-null   float32       \n",
      " 25  precip_type_5min:idx            2880 non-null   float32       \n",
      " 26  pressure_100m:hPa               2880 non-null   float32       \n",
      " 27  pressure_50m:hPa                2880 non-null   float32       \n",
      " 28  prob_rime:p                     2880 non-null   float32       \n",
      " 29  rain_water:kgm2                 2880 non-null   float32       \n",
      " 30  relative_humidity_1000hPa:p     2880 non-null   float32       \n",
      " 31  sfc_pressure:hPa                2880 non-null   float32       \n",
      " 32  snow_density:kgm3               0 non-null      float32       \n",
      " 33  snow_depth:cm                   2880 non-null   float32       \n",
      " 34  snow_drift:idx                  2880 non-null   float32       \n",
      " 35  snow_melt_10min:mm              2880 non-null   float32       \n",
      " 36  snow_water:kgm2                 2880 non-null   float32       \n",
      " 37  sun_azimuth:d                   2880 non-null   float32       \n",
      " 38  sun_elevation:d                 2880 non-null   float32       \n",
      " 39  super_cooled_liquid_water:kgm2  2880 non-null   float32       \n",
      " 40  t_1000hPa:K                     2880 non-null   float32       \n",
      " 41  total_cloud_cover:p             2880 non-null   float32       \n",
      " 42  visibility:m                    2880 non-null   float32       \n",
      " 43  wind_speed_10m:ms               2880 non-null   float32       \n",
      " 44  wind_speed_u_10m:ms             2880 non-null   float32       \n",
      " 45  wind_speed_v_10m:ms             2880 non-null   float32       \n",
      " 46  wind_speed_w_1000hPa:ms         2880 non-null   float32       \n",
      "dtypes: datetime64[us](2), float32(45)\n",
      "memory usage: 551.4 KB\n",
      "None\n",
      "0      2023-05-01 00:00:00\n",
      "1      2023-05-01 00:15:00\n",
      "2      2023-05-01 00:30:00\n",
      "3      2023-05-01 00:45:00\n",
      "4      2023-05-01 01:00:00\n",
      "               ...        \n",
      "2875   2023-07-03 22:45:00\n",
      "2876   2023-07-03 23:00:00\n",
      "2877   2023-07-03 23:15:00\n",
      "2878   2023-07-03 23:30:00\n",
      "2879   2023-07-03 23:45:00\n",
      "Name: date_forecast, Length: 2880, dtype: datetime64[us]\n"
     ]
    }
   ],
   "source": [
    "train_a = pd.read_parquet('A/train_targets.parquet')\n",
    "X_train_estimated_a = pd.read_parquet('A/X_train_estimated.parquet')\n",
    "X_train_observed_a = pd.read_parquet('A/X_train_observed.parquet')\n",
    "X_test_estimated_a = pd.read_parquet('A/X_test_estimated.parquet')\n",
    "\n",
    "\n",
    "print(X_test_estimated_a.info())\n",
    "print(X_test_estimated_a[\"date_forecast\"])\n",
    "\n",
    "\n"
   ]
  },
  {
   "cell_type": "code",
   "execution_count": 3,
   "metadata": {},
   "outputs": [
    {
     "name": "stderr",
     "output_type": "stream",
     "text": [
      "C:\\Users\\isakasa\\AppData\\Local\\Temp\\ipykernel_13264\\2501500265.py:26: SettingWithCopyWarning: \n",
      "A value is trying to be set on a copy of a slice from a DataFrame.\n",
      "Try using .loc[row_indexer,col_indexer] = value instead\n",
      "\n",
      "See the caveats in the documentation: https://pandas.pydata.org/pandas-docs/stable/user_guide/indexing.html#returning-a-view-versus-a-copy\n",
      "  y['pv_measurement'] = y['pv_measurement'].apply(lambda x: 1 if x > 0 else 0)\n"
     ]
    }
   ],
   "source": [
    "X_train_estimated_a = X_train_estimated_a.drop(\"date_calc\", axis = 1)\n",
    "\n",
    "X = pd.concat([X_train_observed_a, X_train_estimated_a], axis = 0, ignore_index=True)\n",
    "\n",
    "# Removing NaN values. If there are missing values treat start and end points as beginning and end of a line.\n",
    "X = X.interpolate(method='linear')\n",
    "X = X.bfill()\n",
    "\n",
    "# Extract necesarry values for feature generation.\n",
    "timestamps = \"date_forecast\"\n",
    "measurements = list(X.columns.values)\n",
    "measurements.remove(timestamps)\n",
    "\n",
    "# Probable features that may be used\n",
    "der_df = feat_gen.difference_df(X, timestamps, measurements)\n",
    "dder_df = feat_gen.double_derivative_from_df(X, timestamps, measurements)\n",
    "int_df = feat_gen.daily_accumulated_val_df(X, timestamps, measurements)\n",
    "dint_df = feat_gen.daily_accumulated_val_squared_df(X, timestamps, measurements)\n",
    "time_df = feat_gen.time_data_from_df(X, timestamps)\n",
    "\n",
    "\n",
    "X = pd.concat([X, der_df, dder_df, int_df, dint_df, time_df], axis = \"columns\")\n",
    "\n",
    "y = train_a.dropna()\n",
    "\n",
    "y['pv_measurement'] = y['pv_measurement'].apply(lambda x: 1 if x > 0 else 0)\n",
    "\n",
    "\n",
    "# Making sure that the two dataframes match in length.\n",
    "y_BIG, X = dat_proc.data_length_matching(y, X)\n",
    "\n",
    "# Get our desired output\n",
    "y = y_BIG[\"pv_measurement\"]\n",
    "y = y.reset_index(drop = True)\n",
    "\n",
    "# Removing datetime object column\n",
    "X = X.reset_index(drop = True)\n",
    "X = X.drop(timestamps, axis=1)"
   ]
  },
  {
   "cell_type": "code",
   "execution_count": 4,
   "metadata": {},
   "outputs": [],
   "source": [
    "# Split the data into training and testing sets\n",
    "X_train, X_test, y_train, y_test = train_test_split(X, y, test_size=0.2, random_state=42)\n"
   ]
  },
  {
   "cell_type": "code",
   "execution_count": 5,
   "metadata": {},
   "outputs": [
    {
     "name": "stdout",
     "output_type": "stream",
     "text": [
      "Best Model Accuracy: 0.926416819012797\n",
      "Best Hyperparameters: {'criterion': 'entropy', 'max_depth': None, 'min_samples_leaf': 1, 'min_samples_split': 2}\n"
     ]
    }
   ],
   "source": [
    "\n",
    "\n",
    "# Create a decision tree classifier\n",
    "clf = DecisionTreeClassifier()\n",
    "\n",
    "# Define the hyperparameters to search through\n",
    "param_grid = {\n",
    "    'criterion': ['gini', 'entropy'],\n",
    "    'max_depth': [None, 5, 10, 15],\n",
    "    'min_samples_split': [2, 5, 10],\n",
    "    'min_samples_leaf': [1, 2, 4]\n",
    "}\n",
    "\n",
    "# Use GridSearchCV to find the best hyperparameters\n",
    "grid_search = GridSearchCV(clf, param_grid, cv=5, scoring='accuracy')\n",
    "grid_search.fit(X_train, y_train)\n",
    "\n",
    "# Get the best model from the grid search\n",
    "best_clf = grid_search.best_estimator_\n",
    "\n",
    "# Make predictions on the test data using the best model\n",
    "predictions = best_clf.predict(X_test)\n",
    "\n",
    "# Evaluate the accuracy of the best model\n",
    "accuracy = accuracy_score(y_test, predictions)\n",
    "print(f\"Best Model Accuracy: {accuracy}\")\n",
    "print(f\"Best Hyperparameters: {grid_search.best_params_}\")\n",
    "\n"
   ]
  },
  {
   "cell_type": "code",
   "execution_count": 6,
   "metadata": {},
   "outputs": [],
   "source": [
    "X = X_test_estimated_a\n",
    "\n",
    "# Removing NaN values. If there are missing values treat start and end points as beginning and end of a line.\n",
    "X = X.interpolate(method='linear')\n",
    "X = X.bfill()\n",
    "\n",
    "# Extract necesarry values for feature generation.\n",
    "timestamps = \"date_forecast\"\n",
    "measurements = list(X.columns.values)\n",
    "measurements.remove(\"date_forecast\")\n",
    "measurements.remove(\"date_calc\")\n",
    "\n",
    "# Probable features that may be used\n",
    "der_df = feat_gen.difference_df(X, timestamps, measurements)\n",
    "dder_df = feat_gen.double_derivative_from_df(X, timestamps, measurements)\n",
    "int_df = feat_gen.daily_accumulated_val_df(X, timestamps, measurements)\n",
    "dint_df = feat_gen.daily_accumulated_val_squared_df(X, timestamps, measurements)\n",
    "time_df = feat_gen.time_data_from_df(X, timestamps)\n",
    "\n",
    "\n",
    "X = pd.concat([X, der_df, dder_df, int_df, dint_df, time_df], axis = \"columns\")\n",
    "\n",
    "# Removing datetime object column\n",
    "X = X.reset_index(drop = True)\n",
    "X = X.drop(\"date_calc\", axis=1)\n",
    "X = X.drop(\"date_forecast\", axis=1)\n",
    "\n",
    "# Data processing pipeline should be completed :/\n",
    "pred = best_clf.predict(X)\n",
    "\n"
   ]
  },
  {
   "cell_type": "code",
   "execution_count": 7,
   "metadata": {},
   "outputs": [],
   "source": [
    "pred_df = pd.DataFrame(pred)\n",
    "pred_df.to_csv('A_Class.csv')"
   ]
  },
  {
   "cell_type": "code",
   "execution_count": null,
   "metadata": {},
   "outputs": [],
   "source": []
  }
 ],
 "metadata": {
  "kernelspec": {
   "display_name": "Python 3",
   "language": "python",
   "name": "python3"
  },
  "language_info": {
   "codemirror_mode": {
    "name": "ipython",
    "version": 3
   },
   "file_extension": ".py",
   "mimetype": "text/x-python",
   "name": "python",
   "nbconvert_exporter": "python",
   "pygments_lexer": "ipython3",
   "version": "3.11.4"
  }
 },
 "nbformat": 4,
 "nbformat_minor": 2
}
