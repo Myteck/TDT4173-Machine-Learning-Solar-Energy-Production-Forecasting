{
 "cells": [
  {
   "cell_type": "code",
   "execution_count": 20,
   "metadata": {},
   "outputs": [],
   "source": [
    "import pandas as pd\n",
    "\n",
    "# Load the first CSV file\n",
    "dfA = pd.read_csv('A_pred.csv')\n",
    "dfA.columns = [\"id\", \"A\"]\n",
    "\n",
    "# Load the second CSV file\n",
    "dfB = pd.read_csv('B_pred.csv')\n",
    "dfB.columns = [\"id\", \"B\"]\n",
    "\n",
    "# Load the second CSV file\n",
    "dfC = pd.read_csv('C_pred.csv')\n",
    "dfC.columns = [\"id\", \"C\"]\n",
    "\n",
    "\n",
    "# Merge based on a common identifier column (e.g., 'id')\n",
    "merged_df = pd.merge(dfA[:2160], dfB[:2160], how = \"left\", on =\"id\")\n",
    "merged_df = pd.merge(merged_df, dfC[:2160], how = \"left\", on =\"id\")\n",
    "\n",
    "# Save the merged DataFrame to a new CSV file\n",
    "dfA[:2160].to_csv('merged_predictions.csv', index=False)"
   ]
  }
 ],
 "metadata": {
  "kernelspec": {
   "display_name": "basic_machine_learning",
   "language": "python",
   "name": "python3"
  },
  "language_info": {
   "codemirror_mode": {
    "name": "ipython",
    "version": 3
   },
   "file_extension": ".py",
   "mimetype": "text/x-python",
   "name": "python",
   "nbconvert_exporter": "python",
   "pygments_lexer": "ipython3",
   "version": "3.11.4"
  }
 },
 "nbformat": 4,
 "nbformat_minor": 2
}
