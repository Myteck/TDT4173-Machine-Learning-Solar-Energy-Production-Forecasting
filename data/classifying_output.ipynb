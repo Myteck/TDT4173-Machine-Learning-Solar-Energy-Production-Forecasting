{
 "cells": [
  {
   "cell_type": "code",
   "execution_count": null,
   "metadata": {},
   "outputs": [],
   "source": []
  },
  {
   "cell_type": "markdown",
   "metadata": {},
   "source": [
    "# Checking whether an output is either 0 or 1."
   ]
  },
  {
   "cell_type": "code",
   "execution_count": 12,
   "metadata": {},
   "outputs": [],
   "source": [
    "from sklearn.model_selection import train_test_split, GridSearchCV\n",
    "from sklearn.tree import DecisionTreeClassifier\n",
    "from sklearn.metrics import accuracy_score\n",
    "\n",
    "# Data Processing Tools\n",
    "import numpy as np\n",
    "import pandas as pd\n",
    "\n",
    "# Data Display Tools\n",
    "import matplotlib.pyplot as plt\n",
    "\n",
    "import feature_generation as feat_gen\n",
    "import data_processing as dat_proc\n"
   ]
  },
  {
   "cell_type": "code",
   "execution_count": 13,
   "metadata": {},
   "outputs": [
    {
     "name": "stdout",
     "output_type": "stream",
     "text": [
      "<class 'pandas.core.frame.DataFrame'>\n",
      "RangeIndex: 2880 entries, 0 to 2879\n",
      "Data columns (total 47 columns):\n",
      " #   Column                          Non-Null Count  Dtype         \n",
      "---  ------                          --------------  -----         \n",
      " 0   date_calc                       2880 non-null   datetime64[us]\n",
      " 1   date_forecast                   2880 non-null   datetime64[us]\n",
      " 2   absolute_humidity_2m:gm3        2880 non-null   float32       \n",
      " 3   air_density_2m:kgm3             2880 non-null   float32       \n",
      " 4   ceiling_height_agl:m            2087 non-null   float32       \n",
      " 5   clear_sky_energy_1h:J           2880 non-null   float32       \n",
      " 6   clear_sky_rad:W                 2880 non-null   float32       \n",
      " 7   cloud_base_agl:m                2582 non-null   float32       \n",
      " 8   dew_or_rime:idx                 2880 non-null   float32       \n",
      " 9   dew_point_2m:K                  2880 non-null   float32       \n",
      " 10  diffuse_rad:W                   2880 non-null   float32       \n",
      " 11  diffuse_rad_1h:J                2880 non-null   float32       \n",
      " 12  direct_rad:W                    2880 non-null   float32       \n",
      " 13  direct_rad_1h:J                 2880 non-null   float32       \n",
      " 14  effective_cloud_cover:p         2880 non-null   float32       \n",
      " 15  elevation:m                     2880 non-null   float32       \n",
      " 16  fresh_snow_12h:cm               2880 non-null   float32       \n",
      " 17  fresh_snow_1h:cm                2880 non-null   float32       \n",
      " 18  fresh_snow_24h:cm               2880 non-null   float32       \n",
      " 19  fresh_snow_3h:cm                2880 non-null   float32       \n",
      " 20  fresh_snow_6h:cm                2880 non-null   float32       \n",
      " 21  is_day:idx                      2880 non-null   float32       \n",
      " 22  is_in_shadow:idx                2880 non-null   float32       \n",
      " 23  msl_pressure:hPa                2880 non-null   float32       \n",
      " 24  precip_5min:mm                  2880 non-null   float32       \n",
      " 25  precip_type_5min:idx            2880 non-null   float32       \n",
      " 26  pressure_100m:hPa               2880 non-null   float32       \n",
      " 27  pressure_50m:hPa                2880 non-null   float32       \n",
      " 28  prob_rime:p                     2880 non-null   float32       \n",
      " 29  rain_water:kgm2                 2880 non-null   float32       \n",
      " 30  relative_humidity_1000hPa:p     2880 non-null   float32       \n",
      " 31  sfc_pressure:hPa                2880 non-null   float32       \n",
      " 32  snow_density:kgm3               0 non-null      float32       \n",
      " 33  snow_depth:cm                   2880 non-null   float32       \n",
      " 34  snow_drift:idx                  2880 non-null   float32       \n",
      " 35  snow_melt_10min:mm              2880 non-null   float32       \n",
      " 36  snow_water:kgm2                 2880 non-null   float32       \n",
      " 37  sun_azimuth:d                   2880 non-null   float32       \n",
      " 38  sun_elevation:d                 2880 non-null   float32       \n",
      " 39  super_cooled_liquid_water:kgm2  2880 non-null   float32       \n",
      " 40  t_1000hPa:K                     2880 non-null   float32       \n",
      " 41  total_cloud_cover:p             2880 non-null   float32       \n",
      " 42  visibility:m                    2880 non-null   float32       \n",
      " 43  wind_speed_10m:ms               2880 non-null   float32       \n",
      " 44  wind_speed_u_10m:ms             2880 non-null   float32       \n",
      " 45  wind_speed_v_10m:ms             2880 non-null   float32       \n",
      " 46  wind_speed_w_1000hPa:ms         2880 non-null   float32       \n",
      "dtypes: datetime64[us](2), float32(45)\n",
      "memory usage: 551.4 KB\n",
      "None\n",
      "0      2023-05-01 00:00:00\n",
      "1      2023-05-01 00:15:00\n",
      "2      2023-05-01 00:30:00\n",
      "3      2023-05-01 00:45:00\n",
      "4      2023-05-01 01:00:00\n",
      "               ...        \n",
      "2875   2023-07-03 22:45:00\n",
      "2876   2023-07-03 23:00:00\n",
      "2877   2023-07-03 23:15:00\n",
      "2878   2023-07-03 23:30:00\n",
      "2879   2023-07-03 23:45:00\n",
      "Name: date_forecast, Length: 2880, dtype: datetime64[us]\n"
     ]
    }
   ],
   "source": [
    "train_a = pd.read_parquet('A/train_targets.parquet')\n",
    "X_train_estimated_a = pd.read_parquet('A/X_train_estimated.parquet')\n",
    "X_train_observed_a = pd.read_parquet('A/X_train_observed.parquet')\n",
    "X_test_estimated_a = pd.read_parquet('A/X_test_estimated.parquet')\n",
    "\n",
    "\n",
    "print(X_test_estimated_a.info())\n",
    "print(X_test_estimated_a[\"date_forecast\"])\n",
    "\n",
    "\n"
   ]
  },
  {
   "cell_type": "code",
   "execution_count": 14,
   "metadata": {},
   "outputs": [
    {
     "name": "stderr",
     "output_type": "stream",
     "text": [
      "c:\\Users\\isakasa\\OneDrive - NTNU\\Documents\\UNI\\TDT4173 Machine Learning\\group-project\\TDT4173-Machine-Learning-Solar-Energy-Production-Forecasting\\data\\feature_generation.py:52: FutureWarning: DataFrame.fillna with 'method' is deprecated and will raise in a future version. Use obj.ffill() or obj.bfill() instead.\n",
      "  dder_df = dder_df.fillna(method=\"backfill\", axis=None)\n"
     ]
    }
   ],
   "source": [
    "X_train_estimated_a = X_train_estimated_a.drop(\"date_calc\", axis = 1)\n",
    "\n",
    "X = pd.concat([X_train_observed_a, X_train_estimated_a], axis = 0, ignore_index=True)\n",
    "\n",
    "# Removing NaN values. If there are missing values treat start and end points as beginning and end of a line.\n",
    "X = X.interpolate(method='linear')\n",
    "X = X.bfill()\n",
    "\n",
    "# Extract necesarry values for feature generation.\n",
    "timestamps = \"date_forecast\"\n",
    "measurements = list(X.columns.values)\n",
    "measurements.remove(timestamps)\n",
    "\n",
    "# Probable features that may be used\n",
    "der_df = feat_gen.difference_df(X, timestamps, measurements)\n",
    "dder_df = feat_gen.double_derivative_from_df(X, timestamps, measurements)\n",
    "int_df = feat_gen.daily_accumulated_val_df(X, timestamps, measurements)\n",
    "dint_df = feat_gen.daily_accumulated_val_squared_df(X, timestamps, measurements)\n",
    "time_df = feat_gen.time_data_from_df(X, timestamps)\n",
    "\n",
    "\n",
    "X = pd.concat([X, der_df, dder_df, int_df, dint_df, time_df], axis = \"columns\")\n",
    "\n",
    "y = train_a.dropna()\n",
    "\n",
    "y['pv_measurement'] = y['pv_measurement'].apply(lambda x: 1 if x > 0 else 0)\n",
    "\n",
    "\n",
    "# Making sure that the two dataframes match in length.\n",
    "y_BIG, X = dat_proc.data_length_matching(y, X)\n",
    "\n",
    "# Get our desired output\n",
    "y = y_BIG[\"pv_measurement\"]\n",
    "y = y.reset_index(drop = True)\n",
    "\n",
    "# Removing datetime object column\n",
    "X = X.reset_index(drop = True)\n",
    "X = X.drop(timestamps, axis=1)"
   ]
  },
  {
   "cell_type": "code",
   "execution_count": 15,
   "metadata": {},
   "outputs": [],
   "source": [
    "# Split the data into training and testing sets\n",
    "X_train, X_test, y_train, y_test = train_test_split(X, y, test_size=0.2, random_state=42)\n"
   ]
  },
  {
   "cell_type": "code",
   "execution_count": 16,
   "metadata": {},
   "outputs": [],
   "source": [
    "\n",
    "\n",
    "# Create a decision tree classifier\n",
    "clf = DecisionTreeClassifier()\n",
    "\n",
    "# Define the hyperparameters to search through\n",
    "param_grid = {\n",
    "    'criterion': ['gini', 'entropy'],\n",
    "    'max_depth': [None, 5, 10, 15],\n",
    "    'min_samples_split': [2, 5, 10],\n",
    "    'min_samples_leaf': [1, 2, 4]\n",
    "}\n",
    "\n",
    "# Use GridSearchCV to find the best hyperparameters\n",
    "grid_search = GridSearchCV(clf, param_grid, cv=5, scoring='accuracy')\n",
    "grid_search.fit(X_train, y_train)\n",
    "\n",
    "# Get the best model from the grid search\n",
    "best_clf = grid_search.best_estimator_\n",
    "\n",
    "# Make predictions on the test data using the best model\n",
    "predictions = best_clf.predict(X_test)\n",
    "\n",
    "# Evaluate the accuracy of the best model\n",
    "accuracy = accuracy_score(y_test, predictions)\n",
    "print(f\"Best Model Accuracy: {accuracy}\")\n",
    "print(f\"Best Hyperparameters: {grid_search.best_params_}\")\n",
    "\n"
   ]
  },
  {
   "cell_type": "code",
   "execution_count": null,
   "metadata": {},
   "outputs": [
    {
     "name": "stderr",
     "output_type": "stream",
     "text": [
      "c:\\Users\\isakasa\\OneDrive - NTNU\\Documents\\UNI\\TDT4173 Machine Learning\\group-project\\TDT4173-Machine-Learning-Solar-Energy-Production-Forecasting\\data\\feature_generation.py:52: FutureWarning: DataFrame.fillna with 'method' is deprecated and will raise in a future version. Use obj.ffill() or obj.bfill() instead.\n",
      "  dder_df = dder_df.fillna(method=\"backfill\", axis=None)\n"
     ]
    },
    {
     "ename": "TypeError",
     "evalue": "datetime64 type does not support cumsum operations",
     "output_type": "error",
     "traceback": [
      "\u001b[1;31m---------------------------------------------------------------------------\u001b[0m",
      "\u001b[1;31mTypeError\u001b[0m                                 Traceback (most recent call last)",
      "\u001b[1;32mc:\\Users\\isakasa\\OneDrive - NTNU\\Documents\\UNI\\TDT4173 Machine Learning\\group-project\\TDT4173-Machine-Learning-Solar-Energy-Production-Forecasting\\data\\classifying_output.ipynb Cell 8\u001b[0m line \u001b[0;36m1\n\u001b[0;32m     <a href='vscode-notebook-cell:/c%3A/Users/isakasa/OneDrive%20-%20NTNU/Documents/UNI/TDT4173%20Machine%20Learning/group-project/TDT4173-Machine-Learning-Solar-Energy-Production-Forecasting/data/classifying_output.ipynb#X11sZmlsZQ%3D%3D?line=12'>13</a>\u001b[0m der_df \u001b[39m=\u001b[39m feat_gen\u001b[39m.\u001b[39mdifference_df(X, timestamps, measurements)\n\u001b[0;32m     <a href='vscode-notebook-cell:/c%3A/Users/isakasa/OneDrive%20-%20NTNU/Documents/UNI/TDT4173%20Machine%20Learning/group-project/TDT4173-Machine-Learning-Solar-Energy-Production-Forecasting/data/classifying_output.ipynb#X11sZmlsZQ%3D%3D?line=13'>14</a>\u001b[0m dder_df \u001b[39m=\u001b[39m feat_gen\u001b[39m.\u001b[39mdouble_derivative_from_df(X, timestamps, measurements)\n\u001b[1;32m---> <a href='vscode-notebook-cell:/c%3A/Users/isakasa/OneDrive%20-%20NTNU/Documents/UNI/TDT4173%20Machine%20Learning/group-project/TDT4173-Machine-Learning-Solar-Energy-Production-Forecasting/data/classifying_output.ipynb#X11sZmlsZQ%3D%3D?line=14'>15</a>\u001b[0m int_df \u001b[39m=\u001b[39m feat_gen\u001b[39m.\u001b[39;49mdaily_accumulated_val_df(X, timestamps, measurements)\n\u001b[0;32m     <a href='vscode-notebook-cell:/c%3A/Users/isakasa/OneDrive%20-%20NTNU/Documents/UNI/TDT4173%20Machine%20Learning/group-project/TDT4173-Machine-Learning-Solar-Energy-Production-Forecasting/data/classifying_output.ipynb#X11sZmlsZQ%3D%3D?line=15'>16</a>\u001b[0m dint_df \u001b[39m=\u001b[39m feat_gen\u001b[39m.\u001b[39mdaily_accumulated_val_squared_df(X, timestamps, measurements)\n\u001b[0;32m     <a href='vscode-notebook-cell:/c%3A/Users/isakasa/OneDrive%20-%20NTNU/Documents/UNI/TDT4173%20Machine%20Learning/group-project/TDT4173-Machine-Learning-Solar-Energy-Production-Forecasting/data/classifying_output.ipynb#X11sZmlsZQ%3D%3D?line=16'>17</a>\u001b[0m time_df \u001b[39m=\u001b[39m feat_gen\u001b[39m.\u001b[39mtime_data_from_df(X, timestamps)\n",
      "File \u001b[1;32mc:\\Users\\isakasa\\OneDrive - NTNU\\Documents\\UNI\\TDT4173 Machine Learning\\group-project\\TDT4173-Machine-Learning-Solar-Energy-Production-Forecasting\\data\\feature_generation.py:68\u001b[0m, in \u001b[0;36mdaily_accumulated_val_df\u001b[1;34m(df, timeStamps, measurements)\u001b[0m\n\u001b[0;32m     64\u001b[0m df[\u001b[39m'\u001b[39m\u001b[39mdate\u001b[39m\u001b[39m'\u001b[39m] \u001b[39m=\u001b[39m df[timeStamps]\u001b[39m.\u001b[39mdt\u001b[39m.\u001b[39mdate\n\u001b[0;32m     66\u001b[0m \u001b[39mfor\u001b[39;00m measurement \u001b[39min\u001b[39;00m measurements:\n\u001b[0;32m     67\u001b[0m     \u001b[39m# Calculate the integral value for each day\u001b[39;00m\n\u001b[1;32m---> 68\u001b[0m     i_df[\u001b[39m'\u001b[39m\u001b[39mintegral_\u001b[39m\u001b[39m'\u001b[39m \u001b[39m+\u001b[39m measurement \u001b[39m+\u001b[39m \u001b[39m'\u001b[39m\u001b[39m_integral\u001b[39m\u001b[39m'\u001b[39m] \u001b[39m=\u001b[39m df\u001b[39m.\u001b[39;49mgroupby(\u001b[39m'\u001b[39;49m\u001b[39mdate\u001b[39;49m\u001b[39m'\u001b[39;49m)[measurement]\u001b[39m.\u001b[39;49mcumsum()\n\u001b[0;32m     70\u001b[0m df \u001b[39m=\u001b[39m df\u001b[39m.\u001b[39mdrop(\u001b[39m'\u001b[39m\u001b[39mdate\u001b[39m\u001b[39m'\u001b[39m, axis\u001b[39m=\u001b[39m\u001b[39m1\u001b[39m)\n\u001b[0;32m     72\u001b[0m \u001b[39mreturn\u001b[39;00m i_df\n",
      "File \u001b[1;32mc:\\Users\\isakasa\\AppData\\Local\\anaconda3\\envs\\basic_machine_learning\\Lib\\site-packages\\pandas\\core\\groupby\\groupby.py:4794\u001b[0m, in \u001b[0;36mGroupBy.cumsum\u001b[1;34m(self, axis, *args, **kwargs)\u001b[0m\n\u001b[0;32m   4791\u001b[0m     f \u001b[39m=\u001b[39m \u001b[39mlambda\u001b[39;00m x: x\u001b[39m.\u001b[39mcumsum(axis\u001b[39m=\u001b[39maxis, \u001b[39m*\u001b[39m\u001b[39m*\u001b[39mkwargs)\n\u001b[0;32m   4792\u001b[0m     \u001b[39mreturn\u001b[39;00m \u001b[39mself\u001b[39m\u001b[39m.\u001b[39m_python_apply_general(f, \u001b[39mself\u001b[39m\u001b[39m.\u001b[39m_selected_obj, is_transform\u001b[39m=\u001b[39m\u001b[39mTrue\u001b[39;00m)\n\u001b[1;32m-> 4794\u001b[0m \u001b[39mreturn\u001b[39;00m \u001b[39mself\u001b[39;49m\u001b[39m.\u001b[39;49m_cython_transform(\u001b[39m\"\u001b[39;49m\u001b[39mcumsum\u001b[39;49m\u001b[39m\"\u001b[39;49m, \u001b[39m*\u001b[39;49m\u001b[39m*\u001b[39;49mkwargs)\n",
      "File \u001b[1;32mc:\\Users\\isakasa\\AppData\\Local\\anaconda3\\envs\\basic_machine_learning\\Lib\\site-packages\\pandas\\core\\groupby\\generic.py:525\u001b[0m, in \u001b[0;36mSeriesGroupBy._cython_transform\u001b[1;34m(self, how, numeric_only, axis, **kwargs)\u001b[0m\n\u001b[0;32m    522\u001b[0m obj \u001b[39m=\u001b[39m \u001b[39mself\u001b[39m\u001b[39m.\u001b[39m_selected_obj\n\u001b[0;32m    524\u001b[0m \u001b[39mtry\u001b[39;00m:\n\u001b[1;32m--> 525\u001b[0m     result \u001b[39m=\u001b[39m \u001b[39mself\u001b[39;49m\u001b[39m.\u001b[39;49mgrouper\u001b[39m.\u001b[39;49m_cython_operation(\n\u001b[0;32m    526\u001b[0m         \u001b[39m\"\u001b[39;49m\u001b[39mtransform\u001b[39;49m\u001b[39m\"\u001b[39;49m, obj\u001b[39m.\u001b[39;49m_values, how, axis, \u001b[39m*\u001b[39;49m\u001b[39m*\u001b[39;49mkwargs\n\u001b[0;32m    527\u001b[0m     )\n\u001b[0;32m    528\u001b[0m \u001b[39mexcept\u001b[39;00m \u001b[39mNotImplementedError\u001b[39;00m \u001b[39mas\u001b[39;00m err:\n\u001b[0;32m    529\u001b[0m     \u001b[39m# e.g. test_groupby_raises_string\u001b[39;00m\n\u001b[0;32m    530\u001b[0m     \u001b[39mraise\u001b[39;00m \u001b[39mTypeError\u001b[39;00m(\u001b[39mf\u001b[39m\u001b[39m\"\u001b[39m\u001b[39m{\u001b[39;00mhow\u001b[39m}\u001b[39;00m\u001b[39m is not supported for \u001b[39m\u001b[39m{\u001b[39;00mobj\u001b[39m.\u001b[39mdtype\u001b[39m}\u001b[39;00m\u001b[39m dtype\u001b[39m\u001b[39m\"\u001b[39m) \u001b[39mfrom\u001b[39;00m \u001b[39merr\u001b[39;00m\n",
      "File \u001b[1;32mc:\\Users\\isakasa\\AppData\\Local\\anaconda3\\envs\\basic_machine_learning\\Lib\\site-packages\\pandas\\core\\groupby\\ops.py:815\u001b[0m, in \u001b[0;36mBaseGrouper._cython_operation\u001b[1;34m(self, kind, values, how, axis, min_count, **kwargs)\u001b[0m\n\u001b[0;32m    813\u001b[0m ids, _, _ \u001b[39m=\u001b[39m \u001b[39mself\u001b[39m\u001b[39m.\u001b[39mgroup_info\n\u001b[0;32m    814\u001b[0m ngroups \u001b[39m=\u001b[39m \u001b[39mself\u001b[39m\u001b[39m.\u001b[39mngroups\n\u001b[1;32m--> 815\u001b[0m \u001b[39mreturn\u001b[39;00m cy_op\u001b[39m.\u001b[39;49mcython_operation(\n\u001b[0;32m    816\u001b[0m     values\u001b[39m=\u001b[39;49mvalues,\n\u001b[0;32m    817\u001b[0m     axis\u001b[39m=\u001b[39;49maxis,\n\u001b[0;32m    818\u001b[0m     min_count\u001b[39m=\u001b[39;49mmin_count,\n\u001b[0;32m    819\u001b[0m     comp_ids\u001b[39m=\u001b[39;49mids,\n\u001b[0;32m    820\u001b[0m     ngroups\u001b[39m=\u001b[39;49mngroups,\n\u001b[0;32m    821\u001b[0m     \u001b[39m*\u001b[39;49m\u001b[39m*\u001b[39;49mkwargs,\n\u001b[0;32m    822\u001b[0m )\n",
      "File \u001b[1;32mc:\\Users\\isakasa\\AppData\\Local\\anaconda3\\envs\\basic_machine_learning\\Lib\\site-packages\\pandas\\core\\groupby\\ops.py:525\u001b[0m, in \u001b[0;36mWrappedCythonOp.cython_operation\u001b[1;34m(self, values, axis, min_count, comp_ids, ngroups, **kwargs)\u001b[0m\n\u001b[0;32m    521\u001b[0m \u001b[39mself\u001b[39m\u001b[39m.\u001b[39m_validate_axis(axis, values)\n\u001b[0;32m    523\u001b[0m \u001b[39mif\u001b[39;00m \u001b[39mnot\u001b[39;00m \u001b[39misinstance\u001b[39m(values, np\u001b[39m.\u001b[39mndarray):\n\u001b[0;32m    524\u001b[0m     \u001b[39m# i.e. ExtensionArray\u001b[39;00m\n\u001b[1;32m--> 525\u001b[0m     \u001b[39mreturn\u001b[39;00m values\u001b[39m.\u001b[39;49m_groupby_op(\n\u001b[0;32m    526\u001b[0m         how\u001b[39m=\u001b[39;49m\u001b[39mself\u001b[39;49m\u001b[39m.\u001b[39;49mhow,\n\u001b[0;32m    527\u001b[0m         has_dropped_na\u001b[39m=\u001b[39;49m\u001b[39mself\u001b[39;49m\u001b[39m.\u001b[39;49mhas_dropped_na,\n\u001b[0;32m    528\u001b[0m         min_count\u001b[39m=\u001b[39;49mmin_count,\n\u001b[0;32m    529\u001b[0m         ngroups\u001b[39m=\u001b[39;49mngroups,\n\u001b[0;32m    530\u001b[0m         ids\u001b[39m=\u001b[39;49mcomp_ids,\n\u001b[0;32m    531\u001b[0m         \u001b[39m*\u001b[39;49m\u001b[39m*\u001b[39;49mkwargs,\n\u001b[0;32m    532\u001b[0m     )\n\u001b[0;32m    534\u001b[0m \u001b[39mreturn\u001b[39;00m \u001b[39mself\u001b[39m\u001b[39m.\u001b[39m_cython_op_ndim_compat(\n\u001b[0;32m    535\u001b[0m     values,\n\u001b[0;32m    536\u001b[0m     min_count\u001b[39m=\u001b[39mmin_count,\n\u001b[1;32m   (...)\u001b[0m\n\u001b[0;32m    540\u001b[0m     \u001b[39m*\u001b[39m\u001b[39m*\u001b[39mkwargs,\n\u001b[0;32m    541\u001b[0m )\n",
      "File \u001b[1;32mc:\\Users\\isakasa\\AppData\\Local\\anaconda3\\envs\\basic_machine_learning\\Lib\\site-packages\\pandas\\core\\arrays\\datetimelike.py:1632\u001b[0m, in \u001b[0;36mDatetimeLikeArrayMixin._groupby_op\u001b[1;34m(self, how, has_dropped_na, min_count, ngroups, ids, **kwargs)\u001b[0m\n\u001b[0;32m   1629\u001b[0m \u001b[39mif\u001b[39;00m dtype\u001b[39m.\u001b[39mkind \u001b[39m==\u001b[39m \u001b[39m\"\u001b[39m\u001b[39mM\u001b[39m\u001b[39m\"\u001b[39m:\n\u001b[0;32m   1630\u001b[0m     \u001b[39m# Adding/multiplying datetimes is not valid\u001b[39;00m\n\u001b[0;32m   1631\u001b[0m     \u001b[39mif\u001b[39;00m how \u001b[39min\u001b[39;00m [\u001b[39m\"\u001b[39m\u001b[39msum\u001b[39m\u001b[39m\"\u001b[39m, \u001b[39m\"\u001b[39m\u001b[39mprod\u001b[39m\u001b[39m\"\u001b[39m, \u001b[39m\"\u001b[39m\u001b[39mcumsum\u001b[39m\u001b[39m\"\u001b[39m, \u001b[39m\"\u001b[39m\u001b[39mcumprod\u001b[39m\u001b[39m\"\u001b[39m, \u001b[39m\"\u001b[39m\u001b[39mvar\u001b[39m\u001b[39m\"\u001b[39m, \u001b[39m\"\u001b[39m\u001b[39mskew\u001b[39m\u001b[39m\"\u001b[39m]:\n\u001b[1;32m-> 1632\u001b[0m         \u001b[39mraise\u001b[39;00m \u001b[39mTypeError\u001b[39;00m(\u001b[39mf\u001b[39m\u001b[39m\"\u001b[39m\u001b[39mdatetime64 type does not support \u001b[39m\u001b[39m{\u001b[39;00mhow\u001b[39m}\u001b[39;00m\u001b[39m operations\u001b[39m\u001b[39m\"\u001b[39m)\n\u001b[0;32m   1633\u001b[0m     \u001b[39mif\u001b[39;00m how \u001b[39min\u001b[39;00m [\u001b[39m\"\u001b[39m\u001b[39many\u001b[39m\u001b[39m\"\u001b[39m, \u001b[39m\"\u001b[39m\u001b[39mall\u001b[39m\u001b[39m\"\u001b[39m]:\n\u001b[0;32m   1634\u001b[0m         \u001b[39m# GH#34479\u001b[39;00m\n\u001b[0;32m   1635\u001b[0m         warnings\u001b[39m.\u001b[39mwarn(\n\u001b[0;32m   1636\u001b[0m             \u001b[39mf\u001b[39m\u001b[39m\"\u001b[39m\u001b[39m'\u001b[39m\u001b[39m{\u001b[39;00mhow\u001b[39m}\u001b[39;00m\u001b[39m'\u001b[39m\u001b[39m with datetime64 dtypes is deprecated and will raise in a \u001b[39m\u001b[39m\"\u001b[39m\n\u001b[0;32m   1637\u001b[0m             \u001b[39mf\u001b[39m\u001b[39m\"\u001b[39m\u001b[39mfuture version. Use (obj != pd.Timestamp(0)).\u001b[39m\u001b[39m{\u001b[39;00mhow\u001b[39m}\u001b[39;00m\u001b[39m() instead.\u001b[39m\u001b[39m\"\u001b[39m,\n\u001b[0;32m   1638\u001b[0m             \u001b[39mFutureWarning\u001b[39;00m,\n\u001b[0;32m   1639\u001b[0m             stacklevel\u001b[39m=\u001b[39mfind_stack_level(),\n\u001b[0;32m   1640\u001b[0m         )\n",
      "\u001b[1;31mTypeError\u001b[0m: datetime64 type does not support cumsum operations"
     ]
    }
   ],
   "source": [
    "X = X_test_estimated_a\n",
    "\n",
    "# Removing NaN values. If there are missing values treat start and end points as beginning and end of a line.\n",
    "X = X.interpolate(method='linear')\n",
    "X = X.bfill()\n",
    "\n",
    "# Extract necesarry values for feature generation.\n",
    "timestamps = \"date_forecast\"\n",
    "measurements = list(X.columns.values)\n",
    "measurements.remove(\"date_forecast\")\n",
    "measurements.remove(\"date_forecast\")\n",
    "\n",
    "# Probable features that may be used\n",
    "der_df = feat_gen.difference_df(X, timestamps, measurements)\n",
    "dder_df = feat_gen.double_derivative_from_df(X, timestamps, measurements)\n",
    "int_df = feat_gen.daily_accumulated_val_df(X, timestamps, measurements)\n",
    "dint_df = feat_gen.daily_accumulated_val_squared_df(X, timestamps, measurements)\n",
    "time_df = feat_gen.time_data_from_df(X, timestamps)\n",
    "\n",
    "\n",
    "X = pd.concat([X, der_df, dder_df, int_df, dint_df, time_df], axis = \"columns\")\n",
    "\n",
    "# Removing datetime object column\n",
    "X = X.reset_index(drop = True)\n",
    "X = X.drop(\"date_calc\", axis=1)\n",
    "X = X.drop(\"date_forecast\", axis=1)\n",
    "\n",
    "# Data processing pipeline should be completed :/\n",
    "pred = best_clf.predict(X)\n",
    "\n"
   ]
  },
  {
   "cell_type": "code",
   "execution_count": null,
   "metadata": {},
   "outputs": [],
   "source": []
  }
 ],
 "metadata": {
  "kernelspec": {
   "display_name": "Python 3",
   "language": "python",
   "name": "python3"
  },
  "language_info": {
   "codemirror_mode": {
    "name": "ipython",
    "version": 3
   },
   "file_extension": ".py",
   "mimetype": "text/x-python",
   "name": "python",
   "nbconvert_exporter": "python",
   "pygments_lexer": "ipython3",
   "version": "3.11.4"
  }
 },
 "nbformat": 4,
 "nbformat_minor": 2
}
