{
 "cells": [
  {
   "cell_type": "code",
   "execution_count": null,
   "metadata": {},
   "outputs": [],
   "source": []
  },
  {
   "cell_type": "markdown",
   "metadata": {},
   "source": [
    "# Checking whether an output is either 0 or 1."
   ]
  },
  {
   "cell_type": "code",
   "execution_count": 1,
   "metadata": {},
   "outputs": [],
   "source": [
    "from sklearn.model_selection import train_test_split, GridSearchCV\n",
    "from sklearn.tree import DecisionTreeClassifier\n",
    "from sklearn.metrics import accuracy_score\n",
    "\n",
    "# Data Processing Tools\n",
    "import numpy as np\n",
    "import pandas as pd\n",
    "\n",
    "# Data Display Tools\n",
    "import matplotlib.pyplot as plt\n",
    "\n",
    "import feature_generation as feat_gen\n",
    "import data_processing as dat_proc\n"
   ]
  },
  {
   "cell_type": "code",
   "execution_count": 2,
   "metadata": {},
   "outputs": [
    {
     "name": "stdout",
     "output_type": "stream",
     "text": [
      "<class 'pandas.core.frame.DataFrame'>\n",
      "RangeIndex: 2880 entries, 0 to 2879\n",
      "Data columns (total 47 columns):\n",
      " #   Column                          Non-Null Count  Dtype         \n",
      "---  ------                          --------------  -----         \n",
      " 0   date_calc                       2880 non-null   datetime64[us]\n",
      " 1   date_forecast                   2880 non-null   datetime64[us]\n",
      " 2   absolute_humidity_2m:gm3        2880 non-null   float32       \n",
      " 3   air_density_2m:kgm3             2880 non-null   float32       \n",
      " 4   ceiling_height_agl:m            2087 non-null   float32       \n",
      " 5   clear_sky_energy_1h:J           2880 non-null   float32       \n",
      " 6   clear_sky_rad:W                 2880 non-null   float32       \n",
      " 7   cloud_base_agl:m                2582 non-null   float32       \n",
      " 8   dew_or_rime:idx                 2880 non-null   float32       \n",
      " 9   dew_point_2m:K                  2880 non-null   float32       \n",
      " 10  diffuse_rad:W                   2880 non-null   float32       \n",
      " 11  diffuse_rad_1h:J                2880 non-null   float32       \n",
      " 12  direct_rad:W                    2880 non-null   float32       \n",
      " 13  direct_rad_1h:J                 2880 non-null   float32       \n",
      " 14  effective_cloud_cover:p         2880 non-null   float32       \n",
      " 15  elevation:m                     2880 non-null   float32       \n",
      " 16  fresh_snow_12h:cm               2880 non-null   float32       \n",
      " 17  fresh_snow_1h:cm                2880 non-null   float32       \n",
      " 18  fresh_snow_24h:cm               2880 non-null   float32       \n",
      " 19  fresh_snow_3h:cm                2880 non-null   float32       \n",
      " 20  fresh_snow_6h:cm                2880 non-null   float32       \n",
      " 21  is_day:idx                      2880 non-null   float32       \n",
      " 22  is_in_shadow:idx                2880 non-null   float32       \n",
      " 23  msl_pressure:hPa                2880 non-null   float32       \n",
      " 24  precip_5min:mm                  2880 non-null   float32       \n",
      " 25  precip_type_5min:idx            2880 non-null   float32       \n",
      " 26  pressure_100m:hPa               2880 non-null   float32       \n",
      " 27  pressure_50m:hPa                2880 non-null   float32       \n",
      " 28  prob_rime:p                     2880 non-null   float32       \n",
      " 29  rain_water:kgm2                 2880 non-null   float32       \n",
      " 30  relative_humidity_1000hPa:p     2880 non-null   float32       \n",
      " 31  sfc_pressure:hPa                2880 non-null   float32       \n",
      " 32  snow_density:kgm3               0 non-null      float32       \n",
      " 33  snow_depth:cm                   2880 non-null   float32       \n",
      " 34  snow_drift:idx                  2880 non-null   float32       \n",
      " 35  snow_melt_10min:mm              2880 non-null   float32       \n",
      " 36  snow_water:kgm2                 2880 non-null   float32       \n",
      " 37  sun_azimuth:d                   2880 non-null   float32       \n",
      " 38  sun_elevation:d                 2880 non-null   float32       \n",
      " 39  super_cooled_liquid_water:kgm2  2880 non-null   float32       \n",
      " 40  t_1000hPa:K                     2880 non-null   float32       \n",
      " 41  total_cloud_cover:p             2880 non-null   float32       \n",
      " 42  visibility:m                    2880 non-null   float32       \n",
      " 43  wind_speed_10m:ms               2880 non-null   float32       \n",
      " 44  wind_speed_u_10m:ms             2880 non-null   float32       \n",
      " 45  wind_speed_v_10m:ms             2880 non-null   float32       \n",
      " 46  wind_speed_w_1000hPa:ms         2880 non-null   float32       \n",
      "dtypes: datetime64[us](2), float32(45)\n",
      "memory usage: 551.4 KB\n",
      "None\n",
      "0      2023-05-01 00:00:00\n",
      "1      2023-05-01 00:15:00\n",
      "2      2023-05-01 00:30:00\n",
      "3      2023-05-01 00:45:00\n",
      "4      2023-05-01 01:00:00\n",
      "               ...        \n",
      "2875   2023-07-03 22:45:00\n",
      "2876   2023-07-03 23:00:00\n",
      "2877   2023-07-03 23:15:00\n",
      "2878   2023-07-03 23:30:00\n",
      "2879   2023-07-03 23:45:00\n",
      "Name: date_forecast, Length: 2880, dtype: datetime64[us]\n"
     ]
    }
   ],
   "source": [
    "train_a = pd.read_parquet('A/train_targets.parquet')\n",
    "X_train_estimated_a = pd.read_parquet('A/X_train_estimated.parquet')\n",
    "X_train_observed_a = pd.read_parquet('A/X_train_observed.parquet')\n",
    "X_test_estimated_a = pd.read_parquet('A/X_test_estimated.parquet')\n",
    "\n",
    "\n",
    "print(X_test_estimated_a.info())\n",
    "print(X_test_estimated_a[\"date_forecast\"])\n",
    "\n",
    "\n"
   ]
  },
  {
   "cell_type": "code",
   "execution_count": 3,
   "metadata": {},
   "outputs": [
    {
     "name": "stderr",
     "output_type": "stream",
     "text": [
      "c:\\Users\\isakasa\\OneDrive - NTNU\\Documents\\UNI\\TDT4173 Machine Learning\\group-project\\TDT4173-Machine-Learning-Solar-Energy-Production-Forecasting\\data\\feature_generation.py:52: FutureWarning: DataFrame.fillna with 'method' is deprecated and will raise in a future version. Use obj.ffill() or obj.bfill() instead.\n",
      "  dder_df = dder_df.fillna(method=\"backfill\", axis=None)\n"
     ]
    }
   ],
   "source": [
    "X_train_estimated_a = X_train_estimated_a.drop(\"date_calc\", axis = 1)\n",
    "\n",
    "X = pd.concat([X_train_observed_a, X_train_estimated_a], axis = 0, ignore_index=True)\n",
    "\n",
    "# Removing NaN values. If there are missing values treat start and end points as beginning and end of a line.\n",
    "X = X.interpolate(method='linear')\n",
    "X = X.bfill()\n",
    "\n",
    "# Extract necesarry values for feature generation.\n",
    "timestamps = \"date_forecast\"\n",
    "measurements = list(X.columns.values)\n",
    "measurements.remove(timestamps)\n",
    "\n",
    "# Probable features that may be used\n",
    "der_df = feat_gen.difference_df(X, timestamps, measurements)\n",
    "dder_df = feat_gen.double_derivative_from_df(X, timestamps, measurements)\n",
    "int_df = feat_gen.daily_accumulated_val_df(X, timestamps, measurements)\n",
    "dint_df = feat_gen.daily_accumulated_val_squared_df(X, timestamps, measurements)\n",
    "time_df = feat_gen.time_data_from_df(X, timestamps)\n",
    "\n",
    "\n",
    "X = pd.concat([X, der_df, dder_df, int_df, dint_df, time_df], axis = \"columns\")\n",
    "\n",
    "y = train_a.dropna()\n",
    "\n",
    "y['pv_measurement'] = y['pv_measurement'].apply(lambda x: 1 if x > 0 else 0)\n",
    "\n",
    "\n",
    "# Making sure that the two dataframes match in length.\n",
    "y_BIG, X = dat_proc.data_length_matching(y, X)\n",
    "\n",
    "# Get our desired output\n",
    "y = y_BIG[\"pv_measurement\"]\n",
    "y = y.reset_index(drop = True)\n",
    "\n",
    "# Removing datetime object column\n",
    "X = X.reset_index(drop = True)\n",
    "X = X.drop(timestamps, axis=1)"
   ]
  },
  {
   "cell_type": "code",
   "execution_count": 4,
   "metadata": {},
   "outputs": [],
   "source": [
    "# Split the data into training and testing sets\n",
    "X_train, X_test, y_train, y_test = train_test_split(X, y, test_size=0.2, random_state=42)\n"
   ]
  },
  {
   "cell_type": "code",
   "execution_count": 5,
   "metadata": {},
   "outputs": [
    {
     "ename": "ValueError",
     "evalue": "\nAll the 360 fits failed.\nIt is very likely that your model is misconfigured.\nYou can try to debug the error by setting error_score='raise'.\n\nBelow are more details about the failures:\n--------------------------------------------------------------------------------\n360 fits failed with the following error:\nTraceback (most recent call last):\n  File \"c:\\Users\\isakasa\\AppData\\Local\\anaconda3\\envs\\basic_machine_learning\\Lib\\site-packages\\sklearn\\model_selection\\_validation.py\", line 729, in _fit_and_score\n    estimator.fit(X_train, y_train, **fit_params)\n  File \"c:\\Users\\isakasa\\AppData\\Local\\anaconda3\\envs\\basic_machine_learning\\Lib\\site-packages\\sklearn\\base.py\", line 1152, in wrapper\n    return fit_method(estimator, *args, **kwargs)\n           ^^^^^^^^^^^^^^^^^^^^^^^^^^^^^^^^^^^^^^\n  File \"c:\\Users\\isakasa\\AppData\\Local\\anaconda3\\envs\\basic_machine_learning\\Lib\\site-packages\\sklearn\\tree\\_classes.py\", line 959, in fit\n    super()._fit(\n  File \"c:\\Users\\isakasa\\AppData\\Local\\anaconda3\\envs\\basic_machine_learning\\Lib\\site-packages\\sklearn\\tree\\_classes.py\", line 284, in _fit\n    check_classification_targets(y)\n  File \"c:\\Users\\isakasa\\AppData\\Local\\anaconda3\\envs\\basic_machine_learning\\Lib\\site-packages\\sklearn\\utils\\multiclass.py\", line 216, in check_classification_targets\n    raise ValueError(\nValueError: Unknown label type: continuous. Maybe you are trying to fit a classifier, which expects discrete classes on a regression target with continuous values.\n",
     "output_type": "error",
     "traceback": [
      "\u001b[1;31m---------------------------------------------------------------------------\u001b[0m",
      "\u001b[1;31mValueError\u001b[0m                                Traceback (most recent call last)",
      "\u001b[1;32mc:\\Users\\isakasa\\OneDrive - NTNU\\Documents\\UNI\\TDT4173 Machine Learning\\group-project\\TDT4173-Machine-Learning-Solar-Energy-Production-Forecasting\\data\\classifying_output.ipynb Cell 7\u001b[0m line \u001b[0;36m1\n\u001b[0;32m     <a href='vscode-notebook-cell:/c%3A/Users/isakasa/OneDrive%20-%20NTNU/Documents/UNI/TDT4173%20Machine%20Learning/group-project/TDT4173-Machine-Learning-Solar-Energy-Production-Forecasting/data/classifying_output.ipynb#W6sZmlsZQ%3D%3D?line=11'>12</a>\u001b[0m \u001b[39m# Use GridSearchCV to find the best hyperparameters\u001b[39;00m\n\u001b[0;32m     <a href='vscode-notebook-cell:/c%3A/Users/isakasa/OneDrive%20-%20NTNU/Documents/UNI/TDT4173%20Machine%20Learning/group-project/TDT4173-Machine-Learning-Solar-Energy-Production-Forecasting/data/classifying_output.ipynb#W6sZmlsZQ%3D%3D?line=12'>13</a>\u001b[0m grid_search \u001b[39m=\u001b[39m GridSearchCV(clf, param_grid, cv\u001b[39m=\u001b[39m\u001b[39m5\u001b[39m, scoring\u001b[39m=\u001b[39m\u001b[39m'\u001b[39m\u001b[39maccuracy\u001b[39m\u001b[39m'\u001b[39m)\n\u001b[1;32m---> <a href='vscode-notebook-cell:/c%3A/Users/isakasa/OneDrive%20-%20NTNU/Documents/UNI/TDT4173%20Machine%20Learning/group-project/TDT4173-Machine-Learning-Solar-Energy-Production-Forecasting/data/classifying_output.ipynb#W6sZmlsZQ%3D%3D?line=13'>14</a>\u001b[0m grid_search\u001b[39m.\u001b[39;49mfit(X_train, y_train)\n\u001b[0;32m     <a href='vscode-notebook-cell:/c%3A/Users/isakasa/OneDrive%20-%20NTNU/Documents/UNI/TDT4173%20Machine%20Learning/group-project/TDT4173-Machine-Learning-Solar-Energy-Production-Forecasting/data/classifying_output.ipynb#W6sZmlsZQ%3D%3D?line=15'>16</a>\u001b[0m \u001b[39m# Get the best model from the grid search\u001b[39;00m\n\u001b[0;32m     <a href='vscode-notebook-cell:/c%3A/Users/isakasa/OneDrive%20-%20NTNU/Documents/UNI/TDT4173%20Machine%20Learning/group-project/TDT4173-Machine-Learning-Solar-Energy-Production-Forecasting/data/classifying_output.ipynb#W6sZmlsZQ%3D%3D?line=16'>17</a>\u001b[0m best_clf \u001b[39m=\u001b[39m grid_search\u001b[39m.\u001b[39mbest_estimator_\n",
      "File \u001b[1;32mc:\\Users\\isakasa\\AppData\\Local\\anaconda3\\envs\\basic_machine_learning\\Lib\\site-packages\\sklearn\\base.py:1152\u001b[0m, in \u001b[0;36m_fit_context.<locals>.decorator.<locals>.wrapper\u001b[1;34m(estimator, *args, **kwargs)\u001b[0m\n\u001b[0;32m   1145\u001b[0m     estimator\u001b[39m.\u001b[39m_validate_params()\n\u001b[0;32m   1147\u001b[0m \u001b[39mwith\u001b[39;00m config_context(\n\u001b[0;32m   1148\u001b[0m     skip_parameter_validation\u001b[39m=\u001b[39m(\n\u001b[0;32m   1149\u001b[0m         prefer_skip_nested_validation \u001b[39mor\u001b[39;00m global_skip_validation\n\u001b[0;32m   1150\u001b[0m     )\n\u001b[0;32m   1151\u001b[0m ):\n\u001b[1;32m-> 1152\u001b[0m     \u001b[39mreturn\u001b[39;00m fit_method(estimator, \u001b[39m*\u001b[39;49margs, \u001b[39m*\u001b[39;49m\u001b[39m*\u001b[39;49mkwargs)\n",
      "File \u001b[1;32mc:\\Users\\isakasa\\AppData\\Local\\anaconda3\\envs\\basic_machine_learning\\Lib\\site-packages\\sklearn\\model_selection\\_search.py:898\u001b[0m, in \u001b[0;36mBaseSearchCV.fit\u001b[1;34m(self, X, y, groups, **fit_params)\u001b[0m\n\u001b[0;32m    892\u001b[0m     results \u001b[39m=\u001b[39m \u001b[39mself\u001b[39m\u001b[39m.\u001b[39m_format_results(\n\u001b[0;32m    893\u001b[0m         all_candidate_params, n_splits, all_out, all_more_results\n\u001b[0;32m    894\u001b[0m     )\n\u001b[0;32m    896\u001b[0m     \u001b[39mreturn\u001b[39;00m results\n\u001b[1;32m--> 898\u001b[0m \u001b[39mself\u001b[39;49m\u001b[39m.\u001b[39;49m_run_search(evaluate_candidates)\n\u001b[0;32m    900\u001b[0m \u001b[39m# multimetric is determined here because in the case of a callable\u001b[39;00m\n\u001b[0;32m    901\u001b[0m \u001b[39m# self.scoring the return type is only known after calling\u001b[39;00m\n\u001b[0;32m    902\u001b[0m first_test_score \u001b[39m=\u001b[39m all_out[\u001b[39m0\u001b[39m][\u001b[39m\"\u001b[39m\u001b[39mtest_scores\u001b[39m\u001b[39m\"\u001b[39m]\n",
      "File \u001b[1;32mc:\\Users\\isakasa\\AppData\\Local\\anaconda3\\envs\\basic_machine_learning\\Lib\\site-packages\\sklearn\\model_selection\\_search.py:1422\u001b[0m, in \u001b[0;36mGridSearchCV._run_search\u001b[1;34m(self, evaluate_candidates)\u001b[0m\n\u001b[0;32m   1420\u001b[0m \u001b[39mdef\u001b[39;00m \u001b[39m_run_search\u001b[39m(\u001b[39mself\u001b[39m, evaluate_candidates):\n\u001b[0;32m   1421\u001b[0m \u001b[39m    \u001b[39m\u001b[39m\"\"\"Search all candidates in param_grid\"\"\"\u001b[39;00m\n\u001b[1;32m-> 1422\u001b[0m     evaluate_candidates(ParameterGrid(\u001b[39mself\u001b[39;49m\u001b[39m.\u001b[39;49mparam_grid))\n",
      "File \u001b[1;32mc:\\Users\\isakasa\\AppData\\Local\\anaconda3\\envs\\basic_machine_learning\\Lib\\site-packages\\sklearn\\model_selection\\_search.py:875\u001b[0m, in \u001b[0;36mBaseSearchCV.fit.<locals>.evaluate_candidates\u001b[1;34m(candidate_params, cv, more_results)\u001b[0m\n\u001b[0;32m    868\u001b[0m \u001b[39melif\u001b[39;00m \u001b[39mlen\u001b[39m(out) \u001b[39m!=\u001b[39m n_candidates \u001b[39m*\u001b[39m n_splits:\n\u001b[0;32m    869\u001b[0m     \u001b[39mraise\u001b[39;00m \u001b[39mValueError\u001b[39;00m(\n\u001b[0;32m    870\u001b[0m         \u001b[39m\"\u001b[39m\u001b[39mcv.split and cv.get_n_splits returned \u001b[39m\u001b[39m\"\u001b[39m\n\u001b[0;32m    871\u001b[0m         \u001b[39m\"\u001b[39m\u001b[39minconsistent results. Expected \u001b[39m\u001b[39m{}\u001b[39;00m\u001b[39m \u001b[39m\u001b[39m\"\u001b[39m\n\u001b[0;32m    872\u001b[0m         \u001b[39m\"\u001b[39m\u001b[39msplits, got \u001b[39m\u001b[39m{}\u001b[39;00m\u001b[39m\"\u001b[39m\u001b[39m.\u001b[39mformat(n_splits, \u001b[39mlen\u001b[39m(out) \u001b[39m/\u001b[39m\u001b[39m/\u001b[39m n_candidates)\n\u001b[0;32m    873\u001b[0m     )\n\u001b[1;32m--> 875\u001b[0m _warn_or_raise_about_fit_failures(out, \u001b[39mself\u001b[39;49m\u001b[39m.\u001b[39;49merror_score)\n\u001b[0;32m    877\u001b[0m \u001b[39m# For callable self.scoring, the return type is only know after\u001b[39;00m\n\u001b[0;32m    878\u001b[0m \u001b[39m# calling. If the return type is a dictionary, the error scores\u001b[39;00m\n\u001b[0;32m    879\u001b[0m \u001b[39m# can now be inserted with the correct key. The type checking\u001b[39;00m\n\u001b[0;32m    880\u001b[0m \u001b[39m# of out will be done in `_insert_error_scores`.\u001b[39;00m\n\u001b[0;32m    881\u001b[0m \u001b[39mif\u001b[39;00m \u001b[39mcallable\u001b[39m(\u001b[39mself\u001b[39m\u001b[39m.\u001b[39mscoring):\n",
      "File \u001b[1;32mc:\\Users\\isakasa\\AppData\\Local\\anaconda3\\envs\\basic_machine_learning\\Lib\\site-packages\\sklearn\\model_selection\\_validation.py:414\u001b[0m, in \u001b[0;36m_warn_or_raise_about_fit_failures\u001b[1;34m(results, error_score)\u001b[0m\n\u001b[0;32m    407\u001b[0m \u001b[39mif\u001b[39;00m num_failed_fits \u001b[39m==\u001b[39m num_fits:\n\u001b[0;32m    408\u001b[0m     all_fits_failed_message \u001b[39m=\u001b[39m (\n\u001b[0;32m    409\u001b[0m         \u001b[39mf\u001b[39m\u001b[39m\"\u001b[39m\u001b[39m\\n\u001b[39;00m\u001b[39mAll the \u001b[39m\u001b[39m{\u001b[39;00mnum_fits\u001b[39m}\u001b[39;00m\u001b[39m fits failed.\u001b[39m\u001b[39m\\n\u001b[39;00m\u001b[39m\"\u001b[39m\n\u001b[0;32m    410\u001b[0m         \u001b[39m\"\u001b[39m\u001b[39mIt is very likely that your model is misconfigured.\u001b[39m\u001b[39m\\n\u001b[39;00m\u001b[39m\"\u001b[39m\n\u001b[0;32m    411\u001b[0m         \u001b[39m\"\u001b[39m\u001b[39mYou can try to debug the error by setting error_score=\u001b[39m\u001b[39m'\u001b[39m\u001b[39mraise\u001b[39m\u001b[39m'\u001b[39m\u001b[39m.\u001b[39m\u001b[39m\\n\u001b[39;00m\u001b[39m\\n\u001b[39;00m\u001b[39m\"\u001b[39m\n\u001b[0;32m    412\u001b[0m         \u001b[39mf\u001b[39m\u001b[39m\"\u001b[39m\u001b[39mBelow are more details about the failures:\u001b[39m\u001b[39m\\n\u001b[39;00m\u001b[39m{\u001b[39;00mfit_errors_summary\u001b[39m}\u001b[39;00m\u001b[39m\"\u001b[39m\n\u001b[0;32m    413\u001b[0m     )\n\u001b[1;32m--> 414\u001b[0m     \u001b[39mraise\u001b[39;00m \u001b[39mValueError\u001b[39;00m(all_fits_failed_message)\n\u001b[0;32m    416\u001b[0m \u001b[39melse\u001b[39;00m:\n\u001b[0;32m    417\u001b[0m     some_fits_failed_message \u001b[39m=\u001b[39m (\n\u001b[0;32m    418\u001b[0m         \u001b[39mf\u001b[39m\u001b[39m\"\u001b[39m\u001b[39m\\n\u001b[39;00m\u001b[39m{\u001b[39;00mnum_failed_fits\u001b[39m}\u001b[39;00m\u001b[39m fits failed out of a total of \u001b[39m\u001b[39m{\u001b[39;00mnum_fits\u001b[39m}\u001b[39;00m\u001b[39m.\u001b[39m\u001b[39m\\n\u001b[39;00m\u001b[39m\"\u001b[39m\n\u001b[0;32m    419\u001b[0m         \u001b[39m\"\u001b[39m\u001b[39mThe score on these train-test partitions for these parameters\u001b[39m\u001b[39m\"\u001b[39m\n\u001b[1;32m   (...)\u001b[0m\n\u001b[0;32m    423\u001b[0m         \u001b[39mf\u001b[39m\u001b[39m\"\u001b[39m\u001b[39mBelow are more details about the failures:\u001b[39m\u001b[39m\\n\u001b[39;00m\u001b[39m{\u001b[39;00mfit_errors_summary\u001b[39m}\u001b[39;00m\u001b[39m\"\u001b[39m\n\u001b[0;32m    424\u001b[0m     )\n",
      "\u001b[1;31mValueError\u001b[0m: \nAll the 360 fits failed.\nIt is very likely that your model is misconfigured.\nYou can try to debug the error by setting error_score='raise'.\n\nBelow are more details about the failures:\n--------------------------------------------------------------------------------\n360 fits failed with the following error:\nTraceback (most recent call last):\n  File \"c:\\Users\\isakasa\\AppData\\Local\\anaconda3\\envs\\basic_machine_learning\\Lib\\site-packages\\sklearn\\model_selection\\_validation.py\", line 729, in _fit_and_score\n    estimator.fit(X_train, y_train, **fit_params)\n  File \"c:\\Users\\isakasa\\AppData\\Local\\anaconda3\\envs\\basic_machine_learning\\Lib\\site-packages\\sklearn\\base.py\", line 1152, in wrapper\n    return fit_method(estimator, *args, **kwargs)\n           ^^^^^^^^^^^^^^^^^^^^^^^^^^^^^^^^^^^^^^\n  File \"c:\\Users\\isakasa\\AppData\\Local\\anaconda3\\envs\\basic_machine_learning\\Lib\\site-packages\\sklearn\\tree\\_classes.py\", line 959, in fit\n    super()._fit(\n  File \"c:\\Users\\isakasa\\AppData\\Local\\anaconda3\\envs\\basic_machine_learning\\Lib\\site-packages\\sklearn\\tree\\_classes.py\", line 284, in _fit\n    check_classification_targets(y)\n  File \"c:\\Users\\isakasa\\AppData\\Local\\anaconda3\\envs\\basic_machine_learning\\Lib\\site-packages\\sklearn\\utils\\multiclass.py\", line 216, in check_classification_targets\n    raise ValueError(\nValueError: Unknown label type: continuous. Maybe you are trying to fit a classifier, which expects discrete classes on a regression target with continuous values.\n"
     ]
    }
   ],
   "source": [
    "\n",
    "\n",
    "\n",
    "\n",
    "# Create a decision tree classifier\n",
    "clf = DecisionTreeClassifier()\n",
    "\n",
    "# Define the hyperparameters to search through\n",
    "param_grid = {\n",
    "    'criterion': ['gini', 'entropy'],\n",
    "    'max_depth': [None, 5, 10, 15],\n",
    "    'min_samples_split': [2, 5, 10],\n",
    "    'min_samples_leaf': [1, 2, 4]\n",
    "}\n",
    "\n",
    "# Use GridSearchCV to find the best hyperparameters\n",
    "grid_search = GridSearchCV(clf, param_grid, cv=5, scoring='accuracy')\n",
    "grid_search.fit(X_train, y_train)\n",
    "\n",
    "# Get the best model from the grid search\n",
    "best_clf = grid_search.best_estimator_\n",
    "\n",
    "# Make predictions on the test data using the best model\n",
    "predictions = best_clf.predict(X_test)\n",
    "\n",
    "# Evaluate the accuracy of the best model\n",
    "accuracy = accuracy_score(y_test, predictions)\n",
    "print(f\"Best Model Accuracy: {accuracy}\")\n",
    "print(f\"Best Hyperparameters: {grid_search.best_params_}\")"
   ]
  }
 ],
 "metadata": {
  "kernelspec": {
   "display_name": "Python 3",
   "language": "python",
   "name": "python3"
  },
  "language_info": {
   "codemirror_mode": {
    "name": "ipython",
    "version": 3
   },
   "file_extension": ".py",
   "mimetype": "text/x-python",
   "name": "python",
   "nbconvert_exporter": "python",
   "pygments_lexer": "ipython3",
   "version": "3.11.4"
  }
 },
 "nbformat": 4,
 "nbformat_minor": 2
}
