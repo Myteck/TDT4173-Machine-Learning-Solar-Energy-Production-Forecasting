{
 "cells": [
  {
   "cell_type": "code",
   "execution_count": null,
   "metadata": {},
   "outputs": [],
   "source": [
    "import os\n",
    "import pandas as pd\n",
    "import numpy as np\n",
    "import matplotlib.pylab as plt\n",
    "%matplotlib inline\n",
    "\n",
    "pd.set_option('display.max_rows', 200)\n",
    "pd.set_option('display.max_columns', 200)"
   ]
  },
  {
   "cell_type": "code",
   "execution_count": null,
   "metadata": {},
   "outputs": [],
   "source": [
    "def list_directory_tree_with_os_walk(starting_directory):\n",
    "    for root, directories, files in os.walk(starting_directory):\n",
    "        print(f\"Directory: {root}\")\n",
    "        for file in files:\n",
    "            print(f\"  File: {file}\")\n",
    "\n",
    "list_directory_tree_with_os_walk('.')"
   ]
  },
  {
   "cell_type": "code",
   "execution_count": null,
   "metadata": {},
   "outputs": [],
   "source": [
    "train_a = pd.read_parquet('A/train_targets.parquet')\n",
    "train_b = pd.read_parquet('B/train_targets.parquet')\n",
    "train_c = pd.read_parquet('C/train_targets.parquet')"
   ]
  },
  {
   "cell_type": "code",
   "execution_count": null,
   "metadata": {},
   "outputs": [],
   "source": [
    "X_train_estimated_a = pd.read_parquet('A/X_train_estimated.parquet')\n",
    "X_train_estimated_b = pd.read_parquet('B/X_train_estimated.parquet')\n",
    "X_train_estimated_c = pd.read_parquet('C/X_train_estimated.parquet')\n"
   ]
  },
  {
   "cell_type": "code",
   "execution_count": null,
   "metadata": {},
   "outputs": [],
   "source": [
    "X_train_observed_a = pd.read_parquet('A/X_train_observed.parquet')\n",
    "X_train_observed_b = pd.read_parquet('B/X_train_observed.parquet')\n",
    "X_train_observed_c = pd.read_parquet('C/X_train_observed.parquet')\n"
   ]
  },
  {
   "cell_type": "code",
   "execution_count": null,
   "metadata": {},
   "outputs": [],
   "source": [
    "X_test_estimated_a = pd.read_parquet('A/X_test_estimated.parquet')\n",
    "X_test_estimated_b = pd.read_parquet('B/X_test_estimated.parquet')\n",
    "X_test_estimated_c = pd.read_parquet('C/X_test_estimated.parquet')"
   ]
  },
  {
   "cell_type": "code",
   "execution_count": null,
   "metadata": {},
   "outputs": [],
   "source": [
    "# Plotting a single feature\n",
    "fig, axs = plt.subplots(3, 1, figsize=(20, 10), sharex=True)\n",
    "feature_name = 'absolute_humidity_2m:gm3'\n",
    "X_train_observed_a[['date_forecast', feature_name]].set_index('date_forecast').plot(ax=axs[0], title='Train/Test A', color='red')\n",
    "X_train_estimated_a[['date_forecast', feature_name]].set_index('date_forecast').plot(ax=axs[0], title='Train/Test A', color='blue')\n",
    "X_test_estimated_a[['date_forecast', feature_name]].set_index('date_forecast').plot(ax=axs[0], title='Train/Test  A', color='green')\n",
    "\n",
    "X_train_observed_b[['date_forecast', feature_name]].set_index('date_forecast').plot(ax=axs[1], title='Train/Test  B', color='red')\n",
    "X_train_estimated_b[['date_forecast', feature_name]].set_index('date_forecast').plot(ax=axs[1], title='Train/Test  B', color='blue')\n",
    "X_test_estimated_b[['date_forecast', feature_name]].set_index('date_forecast').plot(ax=axs[1], title='Train/Test  B', color='green')\n",
    "\n",
    "X_train_observed_c[['date_forecast', feature_name]].set_index('date_forecast').plot(ax=axs[2], title='Train/Test  C', color='red')\n",
    "X_train_estimated_c[['date_forecast', feature_name]].set_index('date_forecast').plot(ax=axs[2], title='Train/Test  C', color='blue')\n",
    "X_test_estimated_c[['date_forecast', feature_name]].set_index('date_forecast').plot(ax=axs[2], title='Train/Test  C', color='green')"
   ]
  },
  {
   "cell_type": "code",
   "execution_count": null,
   "metadata": {},
   "outputs": [],
   "source": [
    "test = pd.read_csv('test.csv')\n",
    "test\n"
   ]
  },
  {
   "cell_type": "code",
   "execution_count": null,
   "metadata": {},
   "outputs": [],
   "source": [
    "sample_submission = pd.read_csv('sample_submission.csv')\n",
    "sample_submission"
   ]
  },
  {
   "cell_type": "code",
   "execution_count": null,
   "metadata": {},
   "outputs": [],
   "source": [
    "# Example, let the predictions be random values\n",
    "test['prediction'] = np.random.rand(len(test))\n",
    "sample_submission = sample_submission[['id']].merge(test[['id', 'prediction']], on='id', how='left')\n",
    "sample_submission.to_csv('my_first_submission.csv', index=False)"
   ]
  },
  {
   "cell_type": "code",
   "execution_count": null,
   "metadata": {},
   "outputs": [],
   "source": [
    "# Amanda's tulle tralle, for en evig gralle skretralle\n",
    "import pandas as pd\n",
    "import numpy as np\n",
    "import matplotlib.pyplot as plt\n",
    "\n",
    "from tabulate import tabulate\n",
    "import seaborn as sns\n",
    "\n",
    "\n",
    "# Output df is the train_*\n",
    "# train_a and obs_a are different lengths"
   ]
  },
  {
   "cell_type": "code",
   "execution_count": null,
   "metadata": {},
   "outputs": [],
   "source": [
    "# sjekk om framesene har dobbelt time stamp i seg\n",
    "# train_a['time'].unique()\n",
    "# X_train_observed_a['date_forecast'].unique()\n",
    "print('If True all time stamps are unique')\n",
    "print(len(train_a)==len(train_a['time'].unique()))\n",
    "print(len(X_train_observed_a)==len(X_train_observed_a['date_forecast'].unique()))"
   ]
  },
  {
   "cell_type": "code",
   "execution_count": null,
   "metadata": {},
   "outputs": [],
   "source": [
    "def data_length(train_a, X_train_observed_a):\n",
    "    # kutt slik at de er like, sortert etter dato\n",
    "    observed_feature_test = X_train_observed_a[X_train_observed_a['date_forecast'].isin(train_a['time'])].sort_values(by=['date_forecast']) # sortert etter datao\n",
    "    # Hvis det var kun deenne -- kontroler at den andre også har lik sortering aka etter tid # train_a = train_a.sort_values(by=['time'])\n",
    "    train_feature_test = train_a[train_a['time'].isin(X_train_observed_a['date_forecast'])].sort_values(by=['time']) # sortert etter datao\n",
    "\n",
    "    print('If True same length and time stamps')\n",
    "    print(len(observed_feature_test) == len(train_feature_test))\n",
    "    print(len(observed_feature_test), len(train_feature_test))\n",
    "\n",
    "    return observed_feature_test, train_feature_test"
   ]
  },
  {
   "cell_type": "code",
   "execution_count": null,
   "metadata": {},
   "outputs": [],
   "source": [
    "# The feature I'm testing\n",
    "features_list = [\n",
    "    'relative_humidity_1000hPa:p',\n",
    "    'sfc_pressure:hPa',\n",
    "    'snow_density:kgm3',\n",
    "    'snow_depth:cm',\n",
    "    'snow_drift:idx',\n",
    "    'snow_melt_10min:mm',\n",
    "    'snow_water:kgm2',\n",
    "    'sun_azimuth:d',\n",
    "    'sun_elevation:d',\n",
    "    'super_cooled_liquid_water:kgm2',\n",
    "    't_1000hPa:K',\n",
    "    'total_cloud_cover:p',\n",
    "    'visibility:m',\n",
    "    'wind_speed_10m:ms',\n",
    "    'wind_speed_u_10m:ms',\n",
    "    'wind_speed_v_10m:ms',\n",
    "    'wind_speed_w_1000hPa:ms'\n",
    "]"
   ]
  },
  {
   "cell_type": "code",
   "execution_count": null,
   "metadata": {},
   "outputs": [],
   "source": [
    "# Plot over time\n",
    "# Plot train_a = train target -- pv - power messurment ? \n",
    "def plot_all_feature(train, obs, features_list):\n",
    "    plt.figure(figsize=(20, 4))\n",
    "    plt.plot(train['time'], train['pv_measurement'], label='train_a')\n",
    "\n",
    "    # Plott alle featurene over tid\n",
    "    for feature in features_list:\n",
    "        plt.figure(figsize=(20, 4))\n",
    "        plt.plot(obs['date_forecast'], obs[feature])\n",
    "        plt.xlabel('Date')\n",
    "        plt.ylabel(feature)\n",
    "        plt.title(f'Plot of {feature} over time')\n",
    "        plt.show()\n"
   ]
  },
  {
   "cell_type": "code",
   "execution_count": null,
   "metadata": {},
   "outputs": [],
   "source": [
    "\n",
    "def correlation_calc(train: pd.DataFrame, obs: pd.DataFrame, features_list: list[str]) -> tuple[dict, list]:\n",
    "    \"\"\" Takes in two dataFrames and calculates the correlation between the two. \"\"\"\n",
    "    correlations = {}\n",
    "\n",
    "    for feature in features_list:\n",
    "        covariance = obs[feature].corr(train['pv_measurement'])\n",
    "        correlations[feature] = covariance\n",
    "\n",
    "    # List containing the feature and correlation value.\n",
    "    corr_data = []\n",
    "    for feature, corl in correlations.items():\n",
    "        corr_data.append([feature, corl])\n",
    "\n",
    "    # Display the correlation values in a neat list. NOTE: I have never used this, but a pretty cool way to display data.\n",
    "    print('This is the correlation between each feature and the output variable: \\n')\n",
    "    table = tabulate(corr_data, headers=['Feature', 'Correlation'], tablefmt='pretty')\n",
    "    print(table)\n",
    "\n",
    "    return correlations, corr_data\n"
   ]
  },
  {
   "cell_type": "code",
   "execution_count": null,
   "metadata": {},
   "outputs": [],
   "source": [
    "def see_corre(correlations: dict[str, float]):\n",
    "    \"\"\" Takes in a dictionary of correlation values, and plots them in a horizontal bar plot.\"\"\"\n",
    "    correlation_df = pd.DataFrame(correlations.items(), columns=['Feature', 'Correlation']) # Create df to store the correlations\n",
    "    correlation_df = correlation_df.sort_values(by='Correlation', ascending=False) # Sort the DataFrame by correlation values\n",
    "\n",
    "    # Create a bar plot to visualize the correlations\n",
    "    plt.figure(figsize=(12, 6))\n",
    "    sns.barplot(x='Correlation', y='Feature', data=correlation_df, orient='h', palette='viridis')\n",
    "    plt.title('Correlation between pv_measurement and Features in obs')\n",
    "    plt.xlabel('Correlation')\n",
    "    plt.ylabel('Feature')\n",
    "    plt.show()\n",
    "\n"
   ]
  },
  {
   "cell_type": "code",
   "execution_count": null,
   "metadata": {},
   "outputs": [],
   "source": [
    "obs, train = data_length(train_a, X_train_observed_a)\n",
    "correlations, corr_data = correlation_calc(train, obs, features_list)\n",
    "see_corre(correlations)\n",
    "plot_all_feature(train, obs, features_list)\n",
    "# For A: observerer her at det ikke er snø når vi skal estimere"
   ]
  },
  {
   "cell_type": "code",
   "execution_count": null,
   "metadata": {},
   "outputs": [],
   "source": [
    "# For B\n",
    "obs, train = data_length(train_b, X_train_observed_b)\n",
    "correlations, corr_data = correlation_calc(train, obs, features_list)\n",
    "see_corre(correlations)\n",
    "plot_all_feature(train, obs, features_list)\n",
    "\n",
    "\n",
    "train_b = train_b.dropna() # Target data  NaN fjern \n",
    "\n",
    "observed_feature_test = X_train_observed_b[X_train_observed_b['date_forecast'].isin(train_b['time'])].sort_values(by=['date_forecast']) # sortert etter datao\n",
    "# Hvis det var kun deenne -- kontroler at den andre også har lik sortering aka etter tid # train_a = train_a.sort_values(by=['time'])\n",
    "train_feature_test = train_b[train_b['time'].isin(X_train_observed_b['date_forecast'])].sort_values(by=['time']) # sortert etter datao\n",
    "\n",
    "print('If True same length and time stamps')\n",
    "print(len(observed_feature_test) == len(train_feature_test))\n",
    "print(len(observed_feature_test), len(train_feature_test))\n",
    "\n",
    "# feature impotance -- random forest"
   ]
  },
  {
   "cell_type": "code",
   "execution_count": null,
   "metadata": {},
   "outputs": [],
   "source": [
    "# For C\n",
    "obs, train = data_length(train_c, X_train_observed_c)\n",
    "correlations, corr_data = correlation_calc(train, obs, features_list)\n",
    "see_corre(correlations)\n",
    "plot_all_feature(train, obs, features_list)\n",
    "# For A: observerer her at det ikke er snø når vi skal estimere"
   ]
  },
  {
   "cell_type": "code",
   "execution_count": null,
   "metadata": {},
   "outputs": [],
   "source": []
  },
  {
   "cell_type": "code",
   "execution_count": 426,
   "metadata": {},
   "outputs": [
    {
     "data": {
      "image/png": "[encoded data removed]",
      "text/plain": [
       "<Figure size 1200x600 with 1 Axes>"
      ]
     },
     "metadata": {},
     "output_type": "display_data"
    }
   ],
   "source": []
  },
  {
   "cell_type": "markdown",
   "metadata": {},
   "source": [
    "## Try Model for feature selection"
   ]
  },
  {
   "cell_type": "code",
   "execution_count": 448,
   "metadata": {},
   "outputs": [
    {
     "ename": "ImportError",
     "evalue": "cannot import name 'RandomForestClassfier' from 'sklearn.ensemble' (c:\\Users\\amand\\anaconda3\\envs\\TDT4173\\Lib\\site-packages\\sklearn\\ensemble\\__init__.py)",
     "output_type": "error",
     "traceback": [
      "\u001b[1;31m---------------------------------------------------------------------------\u001b[0m",
      "\u001b[1;31mImportError\u001b[0m                               Traceback (most recent call last)",
      "\u001b[1;32mc:\\Users\\amand\\OneDrive - NTNU\\Documents\\NTNU_studier\\11.semester(YOLO)\\TDT4173-Machine-Learning-Solar-Energy-Production-Forecasting\\data\\read_files.ipynb Cell 24\u001b[0m line \u001b[0;36m2\n\u001b[0;32m      <a href='vscode-notebook-cell:/c%3A/Users/amand/OneDrive%20-%20NTNU/Documents/NTNU_studier/11.semester%28YOLO%29/TDT4173-Machine-Learning-Solar-Energy-Production-Forecasting/data/read_files.ipynb#Y120sZmlsZQ%3D%3D?line=0'>1</a>\u001b[0m \u001b[39mimport\u001b[39;00m \u001b[39mpandas\u001b[39;00m \u001b[39mas\u001b[39;00m \u001b[39mpd\u001b[39;00m\n\u001b[1;32m----> <a href='vscode-notebook-cell:/c%3A/Users/amand/OneDrive%20-%20NTNU/Documents/NTNU_studier/11.semester%28YOLO%29/TDT4173-Machine-Learning-Solar-Energy-Production-Forecasting/data/read_files.ipynb#Y120sZmlsZQ%3D%3D?line=1'>2</a>\u001b[0m \u001b[39mfrom\u001b[39;00m \u001b[39msklearn\u001b[39;00m\u001b[39m.\u001b[39;00m\u001b[39mensemble\u001b[39;00m \u001b[39mimport\u001b[39;00m RandomForestClassfier\n\u001b[0;32m      <a href='vscode-notebook-cell:/c%3A/Users/amand/OneDrive%20-%20NTNU/Documents/NTNU_studier/11.semester%28YOLO%29/TDT4173-Machine-Learning-Solar-Energy-Production-Forecasting/data/read_files.ipynb#Y120sZmlsZQ%3D%3D?line=2'>3</a>\u001b[0m \u001b[39mfrom\u001b[39;00m \u001b[39msklearn\u001b[39;00m\u001b[39m.\u001b[39;00m\u001b[39mfeature_selection\u001b[39;00m \u001b[39mimport\u001b[39;00m SelectFromModel\n",
      "\u001b[1;31mImportError\u001b[0m: cannot import name 'RandomForestClassfier' from 'sklearn.ensemble' (c:\\Users\\amand\\anaconda3\\envs\\TDT4173\\Lib\\site-packages\\sklearn\\ensemble\\__init__.py)"
     ]
    }
   ],
   "source": [
    "import pandas as pd\n",
    "from sklearn.ensemble import RandomForestClassfier\n",
    "from sklearn.feature_selection import SelectFromModel"
   ]
  },
  {
   "cell_type": "markdown",
   "metadata": {},
   "source": [
    "## Gammel code"
   ]
  },
  {
   "cell_type": "code",
   "execution_count": 341,
   "metadata": {},
   "outputs": [],
   "source": [
    "# print(f'start : ', train_a['time'].head(1))\n",
    "# print(f'end   : ', train_a['time'].tail(1))\n",
    "\n",
    "# print(f'start : ', X_train_observed_a['date_forecast'].head(1))\n",
    "# print(f'end   : ', X_train_observed_a['date_forecast'].tail(1))\n",
    "\n",
    "# print(f'start : ', X_train_estimated_a['date_forecast'].head(1))\n",
    "# print(f'end   : ', X_train_estimated_a['date_forecast'].tail(1))"
   ]
  },
  {
   "cell_type": "code",
   "execution_count": 342,
   "metadata": {},
   "outputs": [
    {
     "name": "stdout",
     "output_type": "stream",
     "text": [
      "29667 118669\n"
     ]
    }
   ],
   "source": [
    "# # Find the common time range\n",
    "# common_start_time = max(train_a['time'].min(), X_train_observed_a['date_forecast'].min())\n",
    "# common_end_time = min(train_a['time'].max(), X_train_observed_a['date_forecast'].max())\n",
    "\n",
    "# # Filter 'train_a' to the common time range\n",
    "# train_a_filtered = train_a[(train_a['time'] >= common_start_time) & (train_a['time'] <= common_end_time)]\n",
    "\n",
    "# # Filter 'X_train_observed_a' to the common time range\n",
    "# X_train_observed_a_filtered = X_train_observed_a[(X_train_observed_a['date_forecast'] >= common_start_time) & (X_train_observed_a['date_forecast'] <= common_end_time)]\n",
    "# # \n",
    "# # Now, both data frames have the same time range\n",
    "# # You can further process or analyze them as needed\n",
    "# print(len(train_a_filtered), len(X_train_observed_a_filtered))"
   ]
  },
  {
   "cell_type": "code",
   "execution_count": 351,
   "metadata": {},
   "outputs": [],
   "source": [
    "# plt.figure(figsize=(20, 4))\n",
    "# plt.plot(train_a_filtered['time'], train_a_filtered['pv_measurement'], label='train_a')\n",
    "\n",
    "# # Plott alle featurene over tid\n",
    "# for feature in features_list:\n",
    "#     plt.figure(figsize=(20, 4))\n",
    "#     plt.plot(X_train_observed_a_filtered['date_forecast'], X_train_observed_a_filtered[feature])\n",
    "#     plt.xlabel('Date')\n",
    "#     plt.ylabel(feature)\n",
    "#     plt.title(f'Plot of {feature} over time')\n",
    "#     plt.show()\n"
   ]
  },
  {
   "cell_type": "code",
   "execution_count": 344,
   "metadata": {},
   "outputs": [],
   "source": [
    "# # Beregn kovarians for hver funksjon med utgangsvariabelen\n",
    "# covariances = {}\n",
    "# for feature in features_list:\n",
    "#     covariance = X_train_observed_a[feature].cov(train_a['pv_measurement'])\n",
    "#     covariances[feature] = covariance\n",
    "\n",
    "# # Skriv ut kovariansverdiene\n",
    "# for feature, covariance in covariances.items():\n",
    "#     print(f'Kovarians mellom {feature} og output_variable:                    {covariance}\\n')"
   ]
  },
  {
   "cell_type": "code",
   "execution_count": 345,
   "metadata": {},
   "outputs": [
    {
     "name": "stdout",
     "output_type": "stream",
     "text": [
      "This is the covariance between each feature and the output variable: \n",
      "covariance measures the degree of co-variation and can have a wide range of values \n",
      "\n",
      "+--------------------------------+-----------------------+\n",
      "|            Feature             |      Covariance       |\n",
      "+--------------------------------+-----------------------+\n",
      "|     self -- pv_measurement     |  1429296.1042811184   |\n",
      "|  relative_humidity_1000hPa:p   |  -302.6372731095812   |\n",
      "|        sfc_pressure:hPa        |  -227.53985399154357  |\n",
      "|       snow_density:kgm3        |          0.0          |\n",
      "|         snow_depth:cm          |  14.670935547204918   |\n",
      "|         snow_drift:idx         |          0.0          |\n",
      "|       snow_melt_10min:mm       |  0.07034084715800926  |\n",
      "|        snow_water:kgm2         |  -1.4661630553047025  |\n",
      "|         sun_azimuth:d          |  -11279.560060199274  |\n",
      "|        sun_elevation:d         |  -97.06286298334284   |\n",
      "| super_cooled_liquid_water:kgm2 | -0.46006940958609344  |\n",
      "|          t_1000hPa:K           |  -207.55111889069613  |\n",
      "|      total_cloud_cover:p       |  1946.3578420272725   |\n",
      "|          visibility:m          |   9904.252731695817   |\n",
      "|       wind_speed_10m:ms        |  36.713703972095566   |\n",
      "|      wind_speed_u_10m:ms       |  -0.9906420525108455  |\n",
      "|      wind_speed_v_10m:ms       |   78.26988651419197   |\n",
      "|    wind_speed_w_1000hPa:ms     | -0.004807331070886614 |\n",
      "+--------------------------------+-----------------------+\n"
     ]
    }
   ],
   "source": [
    "# train = train_a_filtered\n",
    "# obs  = X_train_observed_a_filtered\n",
    "# # Beregn kovarians for hver funksjon med utgangsvariabelen\n",
    "# covariances = {}\n",
    "\n",
    "# covariance = train['pv_measurement'].cov(train['pv_measurement'])\n",
    "# covariances['self -- pv_measurement'] = covariance\n",
    "\n",
    "# for feature in features_list:\n",
    "#     covariance = obs[feature].cov(train['pv_measurement'])\n",
    "#     covariances[feature] = covariance\n",
    "\n",
    "# # Opprett en liste med kovariansverdiene\n",
    "# covariance_data = []\n",
    "# for feature, covariance in covariances.items():\n",
    "#     covariance_data.append([feature, covariance])\n",
    "\n",
    "# # Skriv ut kovariansverdiene i en fin tabell\n",
    "# print('This is the covariance between each feature and the output variable: \\ncovariance measures the degree of co-variation and can have a wide range of values \\n')\n",
    "# table = tabulate(covariance_data, headers=['Feature', 'Covariance'], tablefmt='pretty')\n",
    "# print(table)"
   ]
  },
  {
   "cell_type": "code",
   "execution_count": 346,
   "metadata": {},
   "outputs": [
    {
     "name": "stdout",
     "output_type": "stream",
     "text": [
      "float64\n",
      "float32\n",
      "29667 118669\n",
      "(29667,) (118669,)\n",
      "44501\n",
      "29667\n"
     ]
    }
   ],
   "source": [
    "# print(train['pv_measurement'].dtype)\n",
    "# print(obs['relative_humidity_1000hPa:p'].dtype)\n",
    "# print(len(train['pv_measurement']), len(obs['relative_humidity_1000hPa:p']))\n",
    "# print(train['pv_measurement'].shape, obs['relative_humidity_1000hPa:p'].shape)\n",
    "# # t = -int((train['pv_measurement'].shape[0] -  obs['relative_humidity_1000hPa:p'].shape[0])/2)\n",
    "# # print(t)\n",
    "# # print(len(obs[t:-t]))"
   ]
  },
  {
   "cell_type": "code",
   "execution_count": 347,
   "metadata": {},
   "outputs": [
    {
     "name": "stdout",
     "output_type": "stream",
     "text": [
      "start :  0   2019-06-02 22:00:00\n",
      "Name: time, dtype: datetime64[us]\n",
      "end   :  29666   2022-10-21\n",
      "Name: time, dtype: datetime64[us]\n",
      "start :  0   2019-06-02 22:00:00\n",
      "Name: date_forecast, dtype: datetime64[us]\n",
      "end   :  118668   2022-10-21 01:00:00\n",
      "Name: date_forecast, dtype: datetime64[us]\n"
     ]
    },
    {
     "data": {
      "text/plain": [
       "' Eneste froskjellen er at den ene er en time lengre'"
      ]
     },
     "execution_count": 347,
     "metadata": {},
     "output_type": "execute_result"
    }
   ],
   "source": [
    "# print(f'start : ', train['time'].head(1))\n",
    "# print(f'end   : ', train['time'].tail(1))\n",
    "\n",
    "# print(f'start : ', obs['date_forecast'].head(1))\n",
    "# print(f'end   : ', obs['date_forecast'].tail(1))\n",
    "\n",
    "# \" Eneste froskjellen er at den ene er en time lengre\""
   ]
  },
  {
   "cell_type": "code",
   "execution_count": 365,
   "metadata": {},
   "outputs": [
    {
     "name": "stdout",
     "output_type": "stream",
     "text": [
      "29667\n",
      "29667\n"
     ]
    }
   ],
   "source": [
    "# train_a['time'].unique()\n",
    "# obs['date_forecast'].unique()\n",
    "\n",
    "# train_obs_new = X_train_observed_a[X_train_observed_a['date_forecast'].isin(train_a['time'])].sort_values(by=['date_forecast']) # sortert etter datao\n",
    "\n",
    "# # train_a = train_a.sort_values(by=['time'])\n",
    "\n",
    "# train_a_new = train_a[train_a['time'].isin(X_train_observed_a['date_forecast'])].sort_values(by=['time']) # sortert etter datao\n",
    "# # train_obs_new = X_train_observed_a.sort_values(by=['date_forecast'])\n",
    "# print(len(train_a_new))\n",
    "# print(len(train_obs_new))"
   ]
  },
  {
   "cell_type": "code",
   "execution_count": 348,
   "metadata": {},
   "outputs": [],
   "source": [
    "# correlations = X_train_observed_a.corrwith(train_a['pv_measurement'])\n",
    "# correlations = obs[t:-t].corrwith(train['pv_measurement'])"
   ]
  },
  {
   "cell_type": "code",
   "execution_count": 349,
   "metadata": {},
   "outputs": [
    {
     "ename": "ValueError",
     "evalue": "x and y must be the same size",
     "output_type": "error",
     "traceback": [
      "\u001b[1;31m---------------------------------------------------------------------------\u001b[0m",
      "\u001b[1;31mValueError\u001b[0m                                Traceback (most recent call last)",
      "\u001b[1;32mc:\\Users\\amand\\OneDrive - NTNU\\Documents\\NTNU_studier\\11.semester(YOLO)\\TDT4173-Machine-Learning-Solar-Energy-Production-Forecasting\\data\\read_files.ipynb Cell 24\u001b[0m line \u001b[0;36m2\n\u001b[0;32m      <a href='vscode-notebook-cell:/c%3A/Users/amand/OneDrive%20-%20NTNU/Documents/NTNU_studier/11.semester%28YOLO%29/TDT4173-Machine-Learning-Solar-Energy-Production-Forecasting/data/read_files.ipynb#X64sZmlsZQ%3D%3D?line=0'>1</a>\u001b[0m \u001b[39m# Create a scatter plot between two features\u001b[39;00m\n\u001b[1;32m----> <a href='vscode-notebook-cell:/c%3A/Users/amand/OneDrive%20-%20NTNU/Documents/NTNU_studier/11.semester%28YOLO%29/TDT4173-Machine-Learning-Solar-Energy-Production-Forecasting/data/read_files.ipynb#X64sZmlsZQ%3D%3D?line=1'>2</a>\u001b[0m plt\u001b[39m.\u001b[39;49mscatter(obs[\u001b[39m'\u001b[39;49m\u001b[39mrelative_humidity_1000hPa:p\u001b[39;49m\u001b[39m'\u001b[39;49m], train[\u001b[39m'\u001b[39;49m\u001b[39mpv_measurement\u001b[39;49m\u001b[39m'\u001b[39;49m])\n\u001b[0;32m      <a href='vscode-notebook-cell:/c%3A/Users/amand/OneDrive%20-%20NTNU/Documents/NTNU_studier/11.semester%28YOLO%29/TDT4173-Machine-Learning-Solar-Energy-Production-Forecasting/data/read_files.ipynb#X64sZmlsZQ%3D%3D?line=2'>3</a>\u001b[0m plt\u001b[39m.\u001b[39mxlabel(\u001b[39m'\u001b[39m\u001b[39mrelative_humidity_1000hPa:p\u001b[39m\u001b[39m'\u001b[39m)\n\u001b[0;32m      <a href='vscode-notebook-cell:/c%3A/Users/amand/OneDrive%20-%20NTNU/Documents/NTNU_studier/11.semester%28YOLO%29/TDT4173-Machine-Learning-Solar-Energy-Production-Forecasting/data/read_files.ipynb#X64sZmlsZQ%3D%3D?line=3'>4</a>\u001b[0m plt\u001b[39m.\u001b[39mylabel(\u001b[39m'\u001b[39m\u001b[39mpv_measurement\u001b[39m\u001b[39m'\u001b[39m)\n",
      "File \u001b[1;32mc:\\Users\\amand\\anaconda3\\envs\\TDT4173\\Lib\\site-packages\\matplotlib\\pyplot.py:2862\u001b[0m, in \u001b[0;36mscatter\u001b[1;34m(x, y, s, c, marker, cmap, norm, vmin, vmax, alpha, linewidths, edgecolors, plotnonfinite, data, **kwargs)\u001b[0m\n\u001b[0;32m   2857\u001b[0m \u001b[39m@_copy_docstring_and_deprecators\u001b[39m(Axes\u001b[39m.\u001b[39mscatter)\n\u001b[0;32m   2858\u001b[0m \u001b[39mdef\u001b[39;00m \u001b[39mscatter\u001b[39m(\n\u001b[0;32m   2859\u001b[0m         x, y, s\u001b[39m=\u001b[39m\u001b[39mNone\u001b[39;00m, c\u001b[39m=\u001b[39m\u001b[39mNone\u001b[39;00m, marker\u001b[39m=\u001b[39m\u001b[39mNone\u001b[39;00m, cmap\u001b[39m=\u001b[39m\u001b[39mNone\u001b[39;00m, norm\u001b[39m=\u001b[39m\u001b[39mNone\u001b[39;00m,\n\u001b[0;32m   2860\u001b[0m         vmin\u001b[39m=\u001b[39m\u001b[39mNone\u001b[39;00m, vmax\u001b[39m=\u001b[39m\u001b[39mNone\u001b[39;00m, alpha\u001b[39m=\u001b[39m\u001b[39mNone\u001b[39;00m, linewidths\u001b[39m=\u001b[39m\u001b[39mNone\u001b[39;00m, \u001b[39m*\u001b[39m,\n\u001b[0;32m   2861\u001b[0m         edgecolors\u001b[39m=\u001b[39m\u001b[39mNone\u001b[39;00m, plotnonfinite\u001b[39m=\u001b[39m\u001b[39mFalse\u001b[39;00m, data\u001b[39m=\u001b[39m\u001b[39mNone\u001b[39;00m, \u001b[39m*\u001b[39m\u001b[39m*\u001b[39mkwargs):\n\u001b[1;32m-> 2862\u001b[0m     __ret \u001b[39m=\u001b[39m gca()\u001b[39m.\u001b[39;49mscatter(\n\u001b[0;32m   2863\u001b[0m         x, y, s\u001b[39m=\u001b[39;49ms, c\u001b[39m=\u001b[39;49mc, marker\u001b[39m=\u001b[39;49mmarker, cmap\u001b[39m=\u001b[39;49mcmap, norm\u001b[39m=\u001b[39;49mnorm,\n\u001b[0;32m   2864\u001b[0m         vmin\u001b[39m=\u001b[39;49mvmin, vmax\u001b[39m=\u001b[39;49mvmax, alpha\u001b[39m=\u001b[39;49malpha, linewidths\u001b[39m=\u001b[39;49mlinewidths,\n\u001b[0;32m   2865\u001b[0m         edgecolors\u001b[39m=\u001b[39;49medgecolors, plotnonfinite\u001b[39m=\u001b[39;49mplotnonfinite,\n\u001b[0;32m   2866\u001b[0m         \u001b[39m*\u001b[39;49m\u001b[39m*\u001b[39;49m({\u001b[39m\"\u001b[39;49m\u001b[39mdata\u001b[39;49m\u001b[39m\"\u001b[39;49m: data} \u001b[39mif\u001b[39;49;00m data \u001b[39mis\u001b[39;49;00m \u001b[39mnot\u001b[39;49;00m \u001b[39mNone\u001b[39;49;00m \u001b[39melse\u001b[39;49;00m {}), \u001b[39m*\u001b[39;49m\u001b[39m*\u001b[39;49mkwargs)\n\u001b[0;32m   2867\u001b[0m     sci(__ret)\n\u001b[0;32m   2868\u001b[0m     \u001b[39mreturn\u001b[39;00m __ret\n",
      "File \u001b[1;32mc:\\Users\\amand\\anaconda3\\envs\\TDT4173\\Lib\\site-packages\\matplotlib\\__init__.py:1446\u001b[0m, in \u001b[0;36m_preprocess_data.<locals>.inner\u001b[1;34m(ax, data, *args, **kwargs)\u001b[0m\n\u001b[0;32m   1443\u001b[0m \u001b[39m@functools\u001b[39m\u001b[39m.\u001b[39mwraps(func)\n\u001b[0;32m   1444\u001b[0m \u001b[39mdef\u001b[39;00m \u001b[39minner\u001b[39m(ax, \u001b[39m*\u001b[39margs, data\u001b[39m=\u001b[39m\u001b[39mNone\u001b[39;00m, \u001b[39m*\u001b[39m\u001b[39m*\u001b[39mkwargs):\n\u001b[0;32m   1445\u001b[0m     \u001b[39mif\u001b[39;00m data \u001b[39mis\u001b[39;00m \u001b[39mNone\u001b[39;00m:\n\u001b[1;32m-> 1446\u001b[0m         \u001b[39mreturn\u001b[39;00m func(ax, \u001b[39m*\u001b[39;49m\u001b[39mmap\u001b[39;49m(sanitize_sequence, args), \u001b[39m*\u001b[39;49m\u001b[39m*\u001b[39;49mkwargs)\n\u001b[0;32m   1448\u001b[0m     bound \u001b[39m=\u001b[39m new_sig\u001b[39m.\u001b[39mbind(ax, \u001b[39m*\u001b[39margs, \u001b[39m*\u001b[39m\u001b[39m*\u001b[39mkwargs)\n\u001b[0;32m   1449\u001b[0m     auto_label \u001b[39m=\u001b[39m (bound\u001b[39m.\u001b[39marguments\u001b[39m.\u001b[39mget(label_namer)\n\u001b[0;32m   1450\u001b[0m                   \u001b[39mor\u001b[39;00m bound\u001b[39m.\u001b[39mkwargs\u001b[39m.\u001b[39mget(label_namer))\n",
      "File \u001b[1;32mc:\\Users\\amand\\anaconda3\\envs\\TDT4173\\Lib\\site-packages\\matplotlib\\axes\\_axes.py:4578\u001b[0m, in \u001b[0;36mAxes.scatter\u001b[1;34m(self, x, y, s, c, marker, cmap, norm, vmin, vmax, alpha, linewidths, edgecolors, plotnonfinite, **kwargs)\u001b[0m\n\u001b[0;32m   4576\u001b[0m y \u001b[39m=\u001b[39m np\u001b[39m.\u001b[39mma\u001b[39m.\u001b[39mravel(y)\n\u001b[0;32m   4577\u001b[0m \u001b[39mif\u001b[39;00m x\u001b[39m.\u001b[39msize \u001b[39m!=\u001b[39m y\u001b[39m.\u001b[39msize:\n\u001b[1;32m-> 4578\u001b[0m     \u001b[39mraise\u001b[39;00m \u001b[39mValueError\u001b[39;00m(\u001b[39m\"\u001b[39m\u001b[39mx and y must be the same size\u001b[39m\u001b[39m\"\u001b[39m)\n\u001b[0;32m   4580\u001b[0m \u001b[39mif\u001b[39;00m s \u001b[39mis\u001b[39;00m \u001b[39mNone\u001b[39;00m:\n\u001b[0;32m   4581\u001b[0m     s \u001b[39m=\u001b[39m (\u001b[39m20\u001b[39m \u001b[39mif\u001b[39;00m mpl\u001b[39m.\u001b[39mrcParams[\u001b[39m'\u001b[39m\u001b[39m_internal.classic_mode\u001b[39m\u001b[39m'\u001b[39m] \u001b[39melse\u001b[39;00m\n\u001b[0;32m   4582\u001b[0m          mpl\u001b[39m.\u001b[39mrcParams[\u001b[39m'\u001b[39m\u001b[39mlines.markersize\u001b[39m\u001b[39m'\u001b[39m] \u001b[39m*\u001b[39m\u001b[39m*\u001b[39m \u001b[39m2.0\u001b[39m)\n",
      "\u001b[1;31mValueError\u001b[0m: x and y must be the same size"
     ]
    },
    {
     "data": {
      "image/png": "[encoded data removed]",
      "text/plain": [
       "<Figure size 640x480 with 1 Axes>"
      ]
     },
     "metadata": {},
     "output_type": "display_data"
    }
   ],
   "source": [
    "# Create a scatter plot between two features\n",
    "plt.scatter(obs['relative_humidity_1000hPa:p'], train['pv_measurement'])\n",
    "plt.xlabel('relative_humidity_1000hPa:p')\n",
    "plt.ylabel('pv_measurement')\n",
    "plt.title('Scatter Plot between Feature 1 and Feature 2')\n",
    "plt.show()"
   ]
  },
  {
   "cell_type": "code",
   "execution_count": null,
   "metadata": {},
   "outputs": [],
   "source": []
  }
 ],
 "metadata": {
  "kernelspec": {
   "display_name": ".venv",
   "language": "python",
   "name": "python3"
  },
  "language_info": {
   "codemirror_mode": {
    "name": "ipython",
    "version": 3
   },
   "file_extension": ".py",
   "mimetype": "text/x-python",
   "name": "python",
   "nbconvert_exporter": "python",
   "pygments_lexer": "ipython3",
   "version": "3.10.12"
  },
  "orig_nbformat": 4
 },
 "nbformat": 4,
 "nbformat_minor": 2
}
