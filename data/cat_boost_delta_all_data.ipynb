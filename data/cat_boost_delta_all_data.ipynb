{
 "cells": [
  {
   "cell_type": "markdown",
   "metadata": {},
   "source": [
    "#  Cat Boost\n",
    "\n",
    "The aim of this notebook is to try out XG-boost on our optimization problem. There is also some ideas and concepts that will overlap with other machine learning models. Some novel ideas related to the preprocessing step is in this file, but SHOULD be moved to a dedicated pre-processing library to make the puipeline easier to work with.\n",
    "\n",
    "*TODO: Create a preprocessing library*"
   ]
  },
  {
   "cell_type": "markdown",
   "metadata": {},
   "source": [
    "### Import the needed libraries"
   ]
  },
  {
   "cell_type": "code",
   "execution_count": 3,
   "metadata": {},
   "outputs": [],
   "source": [
    "# First we will extract the data, and save it to a csv.\n",
    "# Machine Learning Model\n",
    "import catboost as cb\n",
    "\n",
    "# Data Processing Tools\n",
    "import numpy as np\n",
    "import pandas as pd\n",
    "import seaborn as sns\n",
    "\n",
    "# Data Display Tools\n",
    "import matplotlib.pyplot as plt\n",
    "\n",
    "# Machine Learning Tools\n",
    "from sklearn.model_selection import train_test_split\n",
    "from sklearn.metrics import mean_absolute_error\n",
    "from sklearn.metrics import r2_score\n",
    "from sklearn.inspection import permutation_importance\n",
    "from sklearn.feature_selection import SelectKBest\n",
    "from sklearn.preprocessing import MinMaxScaler\n",
    "\n",
    "from sklearn.feature_selection import f_regression\n",
    "\n",
    "import feature_generation as feat_gen\n",
    "import data_processing as dat_proc\n",
    "\n",
    "%matplotlib inline\n",
    "\n"
   ]
  },
  {
   "cell_type": "markdown",
   "metadata": {},
   "source": [
    "### Extract data"
   ]
  },
  {
   "cell_type": "code",
   "execution_count": 6,
   "metadata": {},
   "outputs": [],
   "source": [
    "# train_a = pd.read_parquet('A/train_targets.parquet')\n",
    "# X_train_estimated_a = pd.read_parquet('A/X_train_estimated.parquet')\n",
    "# X_train_observed_a = pd.read_parquet('A/X_train_observed.parquet')\n",
    "# X_test_estimated_a = pd.read_parquet('A/X_test_estimated.parquet')\n",
    "\n",
    "# print(train_a.info())"
   ]
  },
  {
   "cell_type": "markdown",
   "metadata": {},
   "source": [
    "### Example for adding all the data -- Am"
   ]
  },
  {
   "cell_type": "code",
   "execution_count": 7,
   "metadata": {},
   "outputs": [],
   "source": [
    "def add_clean_all(train: pd.DataFrame, observe: pd.DataFrame):\n",
    "    con = pd.concat([train, observe], axis = 0, ignore_index=True) # Concatenate train and observe  #### ignore_index=True ??\n",
    "    con_sort = con.sort_values(by = \"time\") # Sort by time\n",
    "    # Interpolate missing values. limit_direction = \"both\"  make sure we get the first value\n",
    "    # It will interpolate values both forward and backward from the missing data points to fill gaps in the data.\n",
    "    con_pol = con_sort.interpolate(method = \"linear\", limit_direction = \"both\") \n",
    "    con_dup = con_pol.drop_duplicates(subset = \"time\", keep = \"first\") # Remove duplicates from the time column\n",
    "    con_nan = con_dup[~pd.isna(con_dup[\"pv_measurement\"])]; # Remove rows with NaN in pv_measurement. ; is used to remove the print\n",
    "    con_clean = con_nan.reset_index(drop = True) # Reset index\n",
    "\n",
    "    X = con_clean.drop(columns = [\"time\", \"pv_measurement\"], axis = 1) # drop_time  # \"date_forecast\",\n",
    "    y = con_clean[[\"time\", \"pv_measurement\"]].copy()\n",
    "    return X, y\n",
    "\n",
    "# Read Data\n",
    "train_a = pd.read_parquet('A/train_targets.parquet')\n",
    "train_b = pd.read_parquet('B/train_targets.parquet')\n",
    "train_c = pd.read_parquet('C/train_targets.parquet')\n",
    "\n",
    "X_train_observed_a = pd.read_parquet('A/X_train_observed.parquet')\n",
    "X_train_observed_b = pd.read_parquet('B/X_train_observed.parquet')\n",
    "X_train_observed_c = pd.read_parquet('C/X_train_observed.parquet')\n",
    "\n",
    "# Merge data\n",
    "X_all_a, y_all_a = add_clean_all(train_a, X_train_observed_a)\n",
    "X_all_b, y_all_b = add_clean_all(train_b, X_train_observed_b)\n",
    "X_all_c, y_all_c = add_clean_all(train_c, X_train_observed_c)\n",
    "\n",
    "X_all = pd.concat([X_all_a,X_all_b,X_all_c], axis = 0)\n",
    "y_all = pd.concat([y_all_a,y_all_b,y_all_c], axis = 0)"
   ]
  },
  {
   "cell_type": "markdown",
   "metadata": {},
   "source": [
    "### Preprocessing of data\n",
    "Notice that we for now have a whole block dedicated to preprocessing, but should rather be its own module."
   ]
  },
  {
   "cell_type": "code",
   "execution_count": 19,
   "metadata": {},
   "outputs": [
    {
     "ename": "KeyError",
     "evalue": "'derivative_pv_measurement'",
     "output_type": "error",
     "traceback": [
      "\u001b[1;31m---------------------------------------------------------------------------\u001b[0m",
      "\u001b[1;31mKeyError\u001b[0m                                  Traceback (most recent call last)",
      "File \u001b[1;32mc:\\Users\\amand\\anaconda3\\envs\\TDT4173\\Lib\\site-packages\\pandas\\core\\indexes\\base.py:3653\u001b[0m, in \u001b[0;36mIndex.get_loc\u001b[1;34m(self, key)\u001b[0m\n\u001b[0;32m   3652\u001b[0m \u001b[39mtry\u001b[39;00m:\n\u001b[1;32m-> 3653\u001b[0m     \u001b[39mreturn\u001b[39;00m \u001b[39mself\u001b[39;49m\u001b[39m.\u001b[39;49m_engine\u001b[39m.\u001b[39;49mget_loc(casted_key)\n\u001b[0;32m   3654\u001b[0m \u001b[39mexcept\u001b[39;00m \u001b[39mKeyError\u001b[39;00m \u001b[39mas\u001b[39;00m err:\n",
      "File \u001b[1;32mc:\\Users\\amand\\anaconda3\\envs\\TDT4173\\Lib\\site-packages\\pandas\\_libs\\index.pyx:147\u001b[0m, in \u001b[0;36mpandas._libs.index.IndexEngine.get_loc\u001b[1;34m()\u001b[0m\n",
      "File \u001b[1;32mc:\\Users\\amand\\anaconda3\\envs\\TDT4173\\Lib\\site-packages\\pandas\\_libs\\index.pyx:176\u001b[0m, in \u001b[0;36mpandas._libs.index.IndexEngine.get_loc\u001b[1;34m()\u001b[0m\n",
      "File \u001b[1;32mpandas\\_libs\\hashtable_class_helper.pxi:7080\u001b[0m, in \u001b[0;36mpandas._libs.hashtable.PyObjectHashTable.get_item\u001b[1;34m()\u001b[0m\n",
      "File \u001b[1;32mpandas\\_libs\\hashtable_class_helper.pxi:7088\u001b[0m, in \u001b[0;36mpandas._libs.hashtable.PyObjectHashTable.get_item\u001b[1;34m()\u001b[0m\n",
      "\u001b[1;31mKeyError\u001b[0m: 'derivative_pv_measurement'",
      "\nThe above exception was the direct cause of the following exception:\n",
      "\u001b[1;31mKeyError\u001b[0m                                  Traceback (most recent call last)",
      "\u001b[1;32mc:\\Users\\amand\\OneDrive - NTNU\\Documents\\NTNU_studier\\11.semester(YOLO)\\TDT4173-Machine-Learning-Solar-Energy-Production-Forecasting\\data\\cat_boost_delta_all_data.ipynb Cell 9\u001b[0m line \u001b[0;36m2\n\u001b[0;32m     <a href='vscode-notebook-cell:/c%3A/Users/amand/OneDrive%20-%20NTNU/Documents/NTNU_studier/11.semester%28YOLO%29/TDT4173-Machine-Learning-Solar-Energy-Production-Forecasting/data/cat_boost_delta_all_data.ipynb#X11sZmlsZQ%3D%3D?line=22'>23</a>\u001b[0m \u001b[39m# Additional features\u001b[39;00m\n\u001b[0;32m     <a href='vscode-notebook-cell:/c%3A/Users/amand/OneDrive%20-%20NTNU/Documents/NTNU_studier/11.semester%28YOLO%29/TDT4173-Machine-Learning-Solar-Energy-Production-Forecasting/data/cat_boost_delta_all_data.ipynb#X11sZmlsZQ%3D%3D?line=23'>24</a>\u001b[0m der_y \u001b[39m=\u001b[39m feat_gen\u001b[39m.\u001b[39mdifference_df(y, \u001b[39m\"\u001b[39m\u001b[39mtime\u001b[39m\u001b[39m\"\u001b[39m, [\u001b[39m\"\u001b[39m\u001b[39mpv_measurement\u001b[39m\u001b[39m\"\u001b[39m])\n\u001b[1;32m---> <a href='vscode-notebook-cell:/c%3A/Users/amand/OneDrive%20-%20NTNU/Documents/NTNU_studier/11.semester%28YOLO%29/TDT4173-Machine-Learning-Solar-Energy-Production-Forecasting/data/cat_boost_delta_all_data.ipynb#X11sZmlsZQ%3D%3D?line=24'>25</a>\u001b[0m der_y_shifted \u001b[39m=\u001b[39m feat_gen\u001b[39m.\u001b[39;49mshifted_values_24_h(der_y, \u001b[39m\"\u001b[39;49m\u001b[39mderivative_pv_measurement\u001b[39;49m\u001b[39m\"\u001b[39;49m)\n\u001b[0;32m     <a href='vscode-notebook-cell:/c%3A/Users/amand/OneDrive%20-%20NTNU/Documents/NTNU_studier/11.semester%28YOLO%29/TDT4173-Machine-Learning-Solar-Energy-Production-Forecasting/data/cat_boost_delta_all_data.ipynb#X11sZmlsZQ%3D%3D?line=25'>26</a>\u001b[0m \u001b[39m# y_shifted =  feat_gen.shifted_values_24_h(y, \"pv_measurement\")\u001b[39;00m\n\u001b[0;32m     <a href='vscode-notebook-cell:/c%3A/Users/amand/OneDrive%20-%20NTNU/Documents/NTNU_studier/11.semester%28YOLO%29/TDT4173-Machine-Learning-Solar-Energy-Production-Forecasting/data/cat_boost_delta_all_data.ipynb#X11sZmlsZQ%3D%3D?line=26'>27</a>\u001b[0m \n\u001b[0;32m     <a href='vscode-notebook-cell:/c%3A/Users/amand/OneDrive%20-%20NTNU/Documents/NTNU_studier/11.semester%28YOLO%29/TDT4173-Machine-Learning-Solar-Energy-Production-Forecasting/data/cat_boost_delta_all_data.ipynb#X11sZmlsZQ%3D%3D?line=27'>28</a>\u001b[0m \u001b[39m# # # Adding together the added features to one dataframe.\u001b[39;00m\n\u001b[1;32m   (...)\u001b[0m\n\u001b[0;32m     <a href='vscode-notebook-cell:/c%3A/Users/amand/OneDrive%20-%20NTNU/Documents/NTNU_studier/11.semester%28YOLO%29/TDT4173-Machine-Learning-Solar-Energy-Production-Forecasting/data/cat_boost_delta_all_data.ipynb#X11sZmlsZQ%3D%3D?line=51'>52</a>\u001b[0m \n\u001b[0;32m     <a href='vscode-notebook-cell:/c%3A/Users/amand/OneDrive%20-%20NTNU/Documents/NTNU_studier/11.semester%28YOLO%29/TDT4173-Machine-Learning-Solar-Energy-Production-Forecasting/data/cat_boost_delta_all_data.ipynb#X11sZmlsZQ%3D%3D?line=52'>53</a>\u001b[0m \u001b[39m# #X = SelectKBest(f_regression, k=12).fit_transform(X, y)\u001b[39;00m\n",
      "File \u001b[1;32mc:\\Users\\amand\\OneDrive - NTNU\\Documents\\NTNU_studier\\11.semester(YOLO)\\TDT4173-Machine-Learning-Solar-Energy-Production-Forecasting\\data\\feature_generation.py:166\u001b[0m, in \u001b[0;36mshifted_values_24_h\u001b[1;34m(y, measurement)\u001b[0m\n\u001b[0;32m    164\u001b[0m df \u001b[39m=\u001b[39m pd\u001b[39m.\u001b[39mDataFrame()\n\u001b[0;32m    165\u001b[0m \u001b[39mfor\u001b[39;00m i \u001b[39min\u001b[39;00m \u001b[39mrange\u001b[39m(\u001b[39m1\u001b[39m, \u001b[39m25\u001b[39m):\n\u001b[1;32m--> 166\u001b[0m     df[measurement \u001b[39m+\u001b[39m \u001b[39m'\u001b[39m\u001b[39mn-\u001b[39m\u001b[39m'\u001b[39m \u001b[39m+\u001b[39m \u001b[39mstr\u001b[39m(i)] \u001b[39m=\u001b[39m y[measurement]\u001b[39m.\u001b[39mshift(i)\n\u001b[0;32m    168\u001b[0m \u001b[39mreturn\u001b[39;00m df\n",
      "File \u001b[1;32mc:\\Users\\amand\\anaconda3\\envs\\TDT4173\\Lib\\site-packages\\pandas\\core\\frame.py:3761\u001b[0m, in \u001b[0;36mDataFrame.__getitem__\u001b[1;34m(self, key)\u001b[0m\n\u001b[0;32m   3759\u001b[0m \u001b[39mif\u001b[39;00m \u001b[39mself\u001b[39m\u001b[39m.\u001b[39mcolumns\u001b[39m.\u001b[39mnlevels \u001b[39m>\u001b[39m \u001b[39m1\u001b[39m:\n\u001b[0;32m   3760\u001b[0m     \u001b[39mreturn\u001b[39;00m \u001b[39mself\u001b[39m\u001b[39m.\u001b[39m_getitem_multilevel(key)\n\u001b[1;32m-> 3761\u001b[0m indexer \u001b[39m=\u001b[39m \u001b[39mself\u001b[39;49m\u001b[39m.\u001b[39;49mcolumns\u001b[39m.\u001b[39;49mget_loc(key)\n\u001b[0;32m   3762\u001b[0m \u001b[39mif\u001b[39;00m is_integer(indexer):\n\u001b[0;32m   3763\u001b[0m     indexer \u001b[39m=\u001b[39m [indexer]\n",
      "File \u001b[1;32mc:\\Users\\amand\\anaconda3\\envs\\TDT4173\\Lib\\site-packages\\pandas\\core\\indexes\\base.py:3655\u001b[0m, in \u001b[0;36mIndex.get_loc\u001b[1;34m(self, key)\u001b[0m\n\u001b[0;32m   3653\u001b[0m     \u001b[39mreturn\u001b[39;00m \u001b[39mself\u001b[39m\u001b[39m.\u001b[39m_engine\u001b[39m.\u001b[39mget_loc(casted_key)\n\u001b[0;32m   3654\u001b[0m \u001b[39mexcept\u001b[39;00m \u001b[39mKeyError\u001b[39;00m \u001b[39mas\u001b[39;00m err:\n\u001b[1;32m-> 3655\u001b[0m     \u001b[39mraise\u001b[39;00m \u001b[39mKeyError\u001b[39;00m(key) \u001b[39mfrom\u001b[39;00m \u001b[39merr\u001b[39;00m\n\u001b[0;32m   3656\u001b[0m \u001b[39mexcept\u001b[39;00m \u001b[39mTypeError\u001b[39;00m:\n\u001b[0;32m   3657\u001b[0m     \u001b[39m# If we have a listlike key, _check_indexing_error will raise\u001b[39;00m\n\u001b[0;32m   3658\u001b[0m     \u001b[39m#  InvalidIndexError. Otherwise we fall through and re-raise\u001b[39;00m\n\u001b[0;32m   3659\u001b[0m     \u001b[39m#  the TypeError.\u001b[39;00m\n\u001b[0;32m   3660\u001b[0m     \u001b[39mself\u001b[39m\u001b[39m.\u001b[39m_check_indexing_error(key)\n",
      "\u001b[1;31mKeyError\u001b[0m: 'derivative_pv_measurement'"
     ]
    }
   ],
   "source": [
    "# X_train_estimated_a = X_train_estimated_a.drop(\"date_calc\", axis = 1)\n",
    "\n",
    "X = X_all #pd.concat([X_train_observed_a, X_train_estimated_a], axis = 0, ignore_index=True)\n",
    "\n",
    "# Extract necesarry values for feature generation.\n",
    "timestamps = \"date_forecast\"\n",
    "measurements = list(X.columns.values)\n",
    "measurements.remove(timestamps)\n",
    "\n",
    "# Probable features that may be used\n",
    "der_df = feat_gen.difference_df(X, timestamps, measurements)\n",
    "dder_df = feat_gen.double_derivative_from_df(X, timestamps, measurements)\n",
    "int_df = feat_gen.daily_accumulated_val_df(X, timestamps, measurements)\n",
    "dint_df = feat_gen.daily_accumulated_val_squared_df(X, timestamps, measurements)\n",
    "time_df = feat_gen.time_data_from_df(X, timestamps)\n",
    "\n",
    "# Concatenate the DataFrames\n",
    "X = pd.concat([X, der_df, dder_df, int_df, dint_df, time_df], axis=\"columns\")\n",
    "\n",
    "# Defind y\n",
    "y = y_all\n",
    "\n",
    "# Additional features\n",
    "der_y = feat_gen.difference_df(y, \"time\", [\"pv_measurement\"])\n",
    "der_y_shifted = feat_gen.shifted_values_24_h(der_y, \"derivative_pv_measurement\")\n",
    "# y_shifted =  feat_gen.shifted_values_24_h(y, \"pv_measurement\")\n",
    "\n",
    "# # # Adding together the added features to one dataframe.\n",
    "# y_BIG = pd.concat([y, der_y, der_y_shifted, y_shifted])\n",
    "\n",
    "\n",
    "# # Making sure that the two dataframes match in length.\n",
    "# y_BIG, X = dat_proc.data_length_matching(y_BIG, X)\n",
    "\n",
    "# # Get our desired output\n",
    "# y = y_BIG[\"derivative_pv_measurement\"]\n",
    "# y.info()\n",
    "# y = y.reset_index(drop = True)\n",
    "\n",
    "# # Removing datetime object column\n",
    "# y_features = y_BIG.drop('pv_measurement', axis=1)\n",
    "# y_features = y_features.drop('derivative_pv_measurement', axis=1)\n",
    "# # y_features = y_features.drop('time', axis=1)\n",
    "# y_features = y_features.reset_index(drop = True)\n",
    "\n",
    "# # Removing datetime object column\n",
    "# X = X.reset_index(drop = True)\n",
    "# X = X.drop(timestamps, axis=1)\n",
    "\n",
    "# X = pd.concat([X, y_features], axis = \"columns\")\n",
    "# X = pd.concat([X, y_BIG], axis = \"columns\")\n",
    "\n",
    "# #X = SelectKBest(f_regression, k=12).fit_transform(X, y)"
   ]
  },
  {
   "cell_type": "code",
   "execution_count": null,
   "metadata": {},
   "outputs": [
    {
     "ename": "NameError",
     "evalue": "name 'y_BIG' is not defined",
     "output_type": "error",
     "traceback": [
      "\u001b[1;31m---------------------------------------------------------------------------\u001b[0m",
      "\u001b[1;31mNameError\u001b[0m                                 Traceback (most recent call last)",
      "\u001b[1;32mc:\\Users\\amand\\OneDrive - NTNU\\Documents\\NTNU_studier\\11.semester(YOLO)\\TDT4173-Machine-Learning-Solar-Energy-Production-Forecasting\\data\\cat_boost_delta_all_data.ipynb Cell 10\u001b[0m line \u001b[0;36m1\n\u001b[1;32m----> <a href='vscode-notebook-cell:/c%3A/Users/amand/OneDrive%20-%20NTNU/Documents/NTNU_studier/11.semester%28YOLO%29/TDT4173-Machine-Learning-Solar-Energy-Production-Forecasting/data/cat_boost_delta_all_data.ipynb#X33sZmlsZQ%3D%3D?line=0'>1</a>\u001b[0m \u001b[39mprint\u001b[39m(y_BIG\u001b[39m.\u001b[39mcolumns\u001b[39m.\u001b[39mvalues)\n",
      "\u001b[1;31mNameError\u001b[0m: name 'y_BIG' is not defined"
     ]
    }
   ],
   "source": [
    "print(y_BIG.columns.values)"
   ]
  },
  {
   "cell_type": "code",
   "execution_count": null,
   "metadata": {},
   "outputs": [
    {
     "name": "stderr",
     "output_type": "stream",
     "text": [
      "c:\\Users\\isakasa\\AppData\\Local\\anaconda3\\envs\\basic_machine_learning\\Lib\\site-packages\\sklearn\\preprocessing\\_data.py:480: RuntimeWarning: All-NaN slice encountered\n",
      "  data_min = np.nanmin(X, axis=0)\n",
      "c:\\Users\\isakasa\\AppData\\Local\\anaconda3\\envs\\basic_machine_learning\\Lib\\site-packages\\sklearn\\preprocessing\\_data.py:481: RuntimeWarning: All-NaN slice encountered\n",
      "  data_max = np.nanmax(X, axis=0)\n"
     ]
    }
   ],
   "source": [
    "# DO we get a day or the \n",
    "X_train, X_test, y_train, y_test=train_test_split(X, y, test_size=0.15, shuffle=False)\n",
    "\n",
    "scaler = MinMaxScaler()\n",
    "\n",
    "# Fit and transform the data\n",
    "X_train = scaler.fit_transform(X_train)\n",
    "X_test = scaler.transform(X_test)"
   ]
  },
  {
   "cell_type": "markdown",
   "metadata": {},
   "source": [
    "## AI Training: CatBoost\n"
   ]
  },
  {
   "cell_type": "code",
   "execution_count": null,
   "metadata": {},
   "outputs": [
    {
     "ename": "CatBoostError",
     "evalue": "C:/Go_Agent/pipelines/BuildMaster/catboost.git/catboost/libs/metrics/metric.cpp:6547: metric/loss-function RMSE do not allows nan value on target",
     "output_type": "error",
     "traceback": [
      "\u001b[1;31m---------------------------------------------------------------------------\u001b[0m",
      "\u001b[1;31mCatBoostError\u001b[0m                             Traceback (most recent call last)",
      "\u001b[1;32mc:\\Users\\isakasa\\OneDrive - NTNU\\Documents\\UNI\\TDT4173 Machine Learning\\group-project\\TDT4173-Machine-Learning-Solar-Energy-Production-Forecasting\\data\\cat_boost_delta_A.ipynb Cell 11\u001b[0m line \u001b[0;36m1\n\u001b[0;32m      <a href='vscode-notebook-cell:/c%3A/Users/isakasa/OneDrive%20-%20NTNU/Documents/UNI/TDT4173%20Machine%20Learning/group-project/TDT4173-Machine-Learning-Solar-Energy-Production-Forecasting/data/cat_boost_delta_A.ipynb#X13sZmlsZQ%3D%3D?line=3'>4</a>\u001b[0m model \u001b[39m=\u001b[39m cb\u001b[39m.\u001b[39mCatBoostRegressor(loss_function\u001b[39m=\u001b[39m\u001b[39m\"\u001b[39m\u001b[39mRMSE\u001b[39m\u001b[39m\"\u001b[39m, logging_level\u001b[39m=\u001b[39m\u001b[39m'\u001b[39m\u001b[39mSilent\u001b[39m\u001b[39m'\u001b[39m)\n\u001b[0;32m      <a href='vscode-notebook-cell:/c%3A/Users/isakasa/OneDrive%20-%20NTNU/Documents/UNI/TDT4173%20Machine%20Learning/group-project/TDT4173-Machine-Learning-Solar-Energy-Production-Forecasting/data/cat_boost_delta_A.ipynb#X13sZmlsZQ%3D%3D?line=5'>6</a>\u001b[0m grid \u001b[39m=\u001b[39m {\u001b[39m'\u001b[39m\u001b[39miterations\u001b[39m\u001b[39m'\u001b[39m: [\u001b[39m100\u001b[39m, \u001b[39m150\u001b[39m, \u001b[39m200\u001b[39m],\n\u001b[0;32m      <a href='vscode-notebook-cell:/c%3A/Users/isakasa/OneDrive%20-%20NTNU/Documents/UNI/TDT4173%20Machine%20Learning/group-project/TDT4173-Machine-Learning-Solar-Energy-Production-Forecasting/data/cat_boost_delta_A.ipynb#X13sZmlsZQ%3D%3D?line=6'>7</a>\u001b[0m         \u001b[39m'\u001b[39m\u001b[39mlearning_rate\u001b[39m\u001b[39m'\u001b[39m: [\u001b[39m0.03\u001b[39m, \u001b[39m0.1\u001b[39m],\n\u001b[0;32m      <a href='vscode-notebook-cell:/c%3A/Users/isakasa/OneDrive%20-%20NTNU/Documents/UNI/TDT4173%20Machine%20Learning/group-project/TDT4173-Machine-Learning-Solar-Energy-Production-Forecasting/data/cat_boost_delta_A.ipynb#X13sZmlsZQ%3D%3D?line=7'>8</a>\u001b[0m         \u001b[39m'\u001b[39m\u001b[39mdepth\u001b[39m\u001b[39m'\u001b[39m: [\u001b[39m2\u001b[39m, \u001b[39m4\u001b[39m, \u001b[39m6\u001b[39m, \u001b[39m8\u001b[39m],\n\u001b[0;32m      <a href='vscode-notebook-cell:/c%3A/Users/isakasa/OneDrive%20-%20NTNU/Documents/UNI/TDT4173%20Machine%20Learning/group-project/TDT4173-Machine-Learning-Solar-Energy-Production-Forecasting/data/cat_boost_delta_A.ipynb#X13sZmlsZQ%3D%3D?line=8'>9</a>\u001b[0m         \u001b[39m'\u001b[39m\u001b[39ml2_leaf_reg\u001b[39m\u001b[39m'\u001b[39m: [\u001b[39m0.2\u001b[39m, \u001b[39m0.5\u001b[39m, \u001b[39m1\u001b[39m, \u001b[39m3\u001b[39m]}\n\u001b[1;32m---> <a href='vscode-notebook-cell:/c%3A/Users/isakasa/OneDrive%20-%20NTNU/Documents/UNI/TDT4173%20Machine%20Learning/group-project/TDT4173-Machine-Learning-Solar-Energy-Production-Forecasting/data/cat_boost_delta_A.ipynb#X13sZmlsZQ%3D%3D?line=9'>10</a>\u001b[0m model\u001b[39m.\u001b[39;49mgrid_search(grid, train_dataset, verbose\u001b[39m=\u001b[39;49m\u001b[39mFalse\u001b[39;49;00m)\n\u001b[0;32m     <a href='vscode-notebook-cell:/c%3A/Users/isakasa/OneDrive%20-%20NTNU/Documents/UNI/TDT4173%20Machine%20Learning/group-project/TDT4173-Machine-Learning-Solar-Energy-Production-Forecasting/data/cat_boost_delta_A.ipynb#X13sZmlsZQ%3D%3D?line=12'>13</a>\u001b[0m pred \u001b[39m=\u001b[39m model\u001b[39m.\u001b[39mpredict(X_test)\n\u001b[0;32m     <a href='vscode-notebook-cell:/c%3A/Users/isakasa/OneDrive%20-%20NTNU/Documents/UNI/TDT4173%20Machine%20Learning/group-project/TDT4173-Machine-Learning-Solar-Energy-Production-Forecasting/data/cat_boost_delta_A.ipynb#X13sZmlsZQ%3D%3D?line=13'>14</a>\u001b[0m mae \u001b[39m=\u001b[39m (mean_absolute_error(y_test, pred))\n",
      "File \u001b[1;32mc:\\Users\\isakasa\\AppData\\Local\\anaconda3\\envs\\basic_machine_learning\\Lib\\site-packages\\catboost\\core.py:4086\u001b[0m, in \u001b[0;36mCatBoost.grid_search\u001b[1;34m(self, param_grid, X, y, cv, partition_random_seed, calc_cv_statistics, search_by_train_test_split, refit, shuffle, stratified, train_size, verbose, plot, plot_file, log_cout, log_cerr)\u001b[0m\n\u001b[0;32m   4083\u001b[0m         \u001b[39mif\u001b[39;00m \u001b[39mnot\u001b[39;00m \u001b[39misinstance\u001b[39m(grid[key], Iterable):\n\u001b[0;32m   4084\u001b[0m             \u001b[39mraise\u001b[39;00m \u001b[39mTypeError\u001b[39;00m(\u001b[39m'\u001b[39m\u001b[39mParameter grid value is not iterable (key=\u001b[39m\u001b[39m{!r}\u001b[39;00m\u001b[39m, value=\u001b[39m\u001b[39m{!r}\u001b[39;00m\u001b[39m)\u001b[39m\u001b[39m'\u001b[39m\u001b[39m.\u001b[39mformat(key, grid[key]))\n\u001b[1;32m-> 4086\u001b[0m \u001b[39mreturn\u001b[39;00m \u001b[39mself\u001b[39;49m\u001b[39m.\u001b[39;49m_tune_hyperparams(\n\u001b[0;32m   4087\u001b[0m     param_grid\u001b[39m=\u001b[39;49mparam_grid, X\u001b[39m=\u001b[39;49mX, y\u001b[39m=\u001b[39;49my, cv\u001b[39m=\u001b[39;49mcv, n_iter\u001b[39m=\u001b[39;49m\u001b[39m-\u001b[39;49m\u001b[39m1\u001b[39;49m,\n\u001b[0;32m   4088\u001b[0m     partition_random_seed\u001b[39m=\u001b[39;49mpartition_random_seed, calc_cv_statistics\u001b[39m=\u001b[39;49mcalc_cv_statistics,\n\u001b[0;32m   4089\u001b[0m     search_by_train_test_split\u001b[39m=\u001b[39;49msearch_by_train_test_split, refit\u001b[39m=\u001b[39;49mrefit, shuffle\u001b[39m=\u001b[39;49mshuffle,\n\u001b[0;32m   4090\u001b[0m     stratified\u001b[39m=\u001b[39;49mstratified, train_size\u001b[39m=\u001b[39;49mtrain_size, verbose\u001b[39m=\u001b[39;49mverbose, plot\u001b[39m=\u001b[39;49mplot, plot_file\u001b[39m=\u001b[39;49mplot_file,\n\u001b[0;32m   4091\u001b[0m     log_cout\u001b[39m=\u001b[39;49mlog_cout, log_cerr\u001b[39m=\u001b[39;49mlog_cerr,\n\u001b[0;32m   4092\u001b[0m )\n",
      "File \u001b[1;32mc:\\Users\\isakasa\\AppData\\Local\\anaconda3\\envs\\basic_machine_learning\\Lib\\site-packages\\catboost\\core.py:3980\u001b[0m, in \u001b[0;36mCatBoost._tune_hyperparams\u001b[1;34m(self, param_grid, X, y, cv, n_iter, partition_random_seed, calc_cv_statistics, search_by_train_test_split, refit, shuffle, stratified, train_size, verbose, plot, plot_file, log_cout, log_cerr)\u001b[0m\n\u001b[0;32m   3977\u001b[0m     stratified \u001b[39m=\u001b[39m \u001b[39misinstance\u001b[39m(loss_function, STRING_TYPES) \u001b[39mand\u001b[39;00m is_cv_stratified_objective(loss_function)\n\u001b[0;32m   3979\u001b[0m \u001b[39mwith\u001b[39;00m log_fixup(log_cout, log_cerr), plot_wrapper(plot, plot_file, \u001b[39m'\u001b[39m\u001b[39mHyperparameters search plot\u001b[39m\u001b[39m'\u001b[39m, [_get_train_dir(params)]):\n\u001b[1;32m-> 3980\u001b[0m     cv_result \u001b[39m=\u001b[39m \u001b[39mself\u001b[39;49m\u001b[39m.\u001b[39;49m_object\u001b[39m.\u001b[39;49m_tune_hyperparams(\n\u001b[0;32m   3981\u001b[0m         param_grid, train_params[\u001b[39m\"\u001b[39;49m\u001b[39mtrain_pool\u001b[39;49m\u001b[39m\"\u001b[39;49m], params, n_iter,\n\u001b[0;32m   3982\u001b[0m         fold_count, partition_random_seed, shuffle, stratified, train_size,\n\u001b[0;32m   3983\u001b[0m         search_by_train_test_split, calc_cv_statistics, custom_folds, verbose\n\u001b[0;32m   3984\u001b[0m     )\n\u001b[0;32m   3986\u001b[0m \u001b[39mif\u001b[39;00m refit:\n\u001b[0;32m   3987\u001b[0m     \u001b[39massert\u001b[39;00m \u001b[39mnot\u001b[39;00m \u001b[39mself\u001b[39m\u001b[39m.\u001b[39mis_fitted()\n",
      "File \u001b[1;32m_catboost.pyx:5149\u001b[0m, in \u001b[0;36m_catboost._CatBoost._tune_hyperparams\u001b[1;34m()\u001b[0m\n",
      "File \u001b[1;32m_catboost.pyx:5187\u001b[0m, in \u001b[0;36m_catboost._CatBoost._tune_hyperparams\u001b[1;34m()\u001b[0m\n",
      "\u001b[1;31mCatBoostError\u001b[0m: C:/Go_Agent/pipelines/BuildMaster/catboost.git/catboost/libs/metrics/metric.cpp:6547: metric/loss-function RMSE do not allows nan value on target"
     ]
    }
   ],
   "source": [
    "\n",
    "train_dataset = cb.Pool(X_train, y_train) \n",
    "test_dataset = cb.Pool(X_test, y_test)\n",
    "\n",
    "model = cb.CatBoostRegressor(loss_function=\"RMSE\", logging_level='Silent')\n",
    "\n",
    "grid = {'iterations': [100, 150, 200],\n",
    "        'learning_rate': [0.03, 0.1],\n",
    "        'depth': [2, 4, 6, 8],\n",
    "        'l2_leaf_reg': [0.2, 0.5, 1, 3]}\n",
    "model.grid_search(grid, train_dataset, verbose=False)\n",
    "\n",
    "\n",
    "pred = model.predict(X_test)\n",
    "mae = (mean_absolute_error(y_test, pred))\n",
    "r2 = r2_score(y_test, pred)\n",
    "print(\"Testing performance\")\n",
    "print(\"Mean Abs: {:.2f}\".format(mae))\n",
    "print(\"R2: {:.2f}\".format(r2))\n",
    "\n"
   ]
  },
  {
   "cell_type": "code",
   "execution_count": null,
   "metadata": {},
   "outputs": [
    {
     "name": "stdout",
     "output_type": "stream",
     "text": [
      "[('10', 20.675976748743423), ('4', 5.717517993130504), ('11', 4.450502567659519), ('8', 3.4095005018847004), ('9', 3.3269370092606416), ('36', 2.9411478427345803), ('56', 2.348280724512728), ('42', 2.173713934079064), ('227', 1.8999966663240988), ('55', 1.6735082211569492), ('178', 1.5729719537899434), ('173', 1.4996321670916388), ('100', 1.4971057435262434), ('80', 1.4647239818262547), ('204', 1.2149372391273856), ('3', 1.1593922347524483), ('101', 1.1499454239386908), ('48', 1.1177603603338644), ('2', 1.096297169023833), ('7', 1.0855219816659136), ('225', 1.0854749634065948), ('0', 1.0477856072687945), ('214', 0.9517544833579291), ('172', 0.943220960884357), ('140', 0.8336230531782166), ('5', 0.7888815978357957), ('39', 0.7811396042950445), ('25', 0.7739278881245186), ('200', 0.7631341092171996), ('222', 0.7599256108439204), ('38', 0.7468332987715831), ('29', 0.6799132812409796), ('53', 0.663968129425512), ('185', 0.6614300683231882), ('24', 0.6441616472750528), ('223', 0.6226501827612972), ('202', 0.5930570155392716), ('54', 0.5632873294770913), ('99', 0.5621600995221038), ('217', 0.5473898287138022), ('41', 0.5459454303777916), ('186', 0.5427930540747045), ('98', 0.5346292014177082), ('221', 0.5084899740952061), ('176', 0.49016092333117395), ('40', 0.4823969738640035), ('1', 0.4682843806377594), ('21', 0.4675833972945018), ('177', 0.4628897554751933), ('155', 0.4611019701618111), ('125', 0.4302867372496101), ('93', 0.43011645990580283), ('43', 0.4157275284497363), ('174', 0.4100752371803295), ('182', 0.4076689779462672), ('22', 0.39769167768727226), ('28', 0.39082064960078977), ('47', 0.38658086591641805), ('169', 0.37273891891759997), ('226', 0.3635715311436287), ('94', 0.3495229015319004), ('139', 0.3489775615473402), ('210', 0.34853975672547144), ('12', 0.34511858179555494), ('175', 0.34408528974998237), ('220', 0.33460008329217783), ('180', 0.327151747019009), ('157', 0.3204889447948215), ('190', 0.3168171368229375), ('50', 0.31498540738661185), ('215', 0.3082731042222576), ('49', 0.3018901415614913), ('137', 0.29038886588230073), ('205', 0.27840996279099045), ('192', 0.2745824249821926), ('23', 0.2684609676577959), ('181', 0.2599322869664577), ('111', 0.25736512595210975), ('46', 0.24495377482946043), ('206', 0.23664267376187273), ('158', 0.23420787897189815), ('118', 0.22612830348528606), ('143', 0.223141643453104), ('95', 0.222244285087444), ('37', 0.21861635823159428), ('142', 0.2181911746039608), ('35', 0.21781095483730806), ('70', 0.21575583651477734), ('92', 0.21124007381656135), ('188', 0.20849256955047732), ('135', 0.20815117549097803), ('83', 0.20685482802309174), ('208', 0.19758309024664936), ('138', 0.18629976315672436), ('207', 0.1763516336884508), ('147', 0.1698906776641961), ('218', 0.16932358873438683), ('219', 0.1623295736688156), ('128', 0.1551896090374419), ('73', 0.14890082331145857)]\n",
      "direct_rad:W\n",
      "clear_sky_rad:W\n",
      "direct_rad_1h:J\n",
      "diffuse_rad:W\n",
      "diffuse_rad_1h:J\n",
      "sun_elevation:d\n",
      "derivative_direct_rad_1h:J\n",
      "wind_speed_u_10m:ms\n",
      "year\n",
      "derivative_direct_rad:W\n",
      "integral_wind_speed_v_10m:ms\n",
      "integral_t_1000hPa:K\n",
      "double_derivative_direct_rad:W\n",
      "derivative_sun_azimuth:d\n",
      "double_integral_pressure_100m:hPa\n",
      "clear_sky_energy_1h:J\n",
      "double_derivative_direct_rad_1h:J\n",
      "derivative_clear_sky_energy_1h:J\n",
      "ceiling_height_agl:m\n",
      "dew_point_2m:K\n",
      "day_of_year\n",
      "absolute_humidity_2m:gm3\n",
      "double_integral_snow_water:kgm2\n",
      "integral_super_cooled_liquid_water:kgm2\n",
      "integral_cloud_base_agl:m\n",
      "cloud_base_agl:m\n",
      "total_cloud_cover:p\n",
      "pressure_50m:hPa\n",
      "double_integral_is_in_shadow:idx\n",
      "double_integral_wind_speed_u_10m:ms\n",
      "t_1000hPa:K\n",
      "sfc_pressure:hPa\n",
      "derivative_diffuse_rad:W\n",
      "double_integral_cloud_base_agl:m\n",
      "pressure_100m:hPa\n",
      "double_integral_wind_speed_v_10m:ms\n",
      "double_integral_precip_5min:mm\n",
      "derivative_diffuse_rad_1h:J\n",
      "double_derivative_diffuse_rad_1h:J\n",
      "double_integral_super_cooled_liquid_water:kgm2\n",
      "wind_speed_10m:ms\n",
      "double_integral_dew_or_rime:idx\n",
      "double_derivative_diffuse_rad:W\n",
      "double_integral_wind_speed_10m:ms\n",
      "integral_wind_speed_10m:ms\n",
      "visibility:m\n",
      "air_density_2m:kgm3\n",
      "msl_pressure:hPa\n",
      "integral_wind_speed_u_10m:ms\n",
      "integral_is_in_shadow:idx\n",
      "double_derivative_sun_azimuth:d\n",
      "double_derivative_clear_sky_energy_1h:J\n",
      "wind_speed_v_10m:ms\n",
      "integral_total_cloud_cover:p\n",
      "double_integral_ceiling_height_agl:m\n",
      "precip_5min:mm\n",
      "relative_humidity_1000hPa:p\n",
      "derivative_ceiling_height_agl:m\n",
      "integral_snow_water:kgm2\n",
      "month\n",
      "double_derivative_clear_sky_rad:W\n",
      "integral_clear_sky_rad:W\n",
      "double_integral_snow_density:kgm3\n",
      "effective_cloud_cover:p\n",
      "integral_visibility:m\n",
      "double_integral_visibility:m\n",
      "double_integral_absolute_humidity_2m:gm3\n",
      "integral_precip_5min:mm\n",
      "double_integral_direct_rad:W\n",
      "derivative_cloud_base_agl:m\n",
      "double_integral_sun_azimuth:d\n",
      "derivative_clear_sky_rad:W\n",
      "integral_ceiling_height_agl:m\n",
      "double_integral_pressure_50m:hPa\n",
      "double_integral_effective_cloud_cover:p\n",
      "precip_type_5min:idx\n",
      "double_integral_air_density_2m:kgm3\n",
      "double_derivative_msl_pressure:hPa\n",
      "derivative_air_density_2m:kgm3\n",
      "double_integral_prob_rime:p\n",
      "integral_precip_type_5min:idx\n",
      "double_derivative_relative_humidity_1000hPa:p\n",
      "integral_diffuse_rad:W\n",
      "double_derivative_cloud_base_agl:m\n",
      "super_cooled_liquid_water:kgm2\n",
      "integral_dew_point_2m:K\n",
      "sun_azimuth:d\n",
      "derivative_pressure_50m:hPa\n",
      "double_derivative_ceiling_height_agl:m\n",
      "double_integral_diffuse_rad:W\n",
      "integral_absolute_humidity_2m:gm3\n",
      "derivative_t_1000hPa:K\n",
      "double_integral_relative_humidity_1000hPa:p\n",
      "integral_clear_sky_energy_1h:J\n",
      "double_integral_rain_water:kgm2\n",
      "integral_effective_cloud_cover:p\n",
      "double_integral_t_1000hPa:K\n",
      "double_integral_total_cloud_cover:p\n",
      "double_derivative_t_1000hPa:K\n",
      "derivative_relative_humidity_1000hPa:p\n"
     ]
    }
   ],
   "source": [
    "N = 100\n",
    "\n",
    "feature_importance = model.get_feature_importance()\n",
    "\n",
    "# Pair feature names with their importance scores\n",
    "feature_importance_dict = dict(zip(model.feature_names_, feature_importance))\n",
    "\n",
    "# Sort features by importance\n",
    "sorted_feature_importance = sorted(feature_importance_dict.items(), key=lambda x: x[1], reverse=True)\n",
    "\n",
    "# Print or use the top features\n",
    "top_features = sorted_feature_importance[:N]  # Replace N with the number of top features you want\n",
    "print(top_features)\n",
    "labels = list(X.columns.values)\n",
    "\n",
    "for feat in top_features:\n",
    "    print(labels[int(feat[0])])\n"
   ]
  },
  {
   "cell_type": "markdown",
   "metadata": {},
   "source": [
    "### Plotting\n",
    "Adding a set of plotts to see how well the machine-learning model performs graphically.\n",
    "\n",
    "TODO: We should probably plot the data-values that perform the worst."
   ]
  },
  {
   "cell_type": "code",
   "execution_count": null,
   "metadata": {},
   "outputs": [
    {
     "data": {
      "image/png": "[encoded data removed]",
      "text/plain": [
       "<Figure size 640x480 with 1 Axes>"
      ]
     },
     "metadata": {},
     "output_type": "display_data"
    }
   ],
   "source": [
    "\n",
    "\n",
    "x_ax = range(48)\n",
    "plt.scatter(x_ax, y_test[0:48], s=5, color=\"blue\", label=\"original\")\n",
    "plt.plot(x_ax, pred[0:48], lw=0.8, color=\"red\", label=\"predicted\")\n",
    "\n",
    "plt.legend()\n",
    "plt.show()\n"
   ]
  },
  {
   "cell_type": "markdown",
   "metadata": {},
   "source": []
  }
 ],
 "metadata": {
  "kernelspec": {
   "display_name": "basic_machine_learning",
   "language": "python",
   "name": "python3"
  },
  "language_info": {
   "codemirror_mode": {
    "name": "ipython",
    "version": 3
   },
   "file_extension": ".py",
   "mimetype": "text/x-python",
   "name": "python",
   "nbconvert_exporter": "python",
   "pygments_lexer": "ipython3",
   "version": "3.11.5"
  },
  "orig_nbformat": 4
 },
 "nbformat": 4,
 "nbformat_minor": 2
}
