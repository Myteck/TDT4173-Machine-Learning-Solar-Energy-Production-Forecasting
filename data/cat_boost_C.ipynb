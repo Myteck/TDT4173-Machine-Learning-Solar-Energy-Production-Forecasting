{
 "cells": [
  {
   "cell_type": "markdown",
   "metadata": {},
   "source": [
    "#  Cat Boost\n",
    "\n",
    "The aim of this notebook is to try out XG-boost on our optimization problem. There is also some ideas and concepts that will overlap with other machine learning models. Some novel ideas related to the preprocessing step is in this file, but SHOULD be moved to a dedicated pre-processing library to make the puipeline easier to work with.\n",
    "\n",
    "*TODO: Create a preprocessing library*"
   ]
  },
  {
   "cell_type": "markdown",
   "metadata": {},
   "source": [
    "### Import the needed libraries"
   ]
  },
  {
   "cell_type": "code",
   "execution_count": 1,
   "metadata": {},
   "outputs": [],
   "source": [
    "\n",
    "# First we will extract the data, and save it to a csv.\n",
    "\n",
    "# Machine Learning Model\n",
    "import catboost as cb\n",
    "\n",
    "# Data Processing Tools\n",
    "import numpy as np\n",
    "import pandas as pd\n",
    "import seaborn as sns\n",
    "\n",
    "# Data Display Tools\n",
    "import matplotlib.pyplot as plt\n",
    "\n",
    "# Machine Learning Tools\n",
    "from sklearn.model_selection import train_test_split\n",
    "from sklearn.metrics import mean_absolute_error\n",
    "from sklearn.metrics import r2_score\n",
    "from sklearn.inspection import permutation_importance\n",
    "from sklearn.feature_selection import SelectKBest\n",
    "from sklearn.preprocessing import MinMaxScaler\n",
    "\n",
    "from sklearn.feature_selection import f_regression\n",
    "\n",
    "import feature_generation as feat_gen\n",
    "import data_processing as dat_proc\n",
    "import data_pipeline as data_pipe\n",
    "\n",
    "%matplotlib inline\n",
    "\n"
   ]
  },
  {
   "cell_type": "markdown",
   "metadata": {},
   "source": [
    "### Extract data"
   ]
  },
  {
   "cell_type": "code",
   "execution_count": 2,
   "metadata": {},
   "outputs": [],
   "source": [
    "train_a = pd.read_parquet('C/train_targets.parquet')\n",
    "X_train_estimated_a = pd.read_parquet('C/X_train_estimated.parquet')\n",
    "X_train_observed_a = pd.read_parquet('C/X_train_observed.parquet')\n",
    "X_test_estimated_a = pd.read_parquet('C/X_test_estimated.parquet')\n",
    "\n",
    "X_pred = X_test_estimated_a\n"
   ]
  },
  {
   "cell_type": "markdown",
   "metadata": {},
   "source": [
    "### Preprocessing of data\n",
    "Notice that we for now have a whole block dedicated to preprocessing, but should rather be its own module."
   ]
  },
  {
   "cell_type": "code",
   "execution_count": 3,
   "metadata": {},
   "outputs": [],
   "source": [
    "y = train_a.dropna()\n",
    "X_train_estimated_a = X_train_estimated_a.drop(\"date_calc\", axis = 1)\n",
    "\n",
    "X = pd.concat([X_train_observed_a, X_train_estimated_a], axis = 0, ignore_index=True)\n",
    "X, y= data_pipe.train_data_processing(X, y)"
   ]
  },
  {
   "cell_type": "code",
   "execution_count": 4,
   "metadata": {},
   "outputs": [
    {
     "name": "stdout",
     "output_type": "stream",
     "text": [
      "   double_derivative_absolute_humidity_2m:gm3_dd  \\\n",
      "0                                            0.0   \n",
      "1                                            0.0   \n",
      "2                                            0.0   \n",
      "3                                            0.0   \n",
      "\n",
      "   double_derivative_air_density_2m:kgm3_dd  \\\n",
      "0                                  0.000000   \n",
      "1                                  0.000000   \n",
      "2                                 -0.000004   \n",
      "3                                  0.000004   \n",
      "\n",
      "   double_derivative_ceiling_height_agl:m_dd  \n",
      "0                                  -0.076000  \n",
      "1                                  -0.076889  \n",
      "2                                  -0.078222  \n",
      "3                                  -0.079556  \n"
     ]
    }
   ],
   "source": [
    "print(X[['double_derivative_absolute_humidity_2m:gm3_dd',\n",
    "       'double_derivative_air_density_2m:kgm3_dd',\n",
    "       'double_derivative_ceiling_height_agl:m_dd']].head(4))\n",
    "\n",
    "# DO we get a day or the \n",
    "X_train, X_test, y_train, y_test=train_test_split(X, y, test_size=0.15, shuffle=True)\n",
    "\n",
    "scaler = MinMaxScaler()\n",
    "\n",
    "# Fit and transform the data\n",
    "X_train = scaler.fit_transform(X_train)\n",
    "X_test = scaler.transform(X_test)"
   ]
  },
  {
   "cell_type": "markdown",
   "metadata": {},
   "source": [
    "## AI Training: CatBoost\n"
   ]
  },
  {
   "cell_type": "code",
   "execution_count": 5,
   "metadata": {},
   "outputs": [],
   "source": [
    "\n",
    "train_dataset = cb.Pool(X_train, y_train) \n",
    "test_dataset = cb.Pool(X_test, y_test)\n",
    "\n",
    "model = cb.CatBoostRegressor(loss_function=\"MAE\", logging_level='Silent')\n",
    "\n",
    "grid = {'iterations': [100, 150, 200],\n",
    "        'learning_rate': [0.03, 0.1],\n",
    "        'depth': [2, 4, 6, 8],\n",
    "        'l2_leaf_reg': [0.2, 0.5, 1, 3]}\n",
    "model.grid_search(grid, train_dataset, verbose=False)\n",
    "\n",
    "\n",
    "pred = model.predict(X_test)\n",
    "mae = (mean_absolute_error(y_test, pred))\n",
    "r2 = r2_score(y_test, pred)\n",
    "print(\"Testing performance\")\n",
    "print(\"Mean Abs: {:.2f}\".format(mae))\n",
    "print(\"R2: {:.2f}\".format(r2))\n",
    "\n"
   ]
  },
  {
   "cell_type": "code",
   "execution_count": null,
   "metadata": {},
   "outputs": [
    {
     "name": "stdout",
     "output_type": "stream",
     "text": [
      "[('10', 21.36734616770574), ('36', 10.047221816276178), ('4', 7.691038955144018), ('11', 6.953574631016531), ('3', 3.9906273619339316), ('8', 3.319213102566903), ('181', 2.5307595599212123), ('174', 2.43216123838658), ('192', 2.3426277842823255), ('12', 2.0713393389025256), ('39', 2.050583045254787), ('184', 1.4310104371205685), ('169', 1.4141291705938464), ('80', 1.3651154842687006), ('148', 1.3634405653960882), ('53', 1.2412110226438784), ('81', 0.9985036562041831), ('159', 0.9778008316466944), ('200', 0.9440483640790077), ('223', 0.9172342860577332), ('55', 0.840533326087687), ('209', 0.828862209732965), ('54', 0.8100588359715467), ('100', 0.7998588512071804), ('42', 0.7995725787919045), ('160', 0.7505068093374829), ('173', 0.6852902075341306), ('217', 0.6550842141264243), ('101', 0.5968142689475047), ('125', 0.592088816311791), ('49', 0.5551918150560056), ('221', 0.5527951247208607), ('57', 0.5157104425021536), ('25', 0.48710458269719187), ('2', 0.45021044817311345), ('171', 0.4411597089774156), ('38', 0.4085601672719827), ('222', 0.38648814666251075), ('145', 0.3832107261905286), ('21', 0.37853370497390326), ('1', 0.3764108914473412), ('40', 0.373552253198373), ('7', 0.3718826326452129), ('34', 0.3690563490514318), ('214', 0.36795475550184104), ('56', 0.3654330876480983), ('170', 0.35202996876725556), ('210', 0.3303363768863866), ('146', 0.3149045057921381), ('136', 0.3055984698401022), ('23', 0.30449105667883586), ('196', 0.30079373773684925), ('9', 0.2989215853478717), ('219', 0.29885855206284395), ('165', 0.2793868696290222), ('0', 0.2753618682470034), ('191', 0.2745577906462675), ('43', 0.2708357458150982), ('35', 0.26614376280505453), ('139', 0.2620823143094307), ('155', 0.2396228677793882), ('41', 0.2319410893658737), ('137', 0.21557731599439722), ('226', 0.21085879416137504), ('48', 0.20587047838065795), ('93', 0.20082375383170117), ('16', 0.18949435211220594), ('140', 0.16933261973169406), ('208', 0.15249208471359627), ('24', 0.15016941672612194), ('128', 0.1416152258160881), ('158', 0.13941539209328802), ('225', 0.13595017829810344), ('28', 0.1357912260514921), ('172', 0.13544462248871483), ('99', 0.12170428790646255), ('202', 0.11990772626040545), ('29', 0.11645635519545998), ('94', 0.11566715384281619), ('216', 0.10910766314788622), ('154', 0.10857228762803335), ('161', 0.10494172927889625), ('220', 0.10360963274651672), ('5', 0.0960556056120885), ('130', 0.09569533185364361), ('176', 0.089982953837246), ('126', 0.08687044960587523), ('206', 0.08327213440252801), ('135', 0.07754354471740658), ('91', 0.07529415426944212), ('129', 0.07332838486940751), ('178', 0.07194627519334999), ('227', 0.0700954084215639), ('114', 0.06986427357217344), ('22', 0.06549912056923564), ('182', 0.062355010333003176), ('147', 0.059431206948409455), ('177', 0.058636838785730956), ('141', 0.05523586722281088), ('143', 0.05522639091255041)]\n",
      "direct_rad:W\n",
      "sun_elevation:d\n",
      "clear_sky_rad:W\n",
      "direct_rad_1h:J\n",
      "clear_sky_energy_1h:J\n",
      "diffuse_rad:W\n",
      "integral_air_density_2m:kgm3_integral\n",
      "double_integral_total_cloud_cover:p_dintegral\n",
      "integral_effective_cloud_cover:p_integral\n",
      "effective_cloud_cover:p\n",
      "total_cloud_cover:p\n",
      "integral_clear_sky_rad:W_integral\n",
      "double_integral_snow_water:kgm2_dintegral\n",
      "derivative_sun_azimuth:d_d\n",
      "double_integral_elevation:m_dintegral\n",
      "derivative_diffuse_rad:W_d\n",
      "derivative_sun_elevation:d_d\n",
      "double_integral_pressure_100m:hPa_dintegral\n",
      "integral_is_in_shadow:idx_integral\n",
      "integral_wind_speed_v_10m:ms_integral\n",
      "derivative_direct_rad:W_d\n",
      "integral_sfc_pressure:hPa_integral\n",
      "derivative_diffuse_rad_1h:J_d\n",
      "double_derivative_direct_rad:W_dd\n",
      "wind_speed_u_10m:ms\n",
      "double_integral_pressure_50m:hPa_dintegral\n",
      "double_integral_t_1000hPa:K_dintegral\n",
      "integral_super_cooled_liquid_water:kgm2_integral\n",
      "double_derivative_direct_rad_1h:J_dd\n",
      "double_derivative_sun_azimuth:d_dd\n",
      "derivative_clear_sky_rad:W_d\n",
      "integral_wind_speed_10m:ms_integral\n",
      "derivative_effective_cloud_cover:p_d\n",
      "pressure_50m:hPa\n",
      "ceiling_height_agl:m\n",
      "double_integral_sun_elevation:d_dintegral\n",
      "t_1000hPa:K\n",
      "integral_wind_speed_u_10m:ms_integral\n",
      "double_integral_direct_rad:W_dintegral\n",
      "msl_pressure:hPa\n",
      "air_density_2m:kgm3\n",
      "visibility:m\n",
      "dew_point_2m:K\n",
      "snow_water:kgm2\n",
      "integral_snow_water:kgm2_integral\n",
      "derivative_direct_rad_1h:J_d\n",
      "double_integral_sun_azimuth:d_dintegral\n",
      "integral_snow_density:kgm3_integral\n",
      "double_integral_direct_rad_1h:J_dintegral\n",
      "double_integral_air_density_2m:kgm3_dintegral\n",
      "precip_type_5min:idx\n",
      "integral_fresh_snow_24h:cm_integral\n",
      "diffuse_rad_1h:J\n",
      "integral_total_cloud_cover:p_integral\n",
      "double_integral_snow_density:kgm3_dintegral\n",
      "absolute_humidity_2m:gm3\n",
      "integral_direct_rad_1h:J_integral\n",
      "wind_speed_v_10m:ms\n",
      "sun_azimuth:d\n",
      "double_integral_clear_sky_rad:W_dintegral\n",
      "double_integral_is_in_shadow:idx_dintegral\n",
      "wind_speed_10m:ms\n",
      "double_integral_ceiling_height_agl:m_dintegral\n",
      "month:month\n",
      "derivative_clear_sky_energy_1h:J_d\n",
      "double_derivative_clear_sky_energy_1h:J_dd\n",
      "fresh_snow_24h:cm\n",
      "double_integral_cloud_base_agl:m_dintegral\n",
      "integral_relative_humidity_1000hPa:p_integral\n",
      "pressure_100m:hPa\n",
      "double_derivative_t_1000hPa:K_dd\n",
      "double_integral_precip_type_5min:idx_dintegral\n",
      "day_of_year:day\n",
      "relative_humidity_1000hPa:p\n",
      "double_integral_super_cooled_liquid_water:kgm2_dintegral\n",
      "double_derivative_diffuse_rad_1h:J_dd\n",
      "integral_precip_5min:mm_integral\n",
      "sfc_pressure:hPa\n",
      "double_derivative_clear_sky_rad:W_dd\n",
      "integral_sun_elevation:d_integral\n",
      "double_integral_is_day:idx_dintegral\n",
      "double_integral_prob_rime:p_dintegral\n",
      "integral_visibility:m_integral\n",
      "cloud_base_agl:m\n",
      "double_derivative_visibility:m_dd\n",
      "double_integral_wind_speed_10m:ms_dintegral\n",
      "double_derivative_sun_elevation:d_dd\n",
      "integral_prob_rime:p_integral\n",
      "double_integral_absolute_humidity_2m:gm3_dintegral\n",
      "double_derivative_air_density_2m:kgm3_dd\n",
      "double_derivative_total_cloud_cover:p_dd\n",
      "double_integral_wind_speed_v_10m:ms_dintegral\n",
      "hour:hour\n",
      "double_derivative_pressure_100m:hPa_dd\n",
      "precip_5min:mm\n",
      "integral_ceiling_height_agl:m_integral\n",
      "double_integral_effective_cloud_cover:p_dintegral\n",
      "double_integral_wind_speed_u_10m:ms_dintegral\n",
      "double_integral_dew_or_rime:idx_dintegral\n",
      "double_integral_diffuse_rad:W_dintegral\n",
      "['direct_rad:W', 'sun_elevation:d', 'clear_sky_rad:W', 'direct_rad_1h:J', 'clear_sky_energy_1h:J', 'diffuse_rad:W', 'integral_air_density_2m:kgm3_integral', 'double_integral_total_cloud_cover:p_dintegral', 'integral_effective_cloud_cover:p_integral', 'effective_cloud_cover:p', 'total_cloud_cover:p', 'integral_clear_sky_rad:W_integral', 'double_integral_snow_water:kgm2_dintegral', 'derivative_sun_azimuth:d_d', 'double_integral_elevation:m_dintegral', 'derivative_diffuse_rad:W_d', 'derivative_sun_elevation:d_d', 'double_integral_pressure_100m:hPa_dintegral', 'integral_is_in_shadow:idx_integral', 'integral_wind_speed_v_10m:ms_integral', 'derivative_direct_rad:W_d', 'integral_sfc_pressure:hPa_integral', 'derivative_diffuse_rad_1h:J_d', 'double_derivative_direct_rad:W_dd', 'wind_speed_u_10m:ms', 'double_integral_pressure_50m:hPa_dintegral', 'double_integral_t_1000hPa:K_dintegral', 'integral_super_cooled_liquid_water:kgm2_integral', 'double_derivative_direct_rad_1h:J_dd', 'double_derivative_sun_azimuth:d_dd', 'derivative_clear_sky_rad:W_d', 'integral_wind_speed_10m:ms_integral', 'derivative_effective_cloud_cover:p_d', 'pressure_50m:hPa', 'ceiling_height_agl:m', 'double_integral_sun_elevation:d_dintegral', 't_1000hPa:K', 'integral_wind_speed_u_10m:ms_integral', 'double_integral_direct_rad:W_dintegral', 'msl_pressure:hPa', 'air_density_2m:kgm3', 'visibility:m', 'dew_point_2m:K', 'snow_water:kgm2', 'integral_snow_water:kgm2_integral', 'derivative_direct_rad_1h:J_d', 'double_integral_sun_azimuth:d_dintegral', 'integral_snow_density:kgm3_integral', 'double_integral_direct_rad_1h:J_dintegral', 'double_integral_air_density_2m:kgm3_dintegral', 'precip_type_5min:idx', 'integral_fresh_snow_24h:cm_integral', 'diffuse_rad_1h:J', 'integral_total_cloud_cover:p_integral', 'double_integral_snow_density:kgm3_dintegral', 'absolute_humidity_2m:gm3', 'integral_direct_rad_1h:J_integral', 'wind_speed_v_10m:ms', 'sun_azimuth:d', 'double_integral_clear_sky_rad:W_dintegral', 'double_integral_is_in_shadow:idx_dintegral', 'wind_speed_10m:ms', 'double_integral_ceiling_height_agl:m_dintegral', 'month:month', 'derivative_clear_sky_energy_1h:J_d', 'double_derivative_clear_sky_energy_1h:J_dd', 'fresh_snow_24h:cm', 'double_integral_cloud_base_agl:m_dintegral', 'integral_relative_humidity_1000hPa:p_integral', 'pressure_100m:hPa', 'double_derivative_t_1000hPa:K_dd', 'double_integral_precip_type_5min:idx_dintegral', 'day_of_year:day', 'relative_humidity_1000hPa:p', 'double_integral_super_cooled_liquid_water:kgm2_dintegral', 'double_derivative_diffuse_rad_1h:J_dd', 'integral_precip_5min:mm_integral', 'sfc_pressure:hPa', 'double_derivative_clear_sky_rad:W_dd', 'integral_sun_elevation:d_integral', 'double_integral_is_day:idx_dintegral', 'double_integral_prob_rime:p_dintegral', 'integral_visibility:m_integral', 'cloud_base_agl:m', 'double_derivative_visibility:m_dd', 'double_integral_wind_speed_10m:ms_dintegral', 'double_derivative_sun_elevation:d_dd', 'integral_prob_rime:p_integral', 'double_integral_absolute_humidity_2m:gm3_dintegral', 'double_derivative_air_density_2m:kgm3_dd', 'double_derivative_total_cloud_cover:p_dd', 'double_integral_wind_speed_v_10m:ms_dintegral', 'hour:hour', 'double_derivative_pressure_100m:hPa_dd', 'precip_5min:mm', 'integral_ceiling_height_agl:m_integral', 'double_integral_effective_cloud_cover:p_dintegral', 'double_integral_wind_speed_u_10m:ms_dintegral', 'double_integral_dew_or_rime:idx_dintegral', 'double_integral_diffuse_rad:W_dintegral']\n"
     ]
    }
   ],
   "source": [
    "N = 100\n",
    "\n",
    "feature_importance = model.get_feature_importance()\n",
    "\n",
    "# Pair feature names with their importance scores\n",
    "feature_importance_dict = dict(zip(model.feature_names_, feature_importance))\n",
    "\n",
    "# Sort features by importance\n",
    "sorted_feature_importance = sorted(feature_importance_dict.items(), key=lambda x: x[1], reverse=True)\n",
    "\n",
    "# Print or use the top features\n",
    "top_features = sorted_feature_importance[:N]  # Replace N with the number of top features you want\n",
    "print(top_features)\n",
    "labels = list(X.columns.values)\n",
    "\n",
    "best_features = []\n",
    "for feat in top_features:\n",
    "    print(labels[int(feat[0])])\n",
    "    best_features.append(labels[int(feat[0])])\n",
    "print(best_features)"
   ]
  },
  {
   "cell_type": "code",
   "execution_count": null,
   "metadata": {},
   "outputs": [
    {
     "name": "stderr",
     "output_type": "stream",
     "text": [
      "c:\\Users\\isakasa\\OneDrive - NTNU\\Documents\\UNI\\TDT4173 Machine Learning\\group-project\\TDT4173-Machine-Learning-Solar-Energy-Production-Forecasting\\data\\feature_generation.py:52: FutureWarning: DataFrame.fillna with 'method' is deprecated and will raise in a future version. Use obj.ffill() or obj.bfill() instead.\n",
      "  dder_df = dder_df.fillna(method=\"backfill\", axis=None)\n"
     ]
    }
   ],
   "source": [
    "X_pred = X_test_estimated_a\n",
    "X_pred = data_pipe.pred_data_processing(X_pred)\n",
    "\n",
    "X_val = scaler.transform(X_pred)\n",
    "pred = model.predict(X_val)\n",
    "pred_df = pd.DataFrame(pred)\n",
    "pred_df.to_csv('C_Pred.csv')"
   ]
  },
  {
   "cell_type": "markdown",
   "metadata": {},
   "source": [
    "### Plotting\n",
    "Adding a set of plotts to see how well the machine-learning model performs graphically.\n",
    "\n",
    "TODO: We should probably plot the data-values that perform the worst."
   ]
  },
  {
   "cell_type": "code",
   "execution_count": null,
   "metadata": {},
   "outputs": [
    {
     "data": {
      "image/png": "[encoded data removed]",
      "text/plain": [
       "<Figure size 640x480 with 1 Axes>"
      ]
     },
     "metadata": {},
     "output_type": "display_data"
    }
   ],
   "source": [
    "# Create a set of predictors :/\n",
    "# Predict when 0\n",
    "# Predict when larger than 0\n",
    "# Predict when max value occurs\n",
    "# PRedict when \n",
    " \n",
    "x_ax = range(len(pred))\n",
    "\n",
    "plt.plot(x_ax, pred[:], lw=0.8, color=\"red\", label=\"predicted\")\n",
    "\n",
    "plt.legend()\n",
    "plt.show()\n"
   ]
  },
  {
   "cell_type": "markdown",
   "metadata": {},
   "source": []
  }
 ],
 "metadata": {
  "kernelspec": {
   "display_name": "basic_machine_learning",
   "language": "python",
   "name": "python3"
  },
  "language_info": {
   "codemirror_mode": {
    "name": "ipython",
    "version": 3
   },
   "file_extension": ".py",
   "mimetype": "text/x-python",
   "name": "python",
   "nbconvert_exporter": "python",
   "pygments_lexer": "ipython3",
   "version": "3.11.4"
  },
  "orig_nbformat": 4
 },
 "nbformat": 4,
 "nbformat_minor": 2
}
